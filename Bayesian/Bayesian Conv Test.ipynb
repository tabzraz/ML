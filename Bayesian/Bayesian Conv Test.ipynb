{
 "cells": [
  {
   "cell_type": "code",
   "execution_count": 1,
   "metadata": {
    "collapsed": true
   },
   "outputs": [],
   "source": [
    "from __future__ import division"
   ]
  },
  {
   "cell_type": "code",
   "execution_count": 2,
   "metadata": {
    "collapsed": false
   },
   "outputs": [
    {
     "name": "stdout",
     "output_type": "stream",
     "text": [
      "hdf5 not supported (please install/reinstall h5py)\n"
     ]
    }
   ],
   "source": [
    "import tensorflow as tf\n",
    "import tflearn"
   ]
  },
  {
   "cell_type": "code",
   "execution_count": 3,
   "metadata": {
    "collapsed": true
   },
   "outputs": [],
   "source": [
    "import numpy as np"
   ]
  },
  {
   "cell_type": "code",
   "execution_count": 4,
   "metadata": {
    "collapsed": true
   },
   "outputs": [],
   "source": [
    "sess = tf.Session()\n",
    "# sess = tf_debug.LocalCLIDebugWrapperSession(sess)\n",
    "lr = tf.placeholder(tf.float32, shape=[])\n",
    "optim = tf.train.AdamOptimizer(learning_rate=lr)\n",
    "# sgd_optim = tf.train.GradientDescentOptimizer(learning_rate=lr)"
   ]
  },
  {
   "cell_type": "code",
   "execution_count": 5,
   "metadata": {
    "collapsed": false
   },
   "outputs": [
    {
     "name": "stdout",
     "output_type": "stream",
     "text": [
      "Extracting MNIST_data/train-images-idx3-ubyte.gz\n",
      "Extracting MNIST_data/train-labels-idx1-ubyte.gz\n",
      "Extracting MNIST_data/t10k-images-idx3-ubyte.gz\n",
      "Extracting MNIST_data/t10k-labels-idx1-ubyte.gz\n"
     ]
    }
   ],
   "source": [
    "from tensorflow.examples.tutorials.mnist import input_data\n",
    "mnist = input_data.read_data_sets('MNIST_data', one_hot=True)"
   ]
  },
  {
   "cell_type": "code",
   "execution_count": 6,
   "metadata": {
    "collapsed": false
   },
   "outputs": [],
   "source": [
    "data_size = mnist.train.num_examples"
   ]
  },
  {
   "cell_type": "code",
   "execution_count": 7,
   "metadata": {
    "collapsed": false
   },
   "outputs": [],
   "source": [
    "from tqdm import tqdm"
   ]
  },
  {
   "cell_type": "code",
   "execution_count": 8,
   "metadata": {
    "collapsed": false
   },
   "outputs": [
    {
     "data": {
      "text/html": [
       "\n",
       "    <div class=\"bk-root\">\n",
       "        <a href=\"http://bokeh.pydata.org\" target=\"_blank\" class=\"bk-logo bk-logo-small bk-logo-notebook\"></a>\n",
       "        <span id=\"65077cec-412e-47e4-92fd-a712f5d6fa81\">Loading BokehJS ...</span>\n",
       "    </div>"
      ]
     },
     "metadata": {},
     "output_type": "display_data"
    },
    {
     "data": {
      "application/javascript": [
       "\n",
       "(function(global) {\n",
       "  function now() {\n",
       "    return new Date();\n",
       "  }\n",
       "\n",
       "  var force = \"1\";\n",
       "\n",
       "  if (typeof (window._bokeh_onload_callbacks) === \"undefined\" || force !== \"\") {\n",
       "    window._bokeh_onload_callbacks = [];\n",
       "    window._bokeh_is_loading = undefined;\n",
       "  }\n",
       "\n",
       "\n",
       "  \n",
       "  if (typeof (window._bokeh_timeout) === \"undefined\" || force !== \"\") {\n",
       "    window._bokeh_timeout = Date.now() + 5000;\n",
       "    window._bokeh_failed_load = false;\n",
       "  }\n",
       "\n",
       "  var NB_LOAD_WARNING = {'data': {'text/html':\n",
       "     \"<div style='background-color: #fdd'>\\n\"+\n",
       "     \"<p>\\n\"+\n",
       "     \"BokehJS does not appear to have successfully loaded. If loading BokehJS from CDN, this \\n\"+\n",
       "     \"may be due to a slow or bad network connection. Possible fixes:\\n\"+\n",
       "     \"</p>\\n\"+\n",
       "     \"<ul>\\n\"+\n",
       "     \"<li>re-rerun `output_notebook()` to attempt to load from CDN again, or</li>\\n\"+\n",
       "     \"<li>use INLINE resources instead, as so:</li>\\n\"+\n",
       "     \"</ul>\\n\"+\n",
       "     \"<code>\\n\"+\n",
       "     \"from bokeh.resources import INLINE\\n\"+\n",
       "     \"output_notebook(resources=INLINE)\\n\"+\n",
       "     \"</code>\\n\"+\n",
       "     \"</div>\"}};\n",
       "\n",
       "  function display_loaded() {\n",
       "    if (window.Bokeh !== undefined) {\n",
       "      Bokeh.$(\"#65077cec-412e-47e4-92fd-a712f5d6fa81\").text(\"BokehJS successfully loaded.\");\n",
       "    } else if (Date.now() < window._bokeh_timeout) {\n",
       "      setTimeout(display_loaded, 100)\n",
       "    }\n",
       "  }\n",
       "\n",
       "  function run_callbacks() {\n",
       "    window._bokeh_onload_callbacks.forEach(function(callback) { callback() });\n",
       "    delete window._bokeh_onload_callbacks\n",
       "    console.info(\"Bokeh: all callbacks have finished\");\n",
       "  }\n",
       "\n",
       "  function load_libs(js_urls, callback) {\n",
       "    window._bokeh_onload_callbacks.push(callback);\n",
       "    if (window._bokeh_is_loading > 0) {\n",
       "      console.log(\"Bokeh: BokehJS is being loaded, scheduling callback at\", now());\n",
       "      return null;\n",
       "    }\n",
       "    if (js_urls == null || js_urls.length === 0) {\n",
       "      run_callbacks();\n",
       "      return null;\n",
       "    }\n",
       "    console.log(\"Bokeh: BokehJS not loaded, scheduling load and callback at\", now());\n",
       "    window._bokeh_is_loading = js_urls.length;\n",
       "    for (var i = 0; i < js_urls.length; i++) {\n",
       "      var url = js_urls[i];\n",
       "      var s = document.createElement('script');\n",
       "      s.src = url;\n",
       "      s.async = false;\n",
       "      s.onreadystatechange = s.onload = function() {\n",
       "        window._bokeh_is_loading--;\n",
       "        if (window._bokeh_is_loading === 0) {\n",
       "          console.log(\"Bokeh: all BokehJS libraries loaded\");\n",
       "          run_callbacks()\n",
       "        }\n",
       "      };\n",
       "      s.onerror = function() {\n",
       "        console.warn(\"failed to load library \" + url);\n",
       "      };\n",
       "      console.log(\"Bokeh: injecting script tag for BokehJS library: \", url);\n",
       "      document.getElementsByTagName(\"head\")[0].appendChild(s);\n",
       "    }\n",
       "  };var element = document.getElementById(\"65077cec-412e-47e4-92fd-a712f5d6fa81\");\n",
       "  if (element == null) {\n",
       "    console.log(\"Bokeh: ERROR: autoload.js configured with elementid '65077cec-412e-47e4-92fd-a712f5d6fa81' but no matching script tag was found. \")\n",
       "    return false;\n",
       "  }\n",
       "\n",
       "  var js_urls = ['https://cdn.pydata.org/bokeh/release/bokeh-0.12.3.min.js', 'https://cdn.pydata.org/bokeh/release/bokeh-widgets-0.12.3.min.js'];\n",
       "\n",
       "  var inline_js = [\n",
       "    function(Bokeh) {\n",
       "      Bokeh.set_log_level(\"info\");\n",
       "    },\n",
       "    \n",
       "    function(Bokeh) {\n",
       "      \n",
       "      Bokeh.$(\"#65077cec-412e-47e4-92fd-a712f5d6fa81\").text(\"BokehJS is loading...\");\n",
       "    },\n",
       "    function(Bokeh) {\n",
       "      console.log(\"Bokeh: injecting CSS: https://cdn.pydata.org/bokeh/release/bokeh-0.12.3.min.css\");\n",
       "      Bokeh.embed.inject_css(\"https://cdn.pydata.org/bokeh/release/bokeh-0.12.3.min.css\");\n",
       "      console.log(\"Bokeh: injecting CSS: https://cdn.pydata.org/bokeh/release/bokeh-widgets-0.12.3.min.css\");\n",
       "      Bokeh.embed.inject_css(\"https://cdn.pydata.org/bokeh/release/bokeh-widgets-0.12.3.min.css\");\n",
       "    }\n",
       "  ];\n",
       "\n",
       "  function run_inline_js() {\n",
       "    \n",
       "    if ((window.Bokeh !== undefined) || (force === \"1\")) {\n",
       "      for (var i = 0; i < inline_js.length; i++) {\n",
       "        inline_js[i](window.Bokeh);\n",
       "      }if (force === \"1\") {\n",
       "        display_loaded();\n",
       "      }} else if (Date.now() < window._bokeh_timeout) {\n",
       "      setTimeout(run_inline_js, 100);\n",
       "    } else if (!window._bokeh_failed_load) {\n",
       "      console.log(\"Bokeh: BokehJS failed to load within specified timeout.\");\n",
       "      window._bokeh_failed_load = true;\n",
       "    } else if (!force) {\n",
       "      var cell = $(\"#65077cec-412e-47e4-92fd-a712f5d6fa81\").parents('.cell').data().cell;\n",
       "      cell.output_area.append_execute_result(NB_LOAD_WARNING)\n",
       "    }\n",
       "\n",
       "  }\n",
       "\n",
       "  if (window._bokeh_is_loading === 0) {\n",
       "    console.log(\"Bokeh: BokehJS loaded, going straight to plotting\");\n",
       "    run_inline_js();\n",
       "  } else {\n",
       "    load_libs(js_urls, function() {\n",
       "      console.log(\"Bokeh: BokehJS plotting callback run at\", now());\n",
       "      run_inline_js();\n",
       "    });\n",
       "  }\n",
       "}(this));"
      ]
     },
     "metadata": {},
     "output_type": "display_data"
    }
   ],
   "source": [
    "from bokeh.plotting import figure, output_notebook, show\n",
    "output_notebook()"
   ]
  },
  {
   "cell_type": "code",
   "execution_count": 9,
   "metadata": {
    "collapsed": false
   },
   "outputs": [],
   "source": [
    "# import BayesianNN"
   ]
  },
  {
   "cell_type": "code",
   "execution_count": 10,
   "metadata": {
    "collapsed": true
   },
   "outputs": [],
   "source": [
    "# bnn = BayesianNN.BayesianFC([4,32,32,1])"
   ]
  },
  {
   "cell_type": "code",
   "execution_count": 11,
   "metadata": {
    "collapsed": true
   },
   "outputs": [],
   "source": [
    "import Bayesian_Conv_Layer, Bayesian_FC_Layer, Bayesian_Net"
   ]
  },
  {
   "cell_type": "code",
   "execution_count": 12,
   "metadata": {
    "collapsed": true
   },
   "outputs": [],
   "source": [
    "def bbnet(i, o, mean_init, std_init, prior_mean, prior_std, activation=tf.nn.relu):\n",
    "    return Bayesian_FC_Layer.Bayesian_FC(i, o, \n",
    "                                         qw_mean_initial=mean_init, \n",
    "                                         qw_std_initial=std_init, \n",
    "                                         qb_std_initial=std_init,\n",
    "                                         pw_mean=prior_mean,\n",
    "                                         pw_sigma=prior_std,\n",
    "                                         pb_mean=prior_mean,\n",
    "                                         pb_sigma=prior_std,\n",
    "                                         activation=activation\n",
    "                                         )"
   ]
  },
  {
   "cell_type": "code",
   "execution_count": 13,
   "metadata": {
    "collapsed": true
   },
   "outputs": [],
   "source": [
    "def bbnet_conv(i, f, stride, mean_init, std_init, prior_mean, prior_std, activation=tf.nn.relu):\n",
    "    return Bayesian_Conv_Layer.Bayesian_Conv(i, f, filter_stride=stride, \n",
    "                                         qw_mean_initial=mean_init, \n",
    "                                         qw_std_initial=std_init, \n",
    "                                         qb_std_initial=std_init,\n",
    "                                         pw_mean=prior_mean,\n",
    "                                         pw_sigma=prior_std,\n",
    "                                         pb_mean=prior_mean,\n",
    "                                         pb_sigma=prior_std,\n",
    "                                         activation=activation\n",
    "                                         )"
   ]
  },
  {
   "cell_type": "code",
   "execution_count": 14,
   "metadata": {
    "collapsed": false
   },
   "outputs": [],
   "source": [
    "std_init = 0.1\n",
    "mean_init = 0.0\n",
    "prior_mean = 0.0\n",
    "prior_std = 1.0\n",
    "l1 = bbnet_conv(1, 8, 2, mean_init, std_init, prior_mean, prior_std)\n",
    "l2 = bbnet_conv(8, 8, 2, mean_init, std_init, prior_mean, prior_std)\n",
    "l3 = bbnet(288, 10, mean_init, std_init, prior_mean, prior_std, activation=tf.nn.softmax)\n",
    "\n",
    "def bnet_model(input_tensor, local_reparam_trick=False):\n",
    "    input_tensor = tf.reshape(input_tensor, shape=[-1,28,28,1])\n",
    "    \n",
    "    net = l1.sample(input_tensor, local_reparam_trick)\n",
    "    net = l2.sample(net, local_reparam_trick)\n",
    "    \n",
    "    size = tf.reduce_prod(tf.shape(net)[1:])\n",
    "    # Flatten\n",
    "    net = tf.reshape(net, shape=[-1, size])\n",
    "    \n",
    "    net_out = l3.sample(net, local_reparam_trick)\n",
    "    \n",
    "    return net_out\n",
    "# l1 = Bayesian_FC_Layer.Bayesian_FC(4, 32, qw_mean_initial=mean_init, qw_std_initial=std_init, qb_std_initial=std_init)\n",
    "# l2 = Bayesian_FC_Layer.Bayesian_FC(32, 32, qw_mean_initial=mean_init, qw_std_initial=std_init, qb_std_initial=std_init)\n",
    "# l3 = Bayesian_FC_Layer.Bayesian_FC(32, 32, qw_mean_initial=mean_init, qw_std_initial=std_init, qb_std_initial=std_init)\n",
    "# l4 = Bayesian_FC_Layer.Bayesian_FC(32, 32, qw_mean_initial=mean_init, qw_std_initial=std_init, qb_std_initial=std_init)\n",
    "# l5 = Bayesian_FC_Layer.Bayesian_FC(32, 1, activation=tf.identity, qw_mean_initial=mean_init, qw_std_initial=std_init, qb_std_initial=std_init)"
   ]
  },
  {
   "cell_type": "code",
   "execution_count": 15,
   "metadata": {
    "collapsed": true
   },
   "outputs": [],
   "source": [
    "def bnet_prob(pred, target):\n",
    "    return pred * target"
   ]
  },
  {
   "cell_type": "code",
   "execution_count": 16,
   "metadata": {
    "collapsed": false
   },
   "outputs": [],
   "source": [
    "bnet = Bayesian_Net.Bayesian_Net([l1, l2, l3], bnet_prob)"
   ]
  },
  {
   "cell_type": "code",
   "execution_count": 17,
   "metadata": {
    "collapsed": true
   },
   "outputs": [],
   "source": [
    "batch_size = 128"
   ]
  },
  {
   "cell_type": "code",
   "execution_count": 18,
   "metadata": {
    "collapsed": true
   },
   "outputs": [],
   "source": [
    "epochs = 5000"
   ]
  },
  {
   "cell_type": "code",
   "execution_count": 19,
   "metadata": {
    "collapsed": false
   },
   "outputs": [],
   "source": [
    "bnn_data_input = tf.placeholder(tf.float32, shape=[None, 28*28*1])\n",
    "bnn_data_target = tf.placeholder(tf.float32, shape=[None, 10])\n",
    "kls = tf.placeholder(tf.float32, shape=[])\n",
    "\n",
    "bnet_loss, klloss, dataloss = bnet.loss(bnn_data_input, bnet_model, bnn_data_target,kl_scaling=kls, N=8)\n",
    "bnet_output = bnet_model(bnn_data_input, local_reparam_trick=False)\n",
    "\n",
    "copy_old = bnet.copy_variational_parameters()\n",
    "kl_div = bnet.kl_new_and_old()\n",
    "\n",
    "correct_preds = tf.equal(tf.argmax(bnet_output, 1), tf.argmax(bnn_data_target, 1))\n",
    "accuracy = tf.reduce_mean(tf.cast(correct_preds, tf.float32))\n",
    "\n",
    "grads_to_apply = optim.compute_gradients(bnet_loss)\n",
    "# print(grads_to_apply)\n",
    "\n",
    "clipped_policy_grads = []\n",
    "for (grad, var) in grads_to_apply:\n",
    "    if grad is not None:\n",
    "        clipped_policy_grads.append((tf.clip_by_norm(grad, 10), var))\n",
    "\n",
    "# clipped_policy_grads = grads_to_apply\n",
    "grad_op = optim.apply_gradients(clipped_policy_grads)\n",
    "\n",
    "sess.run(tf.global_variables_initializer())"
   ]
  },
  {
   "cell_type": "code",
   "execution_count": 20,
   "metadata": {
    "collapsed": true
   },
   "outputs": [],
   "source": [
    "bnn_lr = 0.001"
   ]
  },
  {
   "cell_type": "code",
   "execution_count": 21,
   "metadata": {
    "collapsed": true
   },
   "outputs": [],
   "source": [
    "epoch_loss=[]\n",
    "kl_loss=[]\n",
    "data_loss=[]\n",
    "kl_divs=[]\n",
    "accs=[]"
   ]
  },
  {
   "cell_type": "code",
   "execution_count": 22,
   "metadata": {
    "collapsed": false
   },
   "outputs": [
    {
     "name": "stderr",
     "output_type": "stream",
     "text": [
      "100%|██████████| 5000/5000 [07:48<00:00, 10.68it/s]\n"
     ]
    }
   ],
   "source": [
    "for e in tqdm(range(epochs)):\n",
    "    \n",
    "    x, y = mnist.train.next_batch(batch_size)\n",
    "    \n",
    "    kl = batch_size/data_size  \n",
    "    \n",
    "    feed_dict={kls:kl, bnn_data_input: x, bnn_data_target:y, lr:bnn_lr}\n",
    "    \n",
    "    _, l, kloss, dloss = sess.run([grad_op, bnet_loss, klloss, dataloss], feed_dict=feed_dict)\n",
    "\n",
    "    epoch_loss.append(l)\n",
    "    \n",
    "    if e % 50 == 0 and e > 0:\n",
    "        div = sess.run(kl_div)\n",
    "        sess.run(copy_old)\n",
    "        kl_divs.append(div)\n",
    "    \n",
    "    if e % 5 == 0:\n",
    "        epoch_loss.append(l) \n",
    "        kl_loss.append(kloss)\n",
    "        data_loss.append(dloss)\n",
    "        \n",
    "    if e % 10 == 0:\n",
    "        test_dict = {bnn_data_input: mnist.test.images, bnn_data_target: mnist.test.labels}\n",
    "        acc = sess.run([accuracy], feed_dict=test_dict)\n",
    "        accs.append(acc)"
   ]
  },
  {
   "cell_type": "code",
   "execution_count": 23,
   "metadata": {
    "collapsed": false
   },
   "outputs": [
    {
     "data": {
      "text/html": [
       "\n",
       "\n",
       "    <div class=\"bk-root\">\n",
       "        <div class=\"plotdiv\" id=\"b17e194f-67e2-4693-ad6f-8a569997a230\"></div>\n",
       "    </div>\n",
       "<script type=\"text/javascript\">\n",
       "  \n",
       "  (function(global) {\n",
       "    function now() {\n",
       "      return new Date();\n",
       "    }\n",
       "  \n",
       "    var force = \"\";\n",
       "  \n",
       "    if (typeof (window._bokeh_onload_callbacks) === \"undefined\" || force !== \"\") {\n",
       "      window._bokeh_onload_callbacks = [];\n",
       "      window._bokeh_is_loading = undefined;\n",
       "    }\n",
       "  \n",
       "  \n",
       "    \n",
       "    if (typeof (window._bokeh_timeout) === \"undefined\" || force !== \"\") {\n",
       "      window._bokeh_timeout = Date.now() + 0;\n",
       "      window._bokeh_failed_load = false;\n",
       "    }\n",
       "  \n",
       "    var NB_LOAD_WARNING = {'data': {'text/html':\n",
       "       \"<div style='background-color: #fdd'>\\n\"+\n",
       "       \"<p>\\n\"+\n",
       "       \"BokehJS does not appear to have successfully loaded. If loading BokehJS from CDN, this \\n\"+\n",
       "       \"may be due to a slow or bad network connection. Possible fixes:\\n\"+\n",
       "       \"</p>\\n\"+\n",
       "       \"<ul>\\n\"+\n",
       "       \"<li>re-rerun `output_notebook()` to attempt to load from CDN again, or</li>\\n\"+\n",
       "       \"<li>use INLINE resources instead, as so:</li>\\n\"+\n",
       "       \"</ul>\\n\"+\n",
       "       \"<code>\\n\"+\n",
       "       \"from bokeh.resources import INLINE\\n\"+\n",
       "       \"output_notebook(resources=INLINE)\\n\"+\n",
       "       \"</code>\\n\"+\n",
       "       \"</div>\"}};\n",
       "  \n",
       "    function display_loaded() {\n",
       "      if (window.Bokeh !== undefined) {\n",
       "        Bokeh.$(\"#b17e194f-67e2-4693-ad6f-8a569997a230\").text(\"BokehJS successfully loaded.\");\n",
       "      } else if (Date.now() < window._bokeh_timeout) {\n",
       "        setTimeout(display_loaded, 100)\n",
       "      }\n",
       "    }\n",
       "  \n",
       "    function run_callbacks() {\n",
       "      window._bokeh_onload_callbacks.forEach(function(callback) { callback() });\n",
       "      delete window._bokeh_onload_callbacks\n",
       "      console.info(\"Bokeh: all callbacks have finished\");\n",
       "    }\n",
       "  \n",
       "    function load_libs(js_urls, callback) {\n",
       "      window._bokeh_onload_callbacks.push(callback);\n",
       "      if (window._bokeh_is_loading > 0) {\n",
       "        console.log(\"Bokeh: BokehJS is being loaded, scheduling callback at\", now());\n",
       "        return null;\n",
       "      }\n",
       "      if (js_urls == null || js_urls.length === 0) {\n",
       "        run_callbacks();\n",
       "        return null;\n",
       "      }\n",
       "      console.log(\"Bokeh: BokehJS not loaded, scheduling load and callback at\", now());\n",
       "      window._bokeh_is_loading = js_urls.length;\n",
       "      for (var i = 0; i < js_urls.length; i++) {\n",
       "        var url = js_urls[i];\n",
       "        var s = document.createElement('script');\n",
       "        s.src = url;\n",
       "        s.async = false;\n",
       "        s.onreadystatechange = s.onload = function() {\n",
       "          window._bokeh_is_loading--;\n",
       "          if (window._bokeh_is_loading === 0) {\n",
       "            console.log(\"Bokeh: all BokehJS libraries loaded\");\n",
       "            run_callbacks()\n",
       "          }\n",
       "        };\n",
       "        s.onerror = function() {\n",
       "          console.warn(\"failed to load library \" + url);\n",
       "        };\n",
       "        console.log(\"Bokeh: injecting script tag for BokehJS library: \", url);\n",
       "        document.getElementsByTagName(\"head\")[0].appendChild(s);\n",
       "      }\n",
       "    };var element = document.getElementById(\"b17e194f-67e2-4693-ad6f-8a569997a230\");\n",
       "    if (element == null) {\n",
       "      console.log(\"Bokeh: ERROR: autoload.js configured with elementid 'b17e194f-67e2-4693-ad6f-8a569997a230' but no matching script tag was found. \")\n",
       "      return false;\n",
       "    }\n",
       "  \n",
       "    var js_urls = [];\n",
       "  \n",
       "    var inline_js = [\n",
       "      function(Bokeh) {\n",
       "        Bokeh.$(function() {\n",
       "            var docs_json = {\"e1f23e16-de3a-448d-b8c6-4eedfd43b74f\":{\"roots\":{\"references\":[{\"attributes\":{},\"id\":\"fe9bb40e-6e17-4605-b2fe-e69ea38b30a8\",\"type\":\"BasicTicker\"},{\"attributes\":{\"formatter\":{\"id\":\"15c9481e-193d-487f-b639-b1e1886203e4\",\"type\":\"BasicTickFormatter\"},\"plot\":{\"id\":\"ce8709ac-d060-4d46-8693-54426371147d\",\"subtype\":\"Figure\",\"type\":\"Plot\"},\"ticker\":{\"id\":\"fe9bb40e-6e17-4605-b2fe-e69ea38b30a8\",\"type\":\"BasicTicker\"}},\"id\":\"5882fa05-5651-4657-995c-c18d5fed89ce\",\"type\":\"LinearAxis\"},{\"attributes\":{\"formatter\":{\"id\":\"b65d9142-82d4-4f6d-8c65-d83beac8e769\",\"type\":\"BasicTickFormatter\"},\"plot\":{\"id\":\"ce8709ac-d060-4d46-8693-54426371147d\",\"subtype\":\"Figure\",\"type\":\"Plot\"},\"ticker\":{\"id\":\"154cc169-0c08-4939-a0a9-1bc84c80d929\",\"type\":\"BasicTicker\"}},\"id\":\"0075bf01-d32c-4893-9389-72af95269696\",\"type\":\"LinearAxis\"},{\"attributes\":{\"callback\":null},\"id\":\"02ca91da-d210-447b-a9fa-e3f3b8fdaee4\",\"type\":\"DataRange1d\"},{\"attributes\":{},\"id\":\"154cc169-0c08-4939-a0a9-1bc84c80d929\",\"type\":\"BasicTicker\"},{\"attributes\":{\"data_source\":{\"id\":\"b5e30488-3498-4a80-b99a-f1f5b6914136\",\"type\":\"ColumnDataSource\"},\"glyph\":{\"id\":\"3e8ab9b1-58be-4372-8cbe-bc7c08a1d084\",\"type\":\"Line\"},\"hover_glyph\":null,\"nonselection_glyph\":{\"id\":\"865cba9a-8e36-444f-a460-81701e4d4149\",\"type\":\"Line\"},\"selection_glyph\":null},\"id\":\"2c6f4198-e017-4327-a0b3-38673ecf8981\",\"type\":\"GlyphRenderer\"},{\"attributes\":{},\"id\":\"15c9481e-193d-487f-b639-b1e1886203e4\",\"type\":\"BasicTickFormatter\"},{\"attributes\":{\"dimension\":1,\"plot\":{\"id\":\"ce8709ac-d060-4d46-8693-54426371147d\",\"subtype\":\"Figure\",\"type\":\"Plot\"},\"ticker\":{\"id\":\"154cc169-0c08-4939-a0a9-1bc84c80d929\",\"type\":\"BasicTicker\"}},\"id\":\"4a24f556-c43a-490f-9bde-54b910b33916\",\"type\":\"Grid\"},{\"attributes\":{\"active_drag\":\"auto\",\"active_scroll\":\"auto\",\"active_tap\":\"auto\",\"tools\":[{\"id\":\"ce6e1383-b00e-48fe-8d49-b3c9925688f2\",\"type\":\"PanTool\"},{\"id\":\"31de236d-690a-4f12-86ed-5e6359d3582f\",\"type\":\"WheelZoomTool\"},{\"id\":\"0ee5c32a-fea1-42a0-868e-72e9b4efd3bb\",\"type\":\"BoxZoomTool\"},{\"id\":\"6bc71f8c-4f25-4065-b470-1e5ddfbcbe81\",\"type\":\"SaveTool\"},{\"id\":\"2d75386c-e7e1-40ed-8880-7b89556f264e\",\"type\":\"ResetTool\"},{\"id\":\"997be97f-2ad2-4133-b08f-515839d39c20\",\"type\":\"HelpTool\"}]},\"id\":\"6e3dc682-6209-4b59-93f4-8ca4d5e1437f\",\"type\":\"Toolbar\"},{\"attributes\":{\"overlay\":{\"id\":\"60a7e59d-d7f2-48bc-9915-03a580d347af\",\"type\":\"BoxAnnotation\"},\"plot\":{\"id\":\"ce8709ac-d060-4d46-8693-54426371147d\",\"subtype\":\"Figure\",\"type\":\"Plot\"}},\"id\":\"0ee5c32a-fea1-42a0-868e-72e9b4efd3bb\",\"type\":\"BoxZoomTool\"},{\"attributes\":{\"line_alpha\":{\"value\":0.1},\"line_color\":{\"value\":\"#1f77b4\"},\"line_width\":{\"value\":0.5},\"x\":{\"field\":\"x\"},\"y\":{\"field\":\"y\"}},\"id\":\"865cba9a-8e36-444f-a460-81701e4d4149\",\"type\":\"Line\"},{\"attributes\":{\"callback\":null,\"column_names\":[\"y\",\"x\"],\"data\":{\"x\":[0,1,2,3,4,5,6,7,8,9,10,11,12,13,14,15,16,17,18,19,20,21,22,23,24,25,26,27,28,29,30,31,32,33,34,35,36,37,38,39,40,41,42,43,44,45,46,47,48,49,50,51,52,53,54,55,56,57,58,59,60,61,62,63,64,65,66,67,68,69,70,71,72,73,74,75,76,77,78,79,80,81,82,83,84,85,86,87,88,89,90,91,92,93,94,95,96,97,98,99,100,101,102,103,104,105,106,107,108,109,110,111,112,113,114,115,116,117,118,119,120,121,122,123,124,125,126,127,128,129,130,131,132,133,134,135,136,137,138,139,140,141,142,143,144,145,146,147,148,149,150,151,152,153,154,155,156,157,158,159,160,161,162,163,164,165,166,167,168,169,170,171,172,173,174,175,176,177,178,179,180,181,182,183,184,185,186,187,188,189,190,191,192,193,194,195,196,197,198,199,200,201,202,203,204,205,206,207,208,209,210,211,212,213,214,215,216,217,218,219,220,221,222,223,224,225,226,227,228,229,230,231,232,233,234,235,236,237,238,239,240,241,242,243,244,245,246,247,248,249,250,251,252,253,254,255,256,257,258,259,260,261,262,263,264,265,266,267,268,269,270,271,272,273,274,275,276,277,278,279,280,281,282,283,284,285,286,287,288,289,290,291,292,293,294,295,296,297,298,299,300,301,302,303,304,305,306,307,308,309,310,311,312,313,314,315,316,317,318,319,320,321,322,323,324,325,326,327,328,329,330,331,332,333,334,335,336,337,338,339,340,341,342,343,344,345,346,347,348,349,350,351,352,353,354,355,356,357,358,359,360,361,362,363,364,365,366,367,368,369,370,371,372,373,374,375,376,377,378,379,380,381,382,383,384,385,386,387,388,389,390,391,392,393,394,395,396,397,398,399,400,401,402,403,404,405,406,407,408,409,410,411,412,413,414,415,416,417,418,419,420,421,422,423,424,425,426,427,428,429,430,431,432,433,434,435,436,437,438,439,440,441,442,443,444,445,446,447,448,449,450,451,452,453,454,455,456,457,458,459,460,461,462,463,464,465,466,467,468,469,470,471,472,473,474,475,476,477,478,479,480,481,482,483,484,485,486,487,488,489,490,491,492,493,494,495,496,497,498,499,500,501,502,503,504,505,506,507,508,509,510,511,512,513,514,515,516,517,518,519,520,521,522,523,524,525,526,527,528,529,530,531,532,533,534,535,536,537,538,539,540,541,542,543,544,545,546,547,548,549,550,551,552,553,554,555,556,557,558,559,560,561,562,563,564,565,566,567,568,569,570,571,572,573,574,575,576,577,578,579,580,581,582,583,584,585,586,587,588,589,590,591,592,593,594,595,596,597,598,599,600,601,602,603,604,605,606,607,608,609,610,611,612,613,614,615,616,617,618,619,620,621,622,623,624,625,626,627,628,629,630,631,632,633,634,635,636,637,638,639,640,641,642,643,644,645,646,647,648,649,650,651,652,653,654,655,656,657,658,659,660,661,662,663,664,665,666,667,668,669,670,671,672,673,674,675,676,677,678,679,680,681,682,683,684,685,686,687,688,689,690,691,692,693,694,695,696,697,698,699,700,701,702,703,704,705,706,707,708,709,710,711,712,713,714,715,716,717,718,719,720,721,722,723,724,725,726,727,728,729,730,731,732,733,734,735,736,737,738,739,740,741,742,743,744,745,746,747,748,749,750,751,752,753,754,755,756,757,758,759,760,761,762,763,764,765,766,767,768,769,770,771,772,773,774,775,776,777,778,779,780,781,782,783,784,785,786,787,788,789,790,791,792,793,794,795,796,797,798,799,800,801,802,803,804,805,806,807,808,809,810,811,812,813,814,815,816,817,818,819,820,821,822,823,824,825,826,827,828,829,830,831,832,833,834,835,836,837,838,839,840,841,842,843,844,845,846,847,848,849,850,851,852,853,854,855,856,857,858,859,860,861,862,863,864,865,866,867,868,869,870,871,872,873,874,875,876,877,878,879,880,881,882,883,884,885,886,887,888,889,890,891,892,893,894,895,896,897,898,899,900,901,902,903,904,905,906,907,908,909,910,911,912,913,914,915,916,917,918,919,920,921,922,923,924,925,926,927,928,929,930,931,932,933,934,935,936,937,938,939,940,941,942,943,944,945,946,947,948,949,950,951,952,953,954,955,956,957,958,959,960,961,962,963,964,965,966,967,968,969,970,971,972,973,974,975,976,977,978,979,980,981,982,983,984,985,986,987,988,989,990,991,992,993,994,995,996,997,998,999],\"y\":[14.950793266296387,14.911947250366211,14.87338638305664,14.83470344543457,14.796154975891113,14.757508277893066,14.719202041625977,14.681547164916992,14.645471572875977,14.612204551696777,14.581049919128418,14.553352355957031,14.532182693481445,14.517414093017578,14.50757884979248,14.501299858093262,14.49960994720459,14.503424644470215,14.508922576904297,14.515127182006836,14.521435737609863,14.526460647583008,14.53077507019043,14.534465789794922,14.5380859375,14.539652824401855,14.538928985595703,14.537078857421875,14.535599708557129,14.531647682189941,14.525569915771484,14.518733978271484,14.512297630310059,14.508237838745117,14.505221366882324,14.502424240112305,14.499642372131348,14.495847702026367,14.49312686920166,14.490152359008789,14.486419677734375,14.482433319091797,14.476529121398926,14.470853805541992,14.46668815612793,14.462610244750977,14.457743644714355,14.452509880065918,14.448031425476074,14.443853378295898,14.43997573852539,14.43415641784668,14.428356170654297,14.422361373901367,14.41531753540039,14.40820598602295,14.400368690490723,14.392197608947754,14.385428428649902,14.378061294555664,14.368983268737793,14.359318733215332,14.351011276245117,14.34334945678711,14.334805488586426,14.326553344726562,14.318065643310547,14.308027267456055,14.297409057617188,14.286633491516113,14.275029182434082,14.264195442199707,14.252742767333984,14.2413330078125,14.229042053222656,14.216551780700684,14.204973220825195,14.192283630371094,14.180431365966797,14.16841983795166,14.155732154846191,14.143701553344727,14.131807327270508,14.12127685546875,14.110365867614746,14.098301887512207,14.086395263671875,14.074329376220703,14.061800956726074,14.049485206604004,14.03712272644043,14.023143768310547,14.009367942810059,13.996692657470703,13.984151840209961,13.971848487854004,13.960165977478027,13.948908805847168,13.938088417053223,13.926219940185547,13.91439437866211,13.90301513671875,13.8911771774292,13.879746437072754,13.868210792541504,13.85728645324707,13.846345901489258,13.834224700927734,13.822439193725586,13.81118106842041,13.800138473510742,13.789258003234863,13.77830982208252,13.766547203063965,13.754688262939453,13.743581771850586,13.733101844787598,13.721261024475098,13.709165573120117,13.697060585021973,13.684799194335938,13.671976089477539,13.659512519836426,13.647603034973145,13.635102272033691,13.623052597045898,13.611895561218262,13.600164413452148,13.588236808776855,13.576780319213867,13.565330505371094,13.553377151489258,13.54170036315918,13.528892517089844,13.515848159790039,13.502063751220703,13.488691329956055,13.475286483764648,13.461520195007324,13.447426795959473,13.434732437133789,13.424277305603027,13.413143157958984,13.401447296142578,13.389594078063965,13.376692771911621,13.364324569702148,13.352096557617188,13.33991813659668,13.327349662780762,13.314986228942871,13.301899909973145,13.288626670837402,13.275724411010742,13.261887550354004,13.248404502868652,13.235156059265137,13.222336769104004,13.211075782775879,13.200432777404785,13.188261032104492,13.175808906555176,13.163792610168457,13.151713371276855,13.139470100402832,13.127715110778809,13.116744041442871,13.105561256408691,13.093697547912598,13.081958770751953,13.070564270019531,13.059440612792969,13.047394752502441,13.035510063171387,13.023367881774902,13.01035213470459,12.997541427612305,12.985320091247559,12.97234058380127,12.959368705749512,12.947171211242676,12.93741512298584,12.927081108093262,12.916855812072754,12.905981063842773,12.89486312866211,12.883769035339355,12.872502326965332,12.860645294189453,12.848797798156738,12.836346626281738,12.82414722442627,12.8121919631958,12.799488067626953,12.787396430969238,12.775960922241211,12.765721321105957,12.755690574645996,12.745783805847168,12.735682487487793,12.724130630493164,12.713586807250977,12.702309608459473,12.6911039352417,12.68001651763916,12.669047355651855,12.65859603881836,12.64633560180664,12.634532928466797,12.623480796813965,12.612218856811523,12.6005220413208,12.588968276977539,12.578143119812012,12.566056251525879,12.555047035217285,12.544509887695312,12.5346097946167,12.524791717529297,12.5140962600708,12.504059791564941,12.491740226745605,12.47991943359375,12.46827220916748,12.457268714904785,12.446601867675781,12.436807632446289,12.42773151397705,12.417123794555664,12.405141830444336,12.39239501953125,12.380722045898438,12.369322776794434,12.357025146484375,12.345754623413086,12.335790634155273,12.324835777282715,12.313920974731445,12.30318832397461,12.292546272277832,12.282332420349121,12.271921157836914,12.260905265808105,12.25114631652832,12.240678787231445,12.231160163879395,12.221410751342773,12.211560249328613,12.200345039367676,12.18885612487793,12.17855453491211,12.16826343536377,12.157207489013672,12.14680290222168,12.136326789855957,12.125038146972656,12.114447593688965,12.103845596313477,12.0931396484375,12.081841468811035,12.071173667907715,12.062989234924316,12.053755760192871,12.044920921325684,12.03432846069336,12.02202033996582,12.00997543334961,11.999086380004883,11.987977981567383,11.976690292358398,11.965688705444336,11.955361366271973,11.94504165649414,11.934298515319824,11.924284934997559,11.915127754211426,11.908113479614258,11.901288032531738,11.894268035888672,11.885856628417969,11.87678337097168,11.867281913757324,11.85639476776123,11.845852851867676,11.837088584899902,11.828470230102539,11.820738792419434,11.81192684173584,11.80257511138916,11.792916297912598,11.783273696899414,11.773627281188965,11.764766693115234,11.755386352539062,11.745675086975098,11.737199783325195,11.729941368103027,11.722554206848145,11.713823318481445,11.705437660217285,11.69607162475586,11.685189247131348,11.674530029296875,11.663756370544434,11.653372764587402,11.644547462463379,11.635950088500977,11.626077651977539,11.615010261535645,11.604195594787598,11.593792915344238,11.585610389709473,11.577497482299805,11.56827163696289,11.55933952331543,11.55040454864502,11.54207706451416,11.532230377197266,11.523457527160645,11.51483154296875,11.506771087646484,11.49705696105957,11.4866304397583,11.476783752441406,11.467129707336426,11.457932472229004,11.447831153869629,11.438239097595215,11.428954124450684,11.419954299926758,11.409982681274414,11.400100708007812,11.389784812927246,11.379137992858887,11.371307373046875,11.364325523376465,11.35426139831543,11.344649314880371,11.336359977722168,11.327065467834473,11.318521499633789,11.310114860534668,11.30312728881836,11.29769515991211,11.291559219360352,11.284408569335938,11.277692794799805,11.271459579467773,11.265088081359863,11.26013469696045,11.253499984741211,11.248200416564941,11.243548393249512,11.2381591796875,11.232792854309082,11.226143836975098,11.21829605102539,11.210856437683105,11.203449249267578,11.195490837097168,11.188879013061523,11.18295669555664,11.176937103271484,11.17281723022461,11.169946670532227,11.166180610656738,11.161377906799316,11.157407760620117,11.152935981750488,11.14783763885498,11.142477035522461,11.136521339416504,11.130793571472168,11.125801086425781,11.122591972351074,11.11879825592041,11.114068031311035,11.11084270477295,11.108789443969727,11.107145309448242,11.104522705078125,11.102206230163574,11.099398612976074,11.095976829528809,11.092732429504395,11.090019226074219,11.087945938110352,11.08432674407959,11.080049514770508,11.075164794921875,11.070884704589844,11.06597900390625,11.061920166015625,11.0582914352417,11.055205345153809,11.051915168762207,11.049591064453125,11.048584938049316,11.046914100646973,11.044239044189453,11.042340278625488,11.040875434875488,11.038901329040527,11.035539627075195,11.032480239868164,11.029877662658691,11.027288436889648,11.024946212768555,11.021281242370605,11.018303871154785,11.015169143676758,11.011283874511719,11.008721351623535,11.005807876586914,11.003033638000488,10.999717712402344,10.995924949645996,10.992982864379883,10.989797592163086,10.986173629760742,10.983328819274902,10.980445861816406,10.977132797241211,10.972269058227539,10.967357635498047,10.962273597717285,10.956169128417969,10.950064659118652,10.944037437438965,10.939406394958496,10.936017036437988,10.933219909667969,10.930171012878418,10.927619934082031,10.925413131713867,10.923395156860352,10.92040729522705,10.918211936950684,10.915706634521484,10.913140296936035,10.910563468933105,10.908648490905762,10.905838012695312,10.902506828308105,10.897082328796387,10.889737129211426,10.883296012878418,10.877861022949219,10.872931480407715,10.868819236755371,10.864027976989746,10.859458923339844,10.856037139892578,10.852616310119629,10.848806381225586,10.845579147338867,10.842707633972168,10.839396476745605,10.836426734924316,10.833508491516113,10.830897331237793,10.828237533569336,10.825054168701172,10.820733070373535,10.815975189208984,10.811506271362305,10.806653022766113,10.800600051879883,10.795575141906738,10.791099548339844,10.78775405883789,10.784399032592773,10.780769348144531,10.777737617492676,10.774105072021484,10.769965171813965,10.765628814697266,10.7620267868042,10.75882625579834,10.756571769714355,10.754056930541992,10.750061988830566,10.74514389038086,10.740489959716797,10.737360954284668,10.733579635620117,10.729009628295898,10.724026679992676,10.719892501831055,10.716248512268066,10.712669372558594,10.709063529968262,10.706974029541016,10.704319953918457,10.701376914978027,10.697847366333008,10.69411563873291,10.689767837524414,10.685810089111328,10.682074546813965,10.678621292114258,10.674027442932129,10.669010162353516,10.66405200958252,10.659875869750977,10.654762268066406,10.64917278289795,10.644546508789062,10.640915870666504,10.637072563171387,10.632583618164062,10.62769889831543,10.624281883239746,10.621479034423828,10.618802070617676,10.615095138549805,10.610471725463867,10.606945037841797,10.603395462036133,10.599869728088379,10.595651626586914,10.5908784866333,10.58622932434082,10.581607818603516,10.576424598693848,10.572874069213867,10.569520950317383,10.566895484924316,10.564563751220703,10.562556266784668,10.559331893920898,10.55526065826416,10.550846099853516,10.544705390930176,10.538860321044922,10.533982276916504,10.531269073486328,10.52836799621582,10.525497436523438,10.522229194641113,10.51763916015625,10.513402938842773,10.51121711730957,10.509492874145508,10.507369995117188,10.505095481872559,10.501672744750977,10.498024940490723,10.492173194885254,10.486747741699219,10.482810020446777,10.479722023010254,10.476788520812988,10.47353744506836,10.47109603881836,10.468462944030762,10.46617317199707,10.463805198669434,10.461470603942871,10.45937728881836,10.455788612365723,10.450800895690918,10.445586204528809,10.440018653869629,10.436223983764648,10.432684898376465,10.42888069152832,10.424259185791016,10.420350074768066,10.41558837890625,10.410913467407227,10.407793998718262,10.403738021850586,10.39964485168457,10.396655082702637,10.394078254699707,10.3897066116333,10.384379386901855,10.378719329833984,10.373939514160156,10.369704246520996,10.36552619934082,10.361063003540039,10.356673240661621,10.352840423583984,10.34884262084961,10.34582805633545,10.341484069824219,10.337291717529297,10.33414363861084,10.330629348754883,10.326309204101562,10.322595596313477,10.320209503173828,10.318344116210938,10.317501068115234,10.316206932067871,10.31428337097168,10.312003135681152,10.309438705444336,10.307379722595215,10.304954528808594,10.301605224609375,10.29949951171875,10.295754432678223,10.291407585144043,10.288692474365234,10.287391662597656,10.285962104797363,10.283536911010742,10.280440330505371,10.277114868164062,10.272713661193848,10.268457412719727,10.265212059020996,10.262298583984375,10.259719848632812,10.256937980651855,10.254323959350586,10.25117015838623,10.247919082641602,10.243880271911621,10.239554405212402,10.236063003540039,10.231966018676758,10.228090286254883,10.224228858947754,10.22104263305664,10.21713924407959,10.214402198791504,10.21188735961914,10.209010124206543,10.20499038696289,10.201934814453125,10.198345184326172,10.194643020629883,10.190910339355469,10.188189506530762,10.184501647949219,10.180253028869629,10.17582893371582,10.171897888183594,10.16888427734375,10.166422843933105,10.164002418518066,10.161020278930664,10.158482551574707,10.156072616577148,10.154206275939941,10.150954246520996,10.147274017333984,10.14342975616455,10.14046573638916,10.13895320892334,10.136688232421875,10.135643005371094,10.13388729095459,10.132597923278809,10.1321439743042,10.130958557128906,10.12890911102295,10.126336097717285,10.123370170593262,10.120420455932617,10.115489959716797,10.110029220581055,10.105242729187012,10.10132122039795,10.096860885620117,10.093159675598145,10.088947296142578,10.08545970916748,10.083855628967285,10.08265495300293,10.080731391906738,10.077896118164062,10.07593059539795,10.071532249450684,10.067358016967773,10.063070297241211,10.059388160705566,10.055418968200684,10.05175495147705,10.048802375793457,10.046223640441895,10.042067527770996,10.038497924804688,10.035820007324219,10.03215503692627,10.02800178527832,10.023602485656738,10.019497871398926,10.016345024108887,10.01253604888916,10.009117126464844,10.005867958068848,10.002730369567871,9.999829292297363,9.998519897460938,9.998299598693848,9.999063491821289,9.999217987060547,9.999053001403809,9.996772766113281,9.994070053100586,9.991400718688965,9.98888874053955,9.98558235168457,9.982087135314941,9.97836685180664,9.97540283203125,9.972262382507324,9.967999458312988,9.965270042419434,9.962692260742188,9.959596633911133,9.95618724822998,9.952771186828613,9.949197769165039,9.945181846618652,9.940942764282227,9.937814712524414,9.933847427368164,9.929008483886719,9.925703048706055,9.922410011291504,9.918517112731934,9.9143648147583,9.91064167022705,9.906545639038086,9.904206275939941,9.89980411529541,9.89549732208252,9.891283988952637,9.888815879821777,9.88696575164795,9.88465690612793,9.884318351745605,9.8833589553833,9.881821632385254,9.87951946258545,9.875777244567871,9.871716499328613,9.867318153381348,9.864592552185059,9.862039566040039,9.858399391174316,9.854254722595215,9.850293159484863,9.848128318786621,9.845539093017578,9.84335994720459,9.842113494873047,9.840448379516602,9.840240478515625,9.838465690612793,9.83494758605957,9.832385063171387,9.829270362854004,9.826906204223633,9.825746536254883,9.823968887329102,9.821043968200684,9.819052696228027,9.817222595214844,9.8145112991333,9.810806274414062,9.806047439575195,9.801499366760254,9.797800064086914,9.794870376586914,9.794243812561035,9.793865203857422,9.793476104736328,9.793299674987793,9.791679382324219,9.788424491882324,9.78571891784668,9.783339500427246,9.781205177307129,9.778136253356934,9.7747220993042,9.771392822265625,9.76934814453125,9.767522811889648,9.765185356140137,9.76287841796875,9.760763168334961,9.75844669342041,9.756441116333008,9.754755020141602,9.753019332885742,9.751864433288574,9.752006530761719,9.7523193359375,9.752785682678223,9.751778602600098,9.751679420471191,9.752222061157227,9.751372337341309,9.750636100769043,9.748632431030273,9.745594024658203,9.742326736450195,9.739642143249512,9.736917495727539,9.73371696472168,9.72974967956543,9.726523399353027,9.723347663879395,9.720161437988281,9.71653938293457,9.713067054748535,9.709376335144043,9.706531524658203,9.703557014465332,9.70174503326416,9.699850082397461,9.696919441223145,9.69465160369873,9.693769454956055,9.691320419311523,9.688106536865234,9.684922218322754,9.68254566192627,9.681038856506348,9.679908752441406,9.677938461303711,9.67590045928955,9.673792839050293,9.671669960021973,9.670767784118652,9.669760704040527,9.668991088867188,9.668591499328613,9.667250633239746,9.66378116607666,9.660980224609375,9.65907096862793,9.657017707824707,9.655513763427734,9.653263092041016,9.650425910949707,9.6466064453125,9.643181800842285,9.640853881835938,9.638163566589355,9.635152816772461,9.631394386291504,9.627415657043457,9.623231887817383,9.620229721069336,9.61733341217041,9.615384101867676,9.612787246704102,9.61052131652832,9.607671737670898,9.604867935180664,9.601635932922363,9.59914493560791,9.59791374206543,9.595454216003418,9.592436790466309,9.589069366455078,9.588022232055664,9.586482048034668,9.584284782409668,9.583579063415527,9.583417892456055,9.581192016601562,9.579854965209961,9.578667640686035,9.577170372009277,9.574386596679688,9.571345329284668,9.568565368652344,9.566167831420898,9.564435005187988,9.564401626586914,9.564140319824219,9.5638427734375,9.562948226928711,9.561195373535156,9.559922218322754,9.559452056884766,9.560040473937988,9.560020446777344,9.560811996459961,9.56051254272461,9.558119773864746,9.555655479431152,9.554427146911621,9.552679061889648,9.551017761230469,9.54932689666748,9.54813003540039,9.547083854675293,9.545711517333984,9.54369831085205,9.541511535644531,9.539730072021484,9.536393165588379,9.534221649169922,9.531593322753906,9.530024528503418,9.528081893920898,9.525861740112305,9.523563385009766,9.52161693572998,9.521327018737793,9.520737648010254,9.51891040802002,9.517407417297363,9.516400337219238,9.514735221862793,9.514493942260742,9.513172149658203,9.512425422668457,9.511646270751953,9.511024475097656,9.509868621826172,9.507397651672363,9.5045804977417,9.501496315002441,9.496768951416016,9.492559432983398,9.48905086517334,9.485610008239746,9.482446670532227,9.4794921875,9.477431297302246,9.475366592407227,9.472431182861328,9.469407081604004,9.467500686645508,9.465771675109863,9.462331771850586,9.458891868591309,9.45647144317627,9.45407772064209,9.452475547790527,9.450569152832031,9.447447776794434,9.444718360900879,9.442502975463867,9.441506385803223,9.439735412597656,9.437630653381348,9.435490608215332,9.432120323181152,9.429183006286621,9.42654037475586,9.423172950744629,9.420015335083008,9.417481422424316,9.414515495300293,9.410213470458984,9.40723705291748,9.404776573181152,9.401658058166504,9.399395942687988,9.398011207580566,9.396987915039062,9.395283699035645,9.392996788024902,9.394195556640625,9.394980430603027,9.395755767822266,9.395129203796387,9.3936767578125,9.392407417297363,9.389989852905273,9.386774063110352,9.384041786193848,9.381766319274902,9.379756927490234,9.376782417297363,9.3733549118042,9.37102222442627,9.369256019592285,9.368483543395996,9.367219924926758,9.364274978637695,9.361557960510254,9.358814239501953,9.355833053588867,9.352789878845215,9.34894847869873,9.346597671508789,9.342997550964355,9.339668273925781,9.337416648864746,9.335932731628418,9.334081649780273,9.331441879272461,9.329183578491211,9.327007293701172,9.325666427612305,9.324994087219238,9.325657844543457]}},\"id\":\"b5e30488-3498-4a80-b99a-f1f5b6914136\",\"type\":\"ColumnDataSource\"},{\"attributes\":{\"plot\":{\"id\":\"ce8709ac-d060-4d46-8693-54426371147d\",\"subtype\":\"Figure\",\"type\":\"Plot\"}},\"id\":\"ce6e1383-b00e-48fe-8d49-b3c9925688f2\",\"type\":\"PanTool\"},{\"attributes\":{\"plot\":{\"id\":\"ce8709ac-d060-4d46-8693-54426371147d\",\"subtype\":\"Figure\",\"type\":\"Plot\"}},\"id\":\"6bc71f8c-4f25-4065-b470-1e5ddfbcbe81\",\"type\":\"SaveTool\"},{\"attributes\":{},\"id\":\"7b9870fa-aed4-4e5a-9851-f595e5859791\",\"type\":\"ToolEvents\"},{\"attributes\":{\"callback\":null},\"id\":\"f5817b76-ee2f-42bd-aa50-67a37b184c01\",\"type\":\"DataRange1d\"},{\"attributes\":{\"plot\":{\"id\":\"ce8709ac-d060-4d46-8693-54426371147d\",\"subtype\":\"Figure\",\"type\":\"Plot\"}},\"id\":\"997be97f-2ad2-4133-b08f-515839d39c20\",\"type\":\"HelpTool\"},{\"attributes\":{\"line_alpha\":{\"value\":0.1},\"line_color\":{\"value\":\"#1f77b4\"},\"line_width\":{\"value\":0.5},\"x\":{\"field\":\"x\"},\"y\":{\"field\":\"y\"}},\"id\":\"126ec262-b7c2-4abb-be18-7d4ae868cf7d\",\"type\":\"Line\"},{\"attributes\":{\"data_source\":{\"id\":\"839601f6-4f68-4c1b-bcd9-c544554595bb\",\"type\":\"ColumnDataSource\"},\"glyph\":{\"id\":\"3cb9b0e7-1f10-49a9-a105-68817aa4a798\",\"type\":\"Line\"},\"hover_glyph\":null,\"nonselection_glyph\":{\"id\":\"126ec262-b7c2-4abb-be18-7d4ae868cf7d\",\"type\":\"Line\"},\"selection_glyph\":null},\"id\":\"6cabf4e0-fc78-4c2d-aa05-1a58e2cf1c58\",\"type\":\"GlyphRenderer\"},{\"attributes\":{\"plot\":{\"id\":\"ce8709ac-d060-4d46-8693-54426371147d\",\"subtype\":\"Figure\",\"type\":\"Plot\"},\"ticker\":{\"id\":\"fe9bb40e-6e17-4605-b2fe-e69ea38b30a8\",\"type\":\"BasicTicker\"}},\"id\":\"df2d061d-fb8e-4152-95ac-c884f20e4f62\",\"type\":\"Grid\"},{\"attributes\":{\"line_color\":{\"value\":\"orange\"},\"line_width\":{\"value\":0.5},\"x\":{\"field\":\"x\"},\"y\":{\"field\":\"y\"}},\"id\":\"3e8ab9b1-58be-4372-8cbe-bc7c08a1d084\",\"type\":\"Line\"},{\"attributes\":{\"plot\":{\"id\":\"ce8709ac-d060-4d46-8693-54426371147d\",\"subtype\":\"Figure\",\"type\":\"Plot\"}},\"id\":\"31de236d-690a-4f12-86ed-5e6359d3582f\",\"type\":\"WheelZoomTool\"},{\"attributes\":{\"callback\":null,\"column_names\":[\"y\",\"x\"],\"data\":{\"x\":[0,1,2,3,4,5,6,7,8,9,10,11,12,13,14,15,16,17,18,19,20,21,22,23,24,25,26,27,28,29,30,31,32,33,34,35,36,37,38,39,40,41,42,43,44,45,46,47,48,49,50,51,52,53,54,55,56,57,58,59,60,61,62,63,64,65,66,67,68,69,70,71,72,73,74,75,76,77,78,79,80,81,82,83,84,85,86,87,88,89,90,91,92,93,94,95,96,97,98,99,100,101,102,103,104,105,106,107,108,109,110,111,112,113,114,115,116,117,118,119,120,121,122,123,124,125,126,127,128,129,130,131,132,133,134,135,136,137,138,139,140,141,142,143,144,145,146,147,148,149,150,151,152,153,154,155,156,157,158,159,160,161,162,163,164,165,166,167,168,169,170,171,172,173,174,175,176,177,178,179,180,181,182,183,184,185,186,187,188,189,190,191,192,193,194,195,196,197,198,199,200,201,202,203,204,205,206,207,208,209,210,211,212,213,214,215,216,217,218,219,220,221,222,223,224,225,226,227,228,229,230,231,232,233,234,235,236,237,238,239,240,241,242,243,244,245,246,247,248,249,250,251,252,253,254,255,256,257,258,259,260,261,262,263,264,265,266,267,268,269,270,271,272,273,274,275,276,277,278,279,280,281,282,283,284,285,286,287,288,289,290,291,292,293,294,295,296,297,298,299,300,301,302,303,304,305,306,307,308,309,310,311,312,313,314,315,316,317,318,319,320,321,322,323,324,325,326,327,328,329,330,331,332,333,334,335,336,337,338,339,340,341,342,343,344,345,346,347,348,349,350,351,352,353,354,355,356,357,358,359,360,361,362,363,364,365,366,367,368,369,370,371,372,373,374,375,376,377,378,379,380,381,382,383,384,385,386,387,388,389,390,391,392,393,394,395,396,397,398,399,400,401,402,403,404,405,406,407,408,409,410,411,412,413,414,415,416,417,418,419,420,421,422,423,424,425,426,427,428,429,430,431,432,433,434,435,436,437,438,439,440,441,442,443,444,445,446,447,448,449,450,451,452,453,454,455,456,457,458,459,460,461,462,463,464,465,466,467,468,469,470,471,472,473,474,475,476,477,478,479,480,481,482,483,484,485,486,487,488,489,490,491,492,493,494,495,496,497,498,499,500,501,502,503,504,505,506,507,508,509,510,511,512,513,514,515,516,517,518,519,520,521,522,523,524,525,526,527,528,529,530,531,532,533,534,535,536,537,538,539,540,541,542,543,544,545,546,547,548,549,550,551,552,553,554,555,556,557,558,559,560,561,562,563,564,565,566,567,568,569,570,571,572,573,574,575,576,577,578,579,580,581,582,583,584,585,586,587,588,589,590,591,592,593,594,595,596,597,598,599,600,601,602,603,604,605,606,607,608,609,610,611,612,613,614,615,616,617,618,619,620,621,622,623,624,625,626,627,628,629,630,631,632,633,634,635,636,637,638,639,640,641,642,643,644,645,646,647,648,649,650,651,652,653,654,655,656,657,658,659,660,661,662,663,664,665,666,667,668,669,670,671,672,673,674,675,676,677,678,679,680,681,682,683,684,685,686,687,688,689,690,691,692,693,694,695,696,697,698,699,700,701,702,703,704,705,706,707,708,709,710,711,712,713,714,715,716,717,718,719,720,721,722,723,724,725,726,727,728,729,730,731,732,733,734,735,736,737,738,739,740,741,742,743,744,745,746,747,748,749,750,751,752,753,754,755,756,757,758,759,760,761,762,763,764,765,766,767,768,769,770,771,772,773,774,775,776,777,778,779,780,781,782,783,784,785,786,787,788,789,790,791,792,793,794,795,796,797,798,799,800,801,802,803,804,805,806,807,808,809,810,811,812,813,814,815,816,817,818,819,820,821,822,823,824,825,826,827,828,829,830,831,832,833,834,835,836,837,838,839,840,841,842,843,844,845,846,847,848,849,850,851,852,853,854,855,856,857,858,859,860,861,862,863,864,865,866,867,868,869,870,871,872,873,874,875,876,877,878,879,880,881,882,883,884,885,886,887,888,889,890,891,892,893,894,895,896,897,898,899,900,901,902,903,904,905,906,907,908,909,910,911,912,913,914,915,916,917,918,919,920,921,922,923,924,925,926,927,928,929,930,931,932,933,934,935,936,937,938,939,940,941,942,943,944,945,946,947,948,949,950,951,952,953,954,955,956,957,958,959,960,961,962,963,964,965,966,967,968,969,970,971,972,973,974,975,976,977,978,979,980,981,982,983,984,985,986,987,988,989,990,991,992,993,994,995,996,997,998,999],\"y\":[-12.881043434143066,-12.778814315795898,-12.962140083312988,-12.833470344543457,-13.435474395751953,-13.41421127319336,-14.27606201171875,-13.840147018432617,-19.104286193847656,-19.742891311645508,-21.38772201538086,-27.455514907836914,-32.08967208862305,-29.219247817993164,-37.04322814941406,-35.20838165283203,-51.99353790283203,-55.333370208740234,-60.6441650390625,-58.96028518676758,-59.722076416015625,-66.05512237548828,-62.827476501464844,-76.23359680175781,-76.46112060546875,-72.62850952148438,-73.89588928222656,-77.47666931152344,-79.58682250976562,-70.17579650878906,-74.78316497802734,-75.49060821533203,-81.79346466064453,-81.34966278076172,-78.90982055664062,-74.6440658569336,-86.56967163085938,-84.58877563476562,-85.47434997558594,-79.38455963134766,-84.01327514648438,-75.64759826660156,-85.52967834472656,-89.46006774902344,-88.3399658203125,-91.04312133789062,-88.88497924804688,-85.80870819091797,-90.10649108886719,-87.51582336425781,-83.27942657470703,-94.50466918945312,-88.49581146240234,-98.9904556274414,-88.93243408203125,-93.92572784423828,-98.21632385253906,-82.05630493164062,-87.22640228271484,-95.43449401855469,-95.47083282470703,-89.7145004272461,-93.7784423828125,-97.90211486816406,-95.39850616455078,-94.44293212890625,-86.65233612060547,-84.24610900878906,-95.29150390625,-97.02527618408203,-89.93896484375,-100.4853744506836,-93.27250671386719,-95.83073425292969,-104.60633087158203,-89.20772552490234,-94.19417572021484,-100.84148406982422,-90.67007446289062,-104.63356018066406,-89.31509399414062,-102.11109924316406,-96.91633605957031,-107.51837158203125,-100.88257598876953,-101.15129852294922,-103.64471435546875,-94.05027770996094,-102.6862564086914,-96.10250091552734,-101.74223327636719,-92.1454086303711,-90.02645874023438,-101.49474334716797,-100.44558715820312,-95.5069580078125,-102.21537780761719,-92.05389404296875,-98.15873718261719,-92.40435791015625,-91.38560485839844,-103.11763000488281,-108.40965270996094,-92.77246856689453,-98.85527801513672,-93.00906372070312,-96.0588150024414,-97.99760437011719,-94.62655639648438,-96.46080780029297,-100.22860717773438,-104.10807800292969,-98.94599914550781,-102.510986328125,-105.57781219482422,-96.95879364013672,-100.47724151611328,-94.06939697265625,-98.18021392822266,-97.20320129394531,-100.45305633544922,-104.19047546386719,-99.32543182373047,-101.45899200439453,-99.5870361328125,-106.36076354980469,-105.23771667480469,-99.99615478515625,-98.03748321533203,-100.3567123413086,-103.80155181884766,-104.77699279785156,-105.68113708496094,-105.43475341796875,-100.77964782714844,-104.49945068359375,-98.43458557128906,-95.70880126953125,-100.4886474609375,-96.90260314941406,-95.73316192626953,-96.2326889038086,-101.74507904052734,-94.74268341064453,-101.47560119628906,-101.29895782470703,-97.14559936523438,-100.89994812011719,-98.71956634521484,-100.73898315429688,-102.79563903808594,-101.50333404541016,-101.17400360107422,-104.94609069824219,-103.91353607177734,-100.72697448730469,-100.502197265625,-100.21704864501953,-104.19087982177734,-102.54199981689453,-100.29475402832031,-90.61490631103516,-92.73595428466797,-101.85342407226562,-104.63536834716797,-90.4247055053711,-97.15442657470703,-102.25209045410156,-104.78617095947266,-101.2098388671875,-105.62147521972656,-95.3565902709961,-98.48584747314453,-103.90426635742188,-100.60200500488281,-98.18199157714844,-100.4430923461914,-101.24385833740234,-95.25365447998047,-102.26712036132812,-106.65443420410156,-98.26604461669922,-97.2803726196289,-104.0041275024414,-100.66938781738281,-99.63349914550781,-99.99424743652344,-106.75982666015625,-103.16326141357422,-105.0315933227539,-103.36080932617188,-98.8749008178711,-101.64116668701172,-104.70020294189453,-101.70732879638672,-97.91070556640625,-110.81350708007812,-97.6875991821289,-97.71520233154297,-105.80933380126953,-97.22196197509766,-97.88816833496094,-97.31049346923828,-108.35189056396484,-107.46266174316406,-106.60335540771484,-100.03440856933594,-98.53721618652344,-105.28218078613281,-107.02668762207031,-104.28165435791016,-98.3284683227539,-98.8401107788086,-99.31236267089844,-100.20574188232422,-105.4583511352539,-106.38264465332031,-104.61404418945312,-103.16120910644531,-103.82341766357422,-102.7603530883789,-103.7847671508789,-100.45734405517578,-100.72322845458984,-109.86258697509766,-103.32978820800781,-103.862548828125,-97.67095947265625,-103.03459930419922,-102.2694091796875,-100.82196044921875,-105.70193481445312,-99.5141372680664,-94.66256713867188,-96.74158477783203,-99.8431625366211,-105.31192779541016,-98.76654052734375,-97.1019515991211,-102.90507507324219,-96.81396484375,-101.85501861572266,-105.57904052734375,-97.43497467041016,-102.12336730957031,-100.86775970458984,-98.04988098144531,-97.09718322753906,-95.56241607666016,-104.37577819824219,-100.65423583984375,-112.98650360107422,-103.2116470336914,-106.11136627197266,-103.02717590332031,-104.13440704345703,-100.388671875,-99.18889617919922,-95.79634857177734,-98.48563385009766,-104.97254180908203,-108.91417694091797,-104.76371765136719,-106.12531280517578,-108.59474182128906,-106.61856842041016,-103.18777465820312,-102.39259338378906,-106.37212371826172,-100.68781280517578,-98.03057861328125,-106.82772064208984,-103.9820785522461,-105.70777130126953,-104.18701171875,-110.79393005371094,-102.5804443359375,-108.55966186523438,-100.05613708496094,-95.31157684326172,-98.616455078125,-105.18113708496094,-110.19924926757812,-106.37609100341797,-108.20947265625,-108.28841400146484,-107.20407104492188,-108.27134704589844,-107.29373168945312,-97.42620849609375,-99.62460327148438,-106.05104064941406,-96.49500274658203,-105.79547119140625,-102.34652709960938,-105.40142059326172,-101.65583038330078,-101.653076171875,-103.03425598144531,-100.50028991699219,-111.71112823486328,-102.66566467285156,-100.63973236083984,-100.39112091064453,-103.35944366455078,-103.62972259521484,-102.43849182128906,-108.33229064941406,-109.44557189941406,-97.68921661376953,-107.89163208007812,-103.44998168945312,-97.76193237304688,-107.82645416259766,-103.00138854980469,-104.73867797851562,-104.73727416992188,-103.94247436523438,-107.063720703125,-103.60599517822266,-96.75822448730469,-99.38233947753906,-105.5416030883789,-104.46551513671875,-99.9881591796875,-109.61529541015625,-110.72754669189453,-102.34597778320312,-105.84825897216797,-101.94461822509766,-104.7254638671875,-108.80513000488281,-103.77964782714844,-98.16143798828125,-106.32508087158203,-106.04071044921875,-105.27259826660156,-97.70354461669922,-106.62013244628906,-97.4800796508789,-106.61048889160156,-99.76077270507812,-95.06491088867188,-104.5032958984375,-104.84980773925781,-103.27279663085938,-96.32920837402344,-111.26107788085938,-102.95902252197266,-102.09744262695312,-105.79535675048828,-101.84422302246094,-103.17618560791016,-105.89605712890625,-101.99696350097656,-100.82221984863281,-97.16963195800781,-103.25526428222656,-104.592529296875,-94.91778564453125,-106.20828247070312,-101.21536254882812,-98.6496353149414,-104.64008331298828,-112.39884185791016,-105.68334197998047,-110.97982788085938,-109.93171691894531,-101.80171203613281,-106.8494873046875,-110.29489135742188,-106.86691284179688,-99.28427124023438,-107.13113403320312,-104.90396118164062,-110.01991271972656,-103.6125259399414,-103.05937957763672,-109.70511627197266,-105.64779663085938,-104.97843933105469,-107.39241790771484,-111.34146118164062,-103.69844055175781,-108.92904663085938,-110.23373413085938,-110.72540283203125,-106.82562255859375,-106.95987701416016,-107.23326110839844,-102.47174072265625,-107.22135925292969,-107.35091400146484,-105.79625701904297,-111.25396728515625,-105.17948913574219,-112.0746841430664,-109.36856079101562,-109.93134307861328,-109.92235565185547,-101.91230773925781,-107.62770080566406,-105.8683853149414,-101.42062377929688,-108.64157104492188,-103.8828353881836,-104.95973205566406,-113.05926513671875,-115.41561889648438,-112.53397369384766,-106.24957275390625,-111.0942153930664,-109.58806610107422,-114.0252914428711,-109.42072296142578,-108.53573608398438,-111.42047882080078,-107.93240356445312,-114.12661743164062,-111.92323303222656,-109.62406921386719,-112.31587219238281,-110.59615325927734,-105.77578735351562,-108.0806655883789,-108.67057800292969,-113.53338623046875,-110.85481262207031,-113.83285522460938,-105.81639099121094,-111.03822326660156,-113.8201675415039,-115.48208618164062,-108.77363586425781,-106.5936508178711,-110.28238677978516,-112.00736236572266,-110.01568603515625,-111.11897277832031,-102.87956237792969,-109.0099105834961,-109.61201477050781,-113.94599914550781,-107.72549438476562,-112.55680084228516,-105.94181823730469,-99.88509368896484,-115.8968505859375,-113.52992248535156,-116.16197204589844,-110.09444427490234,-116.99527740478516,-101.6412353515625,-107.89739990234375,-112.09164428710938,-109.5631103515625,-107.45024871826172,-113.88638305664062,-106.35031127929688,-112.77704620361328,-105.93132019042969,-108.43316650390625,-117.4952163696289,-108.93875885009766,-110.56327819824219,-107.1820068359375,-108.75827026367188,-109.5484619140625,-111.69475555419922,-109.36837768554688,-105.96761322021484,-110.24357604980469,-112.24846649169922,-111.23982238769531,-112.07470703125,-115.59529113769531,-110.39468383789062,-113.53604888916016,-117.51373291015625,-106.07060241699219,-107.39786529541016,-117.32649993896484,-117.8233642578125,-110.26544952392578,-107.84634399414062,-115.09107208251953,-114.88770294189453,-109.69297790527344,-113.70875549316406,-110.62406158447266,-116.04357147216797,-109.99681091308594,-111.50254821777344,-107.83833312988281,-111.34622192382812,-108.19573974609375,-113.45811462402344,-109.67160034179688,-105.08602905273438,-110.77296447753906,-114.08251190185547,-114.8450698852539,-109.59564208984375,-110.54822540283203,-115.49465942382812,-111.70491027832031,-113.95088195800781,-111.77376556396484,-108.94904327392578,-109.8048095703125,-111.49095153808594,-109.44412994384766,-116.6825180053711,-108.1737060546875,-116.8089599609375,-113.86658477783203,-113.96637725830078,-111.9268798828125,-112.39820861816406,-112.37300109863281,-111.35249328613281,-115.08934783935547,-106.04138946533203,-118.24182891845703,-111.67453002929688,-109.00558471679688,-111.00598907470703,-109.4218521118164,-115.68620300292969,-114.01393127441406,-108.02336120605469,-111.22871398925781,-114.44657135009766,-112.60137176513672,-108.2657470703125,-114.09041595458984,-111.7949447631836,-111.74088287353516,-118.90959167480469,-112.50524139404297,-104.7650375366211,-111.6971206665039,-110.78712463378906,-113.70838165283203,-113.0541000366211,-113.4662094116211,-110.7060775756836,-112.39574432373047,-113.53949737548828,-108.84098815917969,-115.69170379638672,-111.22412109375,-107.61885070800781,-115.4622573852539,-111.51471710205078,-113.57212829589844,-108.83317565917969,-114.4583969116211,-111.67583465576172,-111.2480697631836,-102.43378448486328,-111.59577941894531,-114.95519256591797,-118.436767578125,-108.48081970214844,-112.95230102539062,-116.19751739501953,-110.81314086914062,-109.0763168334961,-114.29291534423828,-117.92108154296875,-120.85262298583984,-113.1567611694336,-115.1949691772461,-114.17835998535156,-108.34835052490234,-105.10206604003906,-109.22306823730469,-111.49492645263672,-118.29623413085938,-115.69900512695312,-113.34159851074219,-115.7514419555664,-117.35557556152344,-111.71762084960938,-111.11333465576172,-111.42872619628906,-116.70640563964844,-113.58659362792969,-115.65364074707031,-115.25959777832031,-116.17981719970703,-116.01803588867188,-105.87305450439453,-108.3102035522461,-110.15318298339844,-111.19341278076172,-108.25074768066406,-114.87159729003906,-115.27915954589844,-109.24356842041016,-114.67989349365234,-116.2384033203125,-110.75709533691406,-112.28120422363281,-115.35102081298828,-114.85474395751953,-105.90435028076172,-114.88479614257812,-108.59323120117188,-108.52857208251953,-113.50540161132812,-114.82688903808594,-108.78043365478516,-113.8336410522461,-112.5093002319336,-114.39878845214844,-109.79904174804688,-116.42916107177734,-107.30023956298828,-108.68772888183594,-108.81694793701172,-113.77251434326172,-114.31852722167969,-107.88827514648438,-113.55386352539062,-110.7219009399414,-114.15023803710938,-108.7087173461914,-110.310546875,-114.63287353515625,-108.99972534179688,-114.43183898925781,-111.31639099121094,-115.97402954101562,-108.22247314453125,-115.04362487792969,-114.48066711425781,-118.8019027709961,-108.25399780273438,-111.689208984375,-112.55242919921875,-117.7270278930664,-114.48747253417969,-112.03579711914062,-116.85986328125,-120.55266571044922,-111.43612670898438,-113.53184509277344,-114.01886749267578,-113.02222442626953,-113.35008239746094,-114.65306091308594,-119.47312927246094,-111.94388580322266,-113.27710723876953,-114.96684265136719,-116.16464233398438,-114.140869140625,-107.5806884765625,-115.9517593383789,-116.46135711669922,-114.32627868652344,-110.13565063476562,-109.32795715332031,-116.17874908447266,-112.39801025390625,-110.833984375,-114.22920989990234,-116.3979721069336,-110.15965270996094,-111.41926574707031,-114.30065155029297,-104.8482894897461,-113.81346130371094,-112.88455200195312,-108.80264282226562,-109.94447326660156,-111.04464721679688,-115.178955078125,-111.17024230957031,-115.34671783447266,-112.96173858642578,-113.6939926147461,-115.9437026977539,-107.99940490722656,-115.373291015625,-107.83320617675781,-112.31501770019531,-112.38993835449219,-113.45866394042969,-106.35411834716797,-115.74923706054688,-114.46247863769531,-111.34306335449219,-111.2061538696289,-107.52925109863281,-111.51649475097656,-115.4477310180664,-111.40647888183594,-112.75704956054688,-117.33537292480469,-110.87857818603516,-114.52351379394531,-115.29964447021484,-111.64832305908203,-113.88688659667969,-115.40985107421875,-117.34587860107422,-114.1812744140625,-112.55927276611328,-118.10173797607422,-115.04072570800781,-116.9805908203125,-109.60338592529297,-116.06925964355469,-117.7575912475586,-113.00855255126953,-112.74565887451172,-109.8226318359375,-111.55459594726562,-107.14627075195312,-111.07106018066406,-119.114501953125,-114.990478515625,-110.91100311279297,-116.20975494384766,-112.87684631347656,-108.00348663330078,-114.43285369873047,-105.08564758300781,-116.29911041259766,-111.57552337646484,-107.81582641601562,-118.57984161376953,-112.47624969482422,-112.57144165039062,-116.01504516601562,-111.83930969238281,-112.5625,-113.08204650878906,-117.1655502319336,-109.68510437011719,-107.09162139892578,-118.30986785888672,-113.18617248535156,-114.04713439941406,-111.76714324951172,-107.00657653808594,-112.12483215332031,-115.50995635986328,-110.24478149414062,-114.92906188964844,-117.70380401611328,-111.63040924072266,-109.79480743408203,-114.33441925048828,-114.95063781738281,-113.64588165283203,-114.77708435058594,-112.15769958496094,-115.1806411743164,-110.25273132324219,-113.27344512939453,-113.24653625488281,-112.6464614868164,-106.91830444335938,-108.56230926513672,-109.59783172607422,-110.40607452392578,-118.7021713256836,-116.75044250488281,-113.29620361328125,-111.17140197753906,-112.91288757324219,-109.84825897216797,-119.84480285644531,-116.88732147216797,-113.1550064086914,-121.25812530517578,-106.80516815185547,-120.75830078125,-113.36801147460938,-111.28433227539062,-114.79973602294922,-117.69475555419922,-108.61893463134766,-114.18863677978516,-112.24598693847656,-112.81702423095703,-109.46138763427734,-114.21884155273438,-109.6194839477539,-117.71269226074219,-109.83582305908203,-113.29313659667969,-113.02006530761719,-117.06462097167969,-108.10718536376953,-109.5018539428711,-115.1087875366211,-113.60968017578125,-112.92554473876953,-118.94669342041016,-112.37393188476562,-114.41255950927734,-114.5023193359375,-116.56967163085938,-115.43062591552734,-113.9412612915039,-115.25152587890625,-117.43183898925781,-116.21366882324219,-109.55681610107422,-113.84564971923828,-113.29486846923828,-115.98208618164062,-106.71511840820312,-111.64950561523438,-112.6317367553711,-112.06216430664062,-109.98712158203125,-110.08354949951172,-112.60137939453125,-114.78474426269531,-114.27363586425781,-106.72090148925781,-118.64950561523438,-118.07443237304688,-117.71162414550781,-110.6325912475586,-112.00204467773438,-113.0091552734375,-108.79749298095703,-112.06654357910156,-118.67292022705078,-114.57914733886719,-113.91566467285156,-113.46858215332031,-111.24098205566406,-116.85676574707031,-116.23100280761719,-110.35822296142578,-113.17036437988281,-110.4420166015625,-116.96875,-113.0341796875,-113.94071960449219,-114.99627685546875,-114.0280990600586,-118.51051330566406,-115.00840759277344,-110.53353881835938,-115.2125473022461,-114.02800750732422,-113.77588653564453,-114.85003662109375,-110.04484558105469,-113.09474182128906,-113.93238830566406,-117.14234924316406,-112.97501373291016,-117.52944946289062,-110.40035247802734,-114.89118194580078,-113.44568634033203,-114.93219757080078,-117.94959259033203,-111.16666412353516,-112.74465942382812,-119.69100189208984,-114.50860595703125,-115.8446273803711,-116.52030181884766,-112.16108703613281,-113.51335144042969,-109.70914459228516,-111.43386840820312,-116.97607421875,-113.81723022460938,-118.47734069824219,-109.10218811035156,-106.74193572998047,-110.03900146484375,-111.18170928955078,-116.35550689697266,-113.99774169921875,-115.49795532226562,-108.2340087890625,-116.77466583251953,-111.83617401123047,-112.5570297241211,-111.03347778320312,-116.0477523803711,-111.3505630493164,-116.29402160644531,-110.85818481445312,-116.03892517089844,-112.62893676757812,-111.75247955322266,-116.4381103515625,-112.73958587646484,-116.0820541381836,-110.91007995605469,-117.21981048583984,-107.91523742675781,-108.83618927001953,-110.61975860595703,-115.02167510986328,-116.94513702392578,-114.84980773925781,-115.3744125366211,-111.17235565185547,-110.85519409179688,-114.75723266601562,-116.23065185546875,-114.56623840332031,-116.25508117675781,-117.70997619628906,-112.629638671875,-112.98416137695312,-110.34364318847656,-115.22339630126953,-111.6049575805664,-111.41032409667969,-110.72760009765625,-116.59526824951172,-115.72530364990234,-117.27510070800781,-114.2551498413086,-118.52849578857422,-106.87427520751953,-114.67198944091797,-108.52539825439453,-115.0015640258789,-112.6356430053711,-113.5111083984375,-114.3103256225586,-114.40495300292969,-113.16020202636719,-116.39212799072266,-113.08089447021484,-112.00572967529297,-111.62535858154297,-116.23605346679688,-108.73234558105469,-117.7822036743164,-110.90480041503906,-111.31507110595703,-113.09645080566406,-114.1470947265625,-111.68701171875,-114.43092346191406,-113.01264190673828,-113.53990173339844,-116.90019989013672,-118.50975036621094,-114.84416198730469,-112.19903564453125,-112.48023986816406,-112.13151550292969,-115.33606719970703,-113.73151397705078,-117.68705749511719,-116.25640106201172,-121.27030944824219,-113.36827087402344,-117.25980377197266,-115.58757781982422,-113.00031280517578,-114.09032440185547,-112.88777160644531,-117.02739715576172,-115.48196411132812,-115.71554565429688,-105.20826721191406,-115.27674865722656,-116.12309265136719,-118.66741943359375,-115.83854675292969,-117.47728729248047,-114.3368148803711,-115.47782897949219,-110.21723937988281,-114.69832611083984,-116.59334564208984,-116.08844757080078,-115.96513366699219,-106.4617919921875,-118.8746566772461,-113.31075286865234,-113.56877899169922,-111.1919937133789,-112.29803466796875,-116.21062469482422,-118.26018524169922,-112.82280731201172,-118.11285400390625,-111.80887603759766,-108.12946319580078]}},\"id\":\"839601f6-4f68-4c1b-bcd9-c544554595bb\",\"type\":\"ColumnDataSource\"},{\"attributes\":{\"line_color\":{\"value\":\"purple\"},\"line_width\":{\"value\":0.5},\"x\":{\"field\":\"x\"},\"y\":{\"field\":\"y\"}},\"id\":\"3cb9b0e7-1f10-49a9-a105-68817aa4a798\",\"type\":\"Line\"},{\"attributes\":{},\"id\":\"b65d9142-82d4-4f6d-8c65-d83beac8e769\",\"type\":\"BasicTickFormatter\"},{\"attributes\":{\"plot\":null,\"text\":null},\"id\":\"4dae54a5-43e9-4417-b54c-414a722099ce\",\"type\":\"Title\"},{\"attributes\":{\"below\":[{\"id\":\"5882fa05-5651-4657-995c-c18d5fed89ce\",\"type\":\"LinearAxis\"}],\"left\":[{\"id\":\"0075bf01-d32c-4893-9389-72af95269696\",\"type\":\"LinearAxis\"}],\"plot_height\":500,\"plot_width\":500,\"renderers\":[{\"id\":\"5882fa05-5651-4657-995c-c18d5fed89ce\",\"type\":\"LinearAxis\"},{\"id\":\"df2d061d-fb8e-4152-95ac-c884f20e4f62\",\"type\":\"Grid\"},{\"id\":\"0075bf01-d32c-4893-9389-72af95269696\",\"type\":\"LinearAxis\"},{\"id\":\"4a24f556-c43a-490f-9bde-54b910b33916\",\"type\":\"Grid\"},{\"id\":\"60a7e59d-d7f2-48bc-9915-03a580d347af\",\"type\":\"BoxAnnotation\"},{\"id\":\"2c6f4198-e017-4327-a0b3-38673ecf8981\",\"type\":\"GlyphRenderer\"},{\"id\":\"6cabf4e0-fc78-4c2d-aa05-1a58e2cf1c58\",\"type\":\"GlyphRenderer\"}],\"title\":{\"id\":\"4dae54a5-43e9-4417-b54c-414a722099ce\",\"type\":\"Title\"},\"tool_events\":{\"id\":\"7b9870fa-aed4-4e5a-9851-f595e5859791\",\"type\":\"ToolEvents\"},\"toolbar\":{\"id\":\"6e3dc682-6209-4b59-93f4-8ca4d5e1437f\",\"type\":\"Toolbar\"},\"x_range\":{\"id\":\"02ca91da-d210-447b-a9fa-e3f3b8fdaee4\",\"type\":\"DataRange1d\"},\"y_range\":{\"id\":\"f5817b76-ee2f-42bd-aa50-67a37b184c01\",\"type\":\"DataRange1d\"}},\"id\":\"ce8709ac-d060-4d46-8693-54426371147d\",\"subtype\":\"Figure\",\"type\":\"Plot\"},{\"attributes\":{\"plot\":{\"id\":\"ce8709ac-d060-4d46-8693-54426371147d\",\"subtype\":\"Figure\",\"type\":\"Plot\"}},\"id\":\"2d75386c-e7e1-40ed-8880-7b89556f264e\",\"type\":\"ResetTool\"},{\"attributes\":{\"bottom_units\":\"screen\",\"fill_alpha\":{\"value\":0.5},\"fill_color\":{\"value\":\"lightgrey\"},\"left_units\":\"screen\",\"level\":\"overlay\",\"line_alpha\":{\"value\":1.0},\"line_color\":{\"value\":\"black\"},\"line_dash\":[4,4],\"line_width\":{\"value\":2},\"plot\":null,\"render_mode\":\"css\",\"right_units\":\"screen\",\"top_units\":\"screen\"},\"id\":\"60a7e59d-d7f2-48bc-9915-03a580d347af\",\"type\":\"BoxAnnotation\"}],\"root_ids\":[\"ce8709ac-d060-4d46-8693-54426371147d\"]},\"title\":\"Bokeh Application\",\"version\":\"0.12.3\"}};\n",
       "            var render_items = [{\"docid\":\"e1f23e16-de3a-448d-b8c6-4eedfd43b74f\",\"elementid\":\"b17e194f-67e2-4693-ad6f-8a569997a230\",\"modelid\":\"ce8709ac-d060-4d46-8693-54426371147d\"}];\n",
       "            \n",
       "            Bokeh.embed.embed_items(docs_json, render_items);\n",
       "        });\n",
       "      },\n",
       "      function(Bokeh) {\n",
       "      }\n",
       "    ];\n",
       "  \n",
       "    function run_inline_js() {\n",
       "      \n",
       "      if ((window.Bokeh !== undefined) || (force === \"1\")) {\n",
       "        for (var i = 0; i < inline_js.length; i++) {\n",
       "          inline_js[i](window.Bokeh);\n",
       "        }if (force === \"1\") {\n",
       "          display_loaded();\n",
       "        }} else if (Date.now() < window._bokeh_timeout) {\n",
       "        setTimeout(run_inline_js, 100);\n",
       "      } else if (!window._bokeh_failed_load) {\n",
       "        console.log(\"Bokeh: BokehJS failed to load within specified timeout.\");\n",
       "        window._bokeh_failed_load = true;\n",
       "      } else if (!force) {\n",
       "        var cell = $(\"#b17e194f-67e2-4693-ad6f-8a569997a230\").parents('.cell').data().cell;\n",
       "        cell.output_area.append_execute_result(NB_LOAD_WARNING)\n",
       "      }\n",
       "  \n",
       "    }\n",
       "  \n",
       "    if (window._bokeh_is_loading === 0) {\n",
       "      console.log(\"Bokeh: BokehJS loaded, going straight to plotting\");\n",
       "      run_inline_js();\n",
       "    } else {\n",
       "      load_libs(js_urls, function() {\n",
       "        console.log(\"Bokeh: BokehJS plotting callback run at\", now());\n",
       "        run_inline_js();\n",
       "      });\n",
       "    }\n",
       "  }(this));\n",
       "</script>"
      ]
     },
     "metadata": {},
     "output_type": "display_data"
    }
   ],
   "source": [
    "loss_p = figure(width=500, height=500)\n",
    "\n",
    "# Loss\n",
    "# loss_p.line(range(len(epoch_loss)), epoch_loss, line_width=0.5, color=\"green\")\n",
    "\n",
    "loss_p.line(range(len(kl_loss)), kl_loss, line_width=0.5, color=\"orange\")\n",
    "\n",
    "loss_p.line(range(len(data_loss)), data_loss, line_width=0.5, color=\"purple\")\n",
    "\n",
    "# loss_p.line(range(len(nn_epoch_loss)), nn_epoch_loss, line_width=1, color=\"green\")\n",
    "\n",
    "show(loss_p)"
   ]
  },
  {
   "cell_type": "code",
   "execution_count": 24,
   "metadata": {
    "collapsed": false
   },
   "outputs": [
    {
     "data": {
      "text/html": [
       "\n",
       "\n",
       "    <div class=\"bk-root\">\n",
       "        <div class=\"plotdiv\" id=\"f57a18c8-04cd-43df-a6d9-571657c0f382\"></div>\n",
       "    </div>\n",
       "<script type=\"text/javascript\">\n",
       "  \n",
       "  (function(global) {\n",
       "    function now() {\n",
       "      return new Date();\n",
       "    }\n",
       "  \n",
       "    var force = \"\";\n",
       "  \n",
       "    if (typeof (window._bokeh_onload_callbacks) === \"undefined\" || force !== \"\") {\n",
       "      window._bokeh_onload_callbacks = [];\n",
       "      window._bokeh_is_loading = undefined;\n",
       "    }\n",
       "  \n",
       "  \n",
       "    \n",
       "    if (typeof (window._bokeh_timeout) === \"undefined\" || force !== \"\") {\n",
       "      window._bokeh_timeout = Date.now() + 0;\n",
       "      window._bokeh_failed_load = false;\n",
       "    }\n",
       "  \n",
       "    var NB_LOAD_WARNING = {'data': {'text/html':\n",
       "       \"<div style='background-color: #fdd'>\\n\"+\n",
       "       \"<p>\\n\"+\n",
       "       \"BokehJS does not appear to have successfully loaded. If loading BokehJS from CDN, this \\n\"+\n",
       "       \"may be due to a slow or bad network connection. Possible fixes:\\n\"+\n",
       "       \"</p>\\n\"+\n",
       "       \"<ul>\\n\"+\n",
       "       \"<li>re-rerun `output_notebook()` to attempt to load from CDN again, or</li>\\n\"+\n",
       "       \"<li>use INLINE resources instead, as so:</li>\\n\"+\n",
       "       \"</ul>\\n\"+\n",
       "       \"<code>\\n\"+\n",
       "       \"from bokeh.resources import INLINE\\n\"+\n",
       "       \"output_notebook(resources=INLINE)\\n\"+\n",
       "       \"</code>\\n\"+\n",
       "       \"</div>\"}};\n",
       "  \n",
       "    function display_loaded() {\n",
       "      if (window.Bokeh !== undefined) {\n",
       "        Bokeh.$(\"#f57a18c8-04cd-43df-a6d9-571657c0f382\").text(\"BokehJS successfully loaded.\");\n",
       "      } else if (Date.now() < window._bokeh_timeout) {\n",
       "        setTimeout(display_loaded, 100)\n",
       "      }\n",
       "    }\n",
       "  \n",
       "    function run_callbacks() {\n",
       "      window._bokeh_onload_callbacks.forEach(function(callback) { callback() });\n",
       "      delete window._bokeh_onload_callbacks\n",
       "      console.info(\"Bokeh: all callbacks have finished\");\n",
       "    }\n",
       "  \n",
       "    function load_libs(js_urls, callback) {\n",
       "      window._bokeh_onload_callbacks.push(callback);\n",
       "      if (window._bokeh_is_loading > 0) {\n",
       "        console.log(\"Bokeh: BokehJS is being loaded, scheduling callback at\", now());\n",
       "        return null;\n",
       "      }\n",
       "      if (js_urls == null || js_urls.length === 0) {\n",
       "        run_callbacks();\n",
       "        return null;\n",
       "      }\n",
       "      console.log(\"Bokeh: BokehJS not loaded, scheduling load and callback at\", now());\n",
       "      window._bokeh_is_loading = js_urls.length;\n",
       "      for (var i = 0; i < js_urls.length; i++) {\n",
       "        var url = js_urls[i];\n",
       "        var s = document.createElement('script');\n",
       "        s.src = url;\n",
       "        s.async = false;\n",
       "        s.onreadystatechange = s.onload = function() {\n",
       "          window._bokeh_is_loading--;\n",
       "          if (window._bokeh_is_loading === 0) {\n",
       "            console.log(\"Bokeh: all BokehJS libraries loaded\");\n",
       "            run_callbacks()\n",
       "          }\n",
       "        };\n",
       "        s.onerror = function() {\n",
       "          console.warn(\"failed to load library \" + url);\n",
       "        };\n",
       "        console.log(\"Bokeh: injecting script tag for BokehJS library: \", url);\n",
       "        document.getElementsByTagName(\"head\")[0].appendChild(s);\n",
       "      }\n",
       "    };var element = document.getElementById(\"f57a18c8-04cd-43df-a6d9-571657c0f382\");\n",
       "    if (element == null) {\n",
       "      console.log(\"Bokeh: ERROR: autoload.js configured with elementid 'f57a18c8-04cd-43df-a6d9-571657c0f382' but no matching script tag was found. \")\n",
       "      return false;\n",
       "    }\n",
       "  \n",
       "    var js_urls = [];\n",
       "  \n",
       "    var inline_js = [\n",
       "      function(Bokeh) {\n",
       "        Bokeh.$(function() {\n",
       "            var docs_json = {\"82a3395d-3e10-4e4e-8c8d-d89539dd233b\":{\"roots\":{\"references\":[{\"attributes\":{\"bottom_units\":\"screen\",\"fill_alpha\":{\"value\":0.5},\"fill_color\":{\"value\":\"lightgrey\"},\"left_units\":\"screen\",\"level\":\"overlay\",\"line_alpha\":{\"value\":1.0},\"line_color\":{\"value\":\"black\"},\"line_dash\":[4,4],\"line_width\":{\"value\":2},\"plot\":null,\"render_mode\":\"css\",\"right_units\":\"screen\",\"top_units\":\"screen\"},\"id\":\"6814a33d-faaa-4157-a356-b542298199f3\",\"type\":\"BoxAnnotation\"},{\"attributes\":{\"plot\":null,\"text\":null},\"id\":\"8d17d4df-feae-4c22-8186-c9331bf1902f\",\"type\":\"Title\"},{\"attributes\":{},\"id\":\"2e66303c-28f8-44b3-8b25-31dc06790f41\",\"type\":\"BasicTicker\"},{\"attributes\":{\"plot\":{\"id\":\"136aa513-e302-4767-a866-2c1eb93980b7\",\"subtype\":\"Figure\",\"type\":\"Plot\"}},\"id\":\"a20ed011-8b33-4cc9-b1c4-6e199b3d1419\",\"type\":\"HelpTool\"},{\"attributes\":{\"dimension\":1,\"plot\":{\"id\":\"136aa513-e302-4767-a866-2c1eb93980b7\",\"subtype\":\"Figure\",\"type\":\"Plot\"},\"ticker\":{\"id\":\"33951d8d-ff51-47ee-be2d-8994f46fea0a\",\"type\":\"BasicTicker\"}},\"id\":\"6eed6585-80b4-48b7-84d5-37c67e106622\",\"type\":\"Grid\"},{\"attributes\":{\"overlay\":{\"id\":\"6814a33d-faaa-4157-a356-b542298199f3\",\"type\":\"BoxAnnotation\"},\"plot\":{\"id\":\"136aa513-e302-4767-a866-2c1eb93980b7\",\"subtype\":\"Figure\",\"type\":\"Plot\"}},\"id\":\"6b069b2b-e39e-474e-90d9-a9fff11ea301\",\"type\":\"BoxZoomTool\"},{\"attributes\":{\"line_alpha\":{\"value\":0.1},\"line_color\":{\"value\":\"#1f77b4\"},\"line_width\":{\"value\":0.5},\"x\":{\"field\":\"x\"},\"y\":{\"field\":\"y\"}},\"id\":\"9a382547-f00b-47e2-86e8-0f079e8ed7cc\",\"type\":\"Line\"},{\"attributes\":{\"formatter\":{\"id\":\"6150b943-33a8-4e12-b83a-fb287f048ea9\",\"type\":\"BasicTickFormatter\"},\"plot\":{\"id\":\"136aa513-e302-4767-a866-2c1eb93980b7\",\"subtype\":\"Figure\",\"type\":\"Plot\"},\"ticker\":{\"id\":\"33951d8d-ff51-47ee-be2d-8994f46fea0a\",\"type\":\"BasicTicker\"}},\"id\":\"e5d75ce3-9bb2-488d-86d3-4d7dd81c28f8\",\"type\":\"LinearAxis\"},{\"attributes\":{},\"id\":\"357d1e30-0e57-4df4-a4e3-bf3127542ceb\",\"type\":\"BasicTickFormatter\"},{\"attributes\":{},\"id\":\"33951d8d-ff51-47ee-be2d-8994f46fea0a\",\"type\":\"BasicTicker\"},{\"attributes\":{\"plot\":{\"id\":\"136aa513-e302-4767-a866-2c1eb93980b7\",\"subtype\":\"Figure\",\"type\":\"Plot\"}},\"id\":\"2aacde82-fc0a-404e-950a-8284d7c6bdb1\",\"type\":\"ResetTool\"},{\"attributes\":{},\"id\":\"69009f08-b82d-4965-913c-2ab2cd4e4861\",\"type\":\"ToolEvents\"},{\"attributes\":{\"data_source\":{\"id\":\"87a078cd-e3a6-4aa5-a879-670fb79d8163\",\"type\":\"ColumnDataSource\"},\"glyph\":{\"id\":\"9727f2ef-a856-47b9-83be-3a3a8ac78355\",\"type\":\"Line\"},\"hover_glyph\":null,\"nonselection_glyph\":{\"id\":\"9a382547-f00b-47e2-86e8-0f079e8ed7cc\",\"type\":\"Line\"},\"selection_glyph\":null},\"id\":\"0baa2b61-708d-494e-8168-499164f264ff\",\"type\":\"GlyphRenderer\"},{\"attributes\":{\"callback\":null},\"id\":\"ed1d113d-0f0f-4e4b-bcd4-f51e17188c91\",\"type\":\"DataRange1d\"},{\"attributes\":{},\"id\":\"6150b943-33a8-4e12-b83a-fb287f048ea9\",\"type\":\"BasicTickFormatter\"},{\"attributes\":{\"callback\":null,\"column_names\":[\"y\",\"x\"],\"data\":{\"x\":[0,1,2,3,4,5,6,7,8,9,10,11,12,13,14,15,16,17,18,19,20,21,22,23,24,25,26,27,28,29,30,31,32,33,34,35,36,37,38,39,40,41,42,43,44,45,46,47,48,49,50,51,52,53,54,55,56,57,58,59,60,61,62,63,64,65,66,67,68,69,70,71,72,73,74,75,76,77,78,79,80,81,82,83,84,85,86,87,88,89,90,91,92,93,94,95,96,97,98],\"y\":[180.26632690429688,211.42648315429688,70.3236312866211,42.07246017456055,29.87706184387207,21.603343963623047,15.95816421508789,12.240982055664062,10.31875228881836,9.973257064819336,9.20588207244873,8.008600234985352,9.003644943237305,7.625891208648682,6.9690399169921875,6.938078880310059,7.875462532043457,8.244913101196289,6.432112693786621,6.011536121368408,6.355739116668701,6.662700653076172,5.575765132904053,5.285396099090576,5.790022373199463,6.646054744720459,5.633589267730713,5.042888164520264,5.254053592681885,5.419511795043945,4.756138801574707,4.8638410568237305,5.729896545410156,5.837319850921631,4.716634273529053,5.003407955169678,6.558431148529053,6.398896217346191,6.6111884117126465,5.870480537414551,5.071624279022217,4.441436767578125,4.915372848510742,4.790281772613525,5.256168842315674,4.452095031738281,3.6576642990112305,3.955061912536621,4.155078887939453,3.7310333251953125,4.559000015258789,4.948728084564209,4.319242477416992,5.333761215209961,4.687760829925537,3.9786477088928223,3.091865062713623,4.314916610717773,4.980284214019775,4.660749912261963,3.9572830200195312,5.193000793457031,5.89213752746582,4.27476692199707,3.8918256759643555,4.707784175872803,3.6016926765441895,5.165346145629883,4.020946502685547,3.4965481758117676,4.491716384887695,3.5727181434631348,3.6516189575195312,3.401625156402588,3.9734582901000977,3.593146800994873,2.9406890869140625,3.8932995796203613,3.154855728149414,4.676897048950195,2.8194923400878906,3.821465015411377,3.368041515350342,3.5528974533081055,2.8019590377807617,2.8923096656799316,3.332179546356201,3.1135926246643066,3.903501033782959,2.726442813873291,4.574941635131836,4.449872970581055,3.3165078163146973,2.645536422729492,3.6836366653442383,4.119462966918945,2.7730350494384766,4.124933242797852,3.90120267868042]}},\"id\":\"87a078cd-e3a6-4aa5-a879-670fb79d8163\",\"type\":\"ColumnDataSource\"},{\"attributes\":{\"plot\":{\"id\":\"136aa513-e302-4767-a866-2c1eb93980b7\",\"subtype\":\"Figure\",\"type\":\"Plot\"}},\"id\":\"80bbdcbf-4429-4117-9945-881b777699d1\",\"type\":\"PanTool\"},{\"attributes\":{\"callback\":null},\"id\":\"daa57a31-b9bd-415c-960a-5004e6cc6f27\",\"type\":\"DataRange1d\"},{\"attributes\":{\"formatter\":{\"id\":\"357d1e30-0e57-4df4-a4e3-bf3127542ceb\",\"type\":\"BasicTickFormatter\"},\"plot\":{\"id\":\"136aa513-e302-4767-a866-2c1eb93980b7\",\"subtype\":\"Figure\",\"type\":\"Plot\"},\"ticker\":{\"id\":\"2e66303c-28f8-44b3-8b25-31dc06790f41\",\"type\":\"BasicTicker\"}},\"id\":\"a10b93d8-5192-46b9-9aeb-f4118fa021b8\",\"type\":\"LinearAxis\"},{\"attributes\":{\"active_drag\":\"auto\",\"active_scroll\":\"auto\",\"active_tap\":\"auto\",\"tools\":[{\"id\":\"80bbdcbf-4429-4117-9945-881b777699d1\",\"type\":\"PanTool\"},{\"id\":\"fff921bd-ad2e-4188-a5b4-dee072a95daf\",\"type\":\"WheelZoomTool\"},{\"id\":\"6b069b2b-e39e-474e-90d9-a9fff11ea301\",\"type\":\"BoxZoomTool\"},{\"id\":\"b26ad0ad-28dd-4a48-870c-d50ba6566935\",\"type\":\"SaveTool\"},{\"id\":\"2aacde82-fc0a-404e-950a-8284d7c6bdb1\",\"type\":\"ResetTool\"},{\"id\":\"a20ed011-8b33-4cc9-b1c4-6e199b3d1419\",\"type\":\"HelpTool\"}]},\"id\":\"07a38b66-ea57-4a51-8774-1085d5629995\",\"type\":\"Toolbar\"},{\"attributes\":{\"plot\":{\"id\":\"136aa513-e302-4767-a866-2c1eb93980b7\",\"subtype\":\"Figure\",\"type\":\"Plot\"}},\"id\":\"b26ad0ad-28dd-4a48-870c-d50ba6566935\",\"type\":\"SaveTool\"},{\"attributes\":{\"line_color\":{\"value\":\"red\"},\"line_width\":{\"value\":0.5},\"x\":{\"field\":\"x\"},\"y\":{\"field\":\"y\"}},\"id\":\"9727f2ef-a856-47b9-83be-3a3a8ac78355\",\"type\":\"Line\"},{\"attributes\":{\"plot\":{\"id\":\"136aa513-e302-4767-a866-2c1eb93980b7\",\"subtype\":\"Figure\",\"type\":\"Plot\"},\"ticker\":{\"id\":\"2e66303c-28f8-44b3-8b25-31dc06790f41\",\"type\":\"BasicTicker\"}},\"id\":\"14782dfe-bbaf-448e-9b09-949420490631\",\"type\":\"Grid\"},{\"attributes\":{\"below\":[{\"id\":\"a10b93d8-5192-46b9-9aeb-f4118fa021b8\",\"type\":\"LinearAxis\"}],\"left\":[{\"id\":\"e5d75ce3-9bb2-488d-86d3-4d7dd81c28f8\",\"type\":\"LinearAxis\"}],\"plot_height\":500,\"plot_width\":500,\"renderers\":[{\"id\":\"a10b93d8-5192-46b9-9aeb-f4118fa021b8\",\"type\":\"LinearAxis\"},{\"id\":\"14782dfe-bbaf-448e-9b09-949420490631\",\"type\":\"Grid\"},{\"id\":\"e5d75ce3-9bb2-488d-86d3-4d7dd81c28f8\",\"type\":\"LinearAxis\"},{\"id\":\"6eed6585-80b4-48b7-84d5-37c67e106622\",\"type\":\"Grid\"},{\"id\":\"6814a33d-faaa-4157-a356-b542298199f3\",\"type\":\"BoxAnnotation\"},{\"id\":\"0baa2b61-708d-494e-8168-499164f264ff\",\"type\":\"GlyphRenderer\"}],\"title\":{\"id\":\"8d17d4df-feae-4c22-8186-c9331bf1902f\",\"type\":\"Title\"},\"tool_events\":{\"id\":\"69009f08-b82d-4965-913c-2ab2cd4e4861\",\"type\":\"ToolEvents\"},\"toolbar\":{\"id\":\"07a38b66-ea57-4a51-8774-1085d5629995\",\"type\":\"Toolbar\"},\"x_range\":{\"id\":\"daa57a31-b9bd-415c-960a-5004e6cc6f27\",\"type\":\"DataRange1d\"},\"y_range\":{\"id\":\"ed1d113d-0f0f-4e4b-bcd4-f51e17188c91\",\"type\":\"DataRange1d\"}},\"id\":\"136aa513-e302-4767-a866-2c1eb93980b7\",\"subtype\":\"Figure\",\"type\":\"Plot\"},{\"attributes\":{\"plot\":{\"id\":\"136aa513-e302-4767-a866-2c1eb93980b7\",\"subtype\":\"Figure\",\"type\":\"Plot\"}},\"id\":\"fff921bd-ad2e-4188-a5b4-dee072a95daf\",\"type\":\"WheelZoomTool\"}],\"root_ids\":[\"136aa513-e302-4767-a866-2c1eb93980b7\"]},\"title\":\"Bokeh Application\",\"version\":\"0.12.3\"}};\n",
       "            var render_items = [{\"docid\":\"82a3395d-3e10-4e4e-8c8d-d89539dd233b\",\"elementid\":\"f57a18c8-04cd-43df-a6d9-571657c0f382\",\"modelid\":\"136aa513-e302-4767-a866-2c1eb93980b7\"}];\n",
       "            \n",
       "            Bokeh.embed.embed_items(docs_json, render_items);\n",
       "        });\n",
       "      },\n",
       "      function(Bokeh) {\n",
       "      }\n",
       "    ];\n",
       "  \n",
       "    function run_inline_js() {\n",
       "      \n",
       "      if ((window.Bokeh !== undefined) || (force === \"1\")) {\n",
       "        for (var i = 0; i < inline_js.length; i++) {\n",
       "          inline_js[i](window.Bokeh);\n",
       "        }if (force === \"1\") {\n",
       "          display_loaded();\n",
       "        }} else if (Date.now() < window._bokeh_timeout) {\n",
       "        setTimeout(run_inline_js, 100);\n",
       "      } else if (!window._bokeh_failed_load) {\n",
       "        console.log(\"Bokeh: BokehJS failed to load within specified timeout.\");\n",
       "        window._bokeh_failed_load = true;\n",
       "      } else if (!force) {\n",
       "        var cell = $(\"#f57a18c8-04cd-43df-a6d9-571657c0f382\").parents('.cell').data().cell;\n",
       "        cell.output_area.append_execute_result(NB_LOAD_WARNING)\n",
       "      }\n",
       "  \n",
       "    }\n",
       "  \n",
       "    if (window._bokeh_is_loading === 0) {\n",
       "      console.log(\"Bokeh: BokehJS loaded, going straight to plotting\");\n",
       "      run_inline_js();\n",
       "    } else {\n",
       "      load_libs(js_urls, function() {\n",
       "        console.log(\"Bokeh: BokehJS plotting callback run at\", now());\n",
       "        run_inline_js();\n",
       "      });\n",
       "    }\n",
       "  }(this));\n",
       "</script>"
      ]
     },
     "metadata": {},
     "output_type": "display_data"
    }
   ],
   "source": [
    "loss_kl = figure(width=500, height=500)\n",
    "\n",
    "loss_kl.line(range(len(kl_divs)), kl_divs, line_width=0.5, color=\"red\")\n",
    "\n",
    "show(loss_kl)"
   ]
  },
  {
   "cell_type": "code",
   "execution_count": 25,
   "metadata": {
    "collapsed": false
   },
   "outputs": [
    {
     "data": {
      "text/html": [
       "\n",
       "\n",
       "    <div class=\"bk-root\">\n",
       "        <div class=\"plotdiv\" id=\"c392ae53-fc24-4a55-a60f-56ef4547094f\"></div>\n",
       "    </div>\n",
       "<script type=\"text/javascript\">\n",
       "  \n",
       "  (function(global) {\n",
       "    function now() {\n",
       "      return new Date();\n",
       "    }\n",
       "  \n",
       "    var force = \"\";\n",
       "  \n",
       "    if (typeof (window._bokeh_onload_callbacks) === \"undefined\" || force !== \"\") {\n",
       "      window._bokeh_onload_callbacks = [];\n",
       "      window._bokeh_is_loading = undefined;\n",
       "    }\n",
       "  \n",
       "  \n",
       "    \n",
       "    if (typeof (window._bokeh_timeout) === \"undefined\" || force !== \"\") {\n",
       "      window._bokeh_timeout = Date.now() + 0;\n",
       "      window._bokeh_failed_load = false;\n",
       "    }\n",
       "  \n",
       "    var NB_LOAD_WARNING = {'data': {'text/html':\n",
       "       \"<div style='background-color: #fdd'>\\n\"+\n",
       "       \"<p>\\n\"+\n",
       "       \"BokehJS does not appear to have successfully loaded. If loading BokehJS from CDN, this \\n\"+\n",
       "       \"may be due to a slow or bad network connection. Possible fixes:\\n\"+\n",
       "       \"</p>\\n\"+\n",
       "       \"<ul>\\n\"+\n",
       "       \"<li>re-rerun `output_notebook()` to attempt to load from CDN again, or</li>\\n\"+\n",
       "       \"<li>use INLINE resources instead, as so:</li>\\n\"+\n",
       "       \"</ul>\\n\"+\n",
       "       \"<code>\\n\"+\n",
       "       \"from bokeh.resources import INLINE\\n\"+\n",
       "       \"output_notebook(resources=INLINE)\\n\"+\n",
       "       \"</code>\\n\"+\n",
       "       \"</div>\"}};\n",
       "  \n",
       "    function display_loaded() {\n",
       "      if (window.Bokeh !== undefined) {\n",
       "        Bokeh.$(\"#c392ae53-fc24-4a55-a60f-56ef4547094f\").text(\"BokehJS successfully loaded.\");\n",
       "      } else if (Date.now() < window._bokeh_timeout) {\n",
       "        setTimeout(display_loaded, 100)\n",
       "      }\n",
       "    }\n",
       "  \n",
       "    function run_callbacks() {\n",
       "      window._bokeh_onload_callbacks.forEach(function(callback) { callback() });\n",
       "      delete window._bokeh_onload_callbacks\n",
       "      console.info(\"Bokeh: all callbacks have finished\");\n",
       "    }\n",
       "  \n",
       "    function load_libs(js_urls, callback) {\n",
       "      window._bokeh_onload_callbacks.push(callback);\n",
       "      if (window._bokeh_is_loading > 0) {\n",
       "        console.log(\"Bokeh: BokehJS is being loaded, scheduling callback at\", now());\n",
       "        return null;\n",
       "      }\n",
       "      if (js_urls == null || js_urls.length === 0) {\n",
       "        run_callbacks();\n",
       "        return null;\n",
       "      }\n",
       "      console.log(\"Bokeh: BokehJS not loaded, scheduling load and callback at\", now());\n",
       "      window._bokeh_is_loading = js_urls.length;\n",
       "      for (var i = 0; i < js_urls.length; i++) {\n",
       "        var url = js_urls[i];\n",
       "        var s = document.createElement('script');\n",
       "        s.src = url;\n",
       "        s.async = false;\n",
       "        s.onreadystatechange = s.onload = function() {\n",
       "          window._bokeh_is_loading--;\n",
       "          if (window._bokeh_is_loading === 0) {\n",
       "            console.log(\"Bokeh: all BokehJS libraries loaded\");\n",
       "            run_callbacks()\n",
       "          }\n",
       "        };\n",
       "        s.onerror = function() {\n",
       "          console.warn(\"failed to load library \" + url);\n",
       "        };\n",
       "        console.log(\"Bokeh: injecting script tag for BokehJS library: \", url);\n",
       "        document.getElementsByTagName(\"head\")[0].appendChild(s);\n",
       "      }\n",
       "    };var element = document.getElementById(\"c392ae53-fc24-4a55-a60f-56ef4547094f\");\n",
       "    if (element == null) {\n",
       "      console.log(\"Bokeh: ERROR: autoload.js configured with elementid 'c392ae53-fc24-4a55-a60f-56ef4547094f' but no matching script tag was found. \")\n",
       "      return false;\n",
       "    }\n",
       "  \n",
       "    var js_urls = [];\n",
       "  \n",
       "    var inline_js = [\n",
       "      function(Bokeh) {\n",
       "        Bokeh.$(function() {\n",
       "            var docs_json = {\"f23a31e8-540d-46cf-b41c-601b389b9c3b\":{\"roots\":{\"references\":[{\"attributes\":{},\"id\":\"6e5708ed-6216-478e-851b-e513f1bd25a4\",\"type\":\"ToolEvents\"},{\"attributes\":{\"below\":[{\"id\":\"45572423-e530-4f42-a4d8-b232d88a5194\",\"type\":\"LinearAxis\"}],\"left\":[{\"id\":\"ca1647c1-8443-468c-9a54-82e8cbedef7f\",\"type\":\"LinearAxis\"}],\"plot_height\":500,\"plot_width\":500,\"renderers\":[{\"id\":\"45572423-e530-4f42-a4d8-b232d88a5194\",\"type\":\"LinearAxis\"},{\"id\":\"afcbd563-ba61-44ba-9650-a603b73b9cd1\",\"type\":\"Grid\"},{\"id\":\"ca1647c1-8443-468c-9a54-82e8cbedef7f\",\"type\":\"LinearAxis\"},{\"id\":\"ed0a7da0-f7ab-470e-970b-38959ca48329\",\"type\":\"Grid\"},{\"id\":\"febe6f93-5156-459b-9a88-5b9777fb273b\",\"type\":\"BoxAnnotation\"},{\"id\":\"e7cba5f3-6afc-43fd-bbf3-017edc8759be\",\"type\":\"GlyphRenderer\"}],\"title\":{\"id\":\"7ed36c56-3f82-4300-aba5-8f9cb29cd05c\",\"type\":\"Title\"},\"tool_events\":{\"id\":\"6e5708ed-6216-478e-851b-e513f1bd25a4\",\"type\":\"ToolEvents\"},\"toolbar\":{\"id\":\"18434741-f7bb-458d-99e7-9e7ca4bdd0f5\",\"type\":\"Toolbar\"},\"x_range\":{\"id\":\"2b5c4de8-b63b-45c6-80c3-2aed988f1285\",\"type\":\"DataRange1d\"},\"y_range\":{\"id\":\"7ed2993f-07bb-4b33-9bb1-5eb40c1ba836\",\"type\":\"DataRange1d\"}},\"id\":\"323a92c0-77d4-481e-b1f1-d2f361ad061b\",\"subtype\":\"Figure\",\"type\":\"Plot\"},{\"attributes\":{\"callback\":null},\"id\":\"7ed2993f-07bb-4b33-9bb1-5eb40c1ba836\",\"type\":\"DataRange1d\"},{\"attributes\":{\"line_alpha\":{\"value\":0.1},\"line_color\":{\"value\":\"#1f77b4\"},\"line_width\":{\"value\":0.5},\"x\":{\"field\":\"x\"},\"y\":{\"field\":\"y\"}},\"id\":\"b795b383-e0fa-4fd9-87bf-c9e2897f5469\",\"type\":\"Line\"},{\"attributes\":{\"plot\":{\"id\":\"323a92c0-77d4-481e-b1f1-d2f361ad061b\",\"subtype\":\"Figure\",\"type\":\"Plot\"}},\"id\":\"bb07a19d-1095-45a6-8b5c-12cda07f047d\",\"type\":\"PanTool\"},{\"attributes\":{\"line_color\":{\"value\":\"blue\"},\"line_width\":{\"value\":0.5},\"x\":{\"field\":\"x\"},\"y\":{\"field\":\"y\"}},\"id\":\"8264a3a7-61f6-463e-b626-069f5d5a780b\",\"type\":\"Line\"},{\"attributes\":{},\"id\":\"113fccc7-1a98-4536-ba94-6f143412932c\",\"type\":\"BasicTickFormatter\"},{\"attributes\":{},\"id\":\"821c7e9a-aaa6-4649-ab5c-420d6476014b\",\"type\":\"BasicTickFormatter\"},{\"attributes\":{\"overlay\":{\"id\":\"febe6f93-5156-459b-9a88-5b9777fb273b\",\"type\":\"BoxAnnotation\"},\"plot\":{\"id\":\"323a92c0-77d4-481e-b1f1-d2f361ad061b\",\"subtype\":\"Figure\",\"type\":\"Plot\"}},\"id\":\"c64cb646-cd19-41ac-9bd2-37fb55766228\",\"type\":\"BoxZoomTool\"},{\"attributes\":{\"callback\":null,\"column_names\":[\"y\",\"x\"],\"data\":{\"x\":[0,1,2,3,4,5,6,7,8,9,10,11,12,13,14,15,16,17,18,19,20,21,22,23,24,25,26,27,28,29,30,31,32,33,34,35,36,37,38,39,40,41,42,43,44,45,46,47,48,49,50,51,52,53,54,55,56,57,58,59,60,61,62,63,64,65,66,67,68,69,70,71,72,73,74,75,76,77,78,79,80,81,82,83,84,85,86,87,88,89,90,91,92,93,94,95,96,97,98,99,100,101,102,103,104,105,106,107,108,109,110,111,112,113,114,115,116,117,118,119,120,121,122,123,124,125,126,127,128,129,130,131,132,133,134,135,136,137,138,139,140,141,142,143,144,145,146,147,148,149,150,151,152,153,154,155,156,157,158,159,160,161,162,163,164,165,166,167,168,169,170,171,172,173,174,175,176,177,178,179,180,181,182,183,184,185,186,187,188,189,190,191,192,193,194,195,196,197,198,199,200,201,202,203,204,205,206,207,208,209,210,211,212,213,214,215,216,217,218,219,220,221,222,223,224,225,226,227,228,229,230,231,232,233,234,235,236,237,238,239,240,241,242,243,244,245,246,247,248,249,250,251,252,253,254,255,256,257,258,259,260,261,262,263,264,265,266,267,268,269,270,271,272,273,274,275,276,277,278,279,280,281,282,283,284,285,286,287,288,289,290,291,292,293,294,295,296,297,298,299,300,301,302,303,304,305,306,307,308,309,310,311,312,313,314,315,316,317,318,319,320,321,322,323,324,325,326,327,328,329,330,331,332,333,334,335,336,337,338,339,340,341,342,343,344,345,346,347,348,349,350,351,352,353,354,355,356,357,358,359,360,361,362,363,364,365,366,367,368,369,370,371,372,373,374,375,376,377,378,379,380,381,382,383,384,385,386,387,388,389,390,391,392,393,394,395,396,397,398,399,400,401,402,403,404,405,406,407,408,409,410,411,412,413,414,415,416,417,418,419,420,421,422,423,424,425,426,427,428,429,430,431,432,433,434,435,436,437,438,439,440,441,442,443,444,445,446,447,448,449,450,451,452,453,454,455,456,457,458,459,460,461,462,463,464,465,466,467,468,469,470,471,472,473,474,475,476,477,478,479,480,481,482,483,484,485,486,487,488,489,490,491,492,493,494,495,496,497,498,499],\"y\":[[0.10170000046491623],[0.08720000088214874],[0.09799999743700027],[0.10180000215768814],[0.09950000047683716],[0.11429999768733978],[0.3400999903678894],[0.3677999973297119],[0.34790000319480896],[0.39579999446868896],[0.4528000056743622],[0.5270000100135803],[0.579200029373169],[0.6406000256538391],[0.5598999857902527],[0.6333000063896179],[0.6761999726295471],[0.6571000218391418],[0.6850000023841858],[0.6751000285148621],[0.6462000012397766],[0.7146999835968018],[0.6484000086784363],[0.7250999808311462],[0.7271999716758728],[0.7396000027656555],[0.7554000020027161],[0.7437000274658203],[0.6869999766349792],[0.7669000029563904],[0.7211999893188477],[0.7483999729156494],[0.7581999897956848],[0.7401000261306763],[0.6862999796867371],[0.7574999928474426],[0.7598000168800354],[0.7451000213623047],[0.7526999711990356],[0.7245000004768372],[0.734000027179718],[0.7501000165939331],[0.7540000081062317],[0.7445999979972839],[0.7141000032424927],[0.7681000232696533],[0.7914999723434448],[0.7620000243186951],[0.7851999998092651],[0.7675999999046326],[0.76910001039505],[0.7878999710083008],[0.7867000102996826],[0.7709000110626221],[0.771399974822998],[0.7978000044822693],[0.7803999781608582],[0.7983999848365784],[0.8016999959945679],[0.803600013256073],[0.7721999883651733],[0.789900004863739],[0.7936000227928162],[0.8001000285148621],[0.7983999848365784],[0.8065999746322632],[0.8054999709129333],[0.8084999918937683],[0.7764999866485596],[0.7886000275611877],[0.7911999821662903],[0.7997000217437744],[0.7763000130653381],[0.8086000084877014],[0.8008000254631042],[0.7936000227928162],[0.7918000221252441],[0.7581999897956848],[0.8116000294685364],[0.8115000128746033],[0.8126999735832214],[0.7861999869346619],[0.8001999855041504],[0.8127999901771545],[0.8019999861717224],[0.8080999851226807],[0.810699999332428],[0.807699978351593],[0.7979999780654907],[0.8113999962806702],[0.7943999767303467],[0.8152999877929688],[0.7985000014305115],[0.8083999752998352],[0.8011000156402588],[0.8127999901771545],[0.7940999865531921],[0.8123000264167786],[0.7922000288963318],[0.8108000159263611],[0.8043000102043152],[0.7976999878883362],[0.8037999868392944],[0.8166999816894531],[0.8163999915122986],[0.8098999857902527],[0.7996000051498413],[0.8064000010490417],[0.8162999749183655],[0.7996000051498413],[0.8112999796867371],[0.8029999732971191],[0.816100001335144],[0.8046000003814697],[0.8166000247001648],[0.8136000037193298],[0.800000011920929],[0.8201000094413757],[0.8100000023841858],[0.8112999796867371],[0.8172000050544739],[0.8159999847412109],[0.8062999844551086],[0.815500020980835],[0.8141000270843506],[0.8083000183105469],[0.8185999989509583],[0.8159999847412109],[0.8136000037193298],[0.8198000192642212],[0.8245999813079834],[0.8101999759674072],[0.8119999766349792],[0.8198000192642212],[0.8162999749183655],[0.8184000253677368],[0.8059999942779541],[0.8101999759674072],[0.8165000081062317],[0.8242999911308289],[0.8198000192642212],[0.8240000009536743],[0.8155999779701233],[0.8052999973297119],[0.8077999949455261],[0.8185999989509583],[0.8241000175476074],[0.8147000074386597],[0.817799985408783],[0.8087000250816345],[0.8263000249862671],[0.8216000199317932],[0.8130000233650208],[0.8241000175476074],[0.8113999962806702],[0.8133000135421753],[0.814300000667572],[0.8184000253677368],[0.8159999847412109],[0.8141000270843506],[0.8224999904632568],[0.8253999948501587],[0.8108000159263611],[0.8201000094413757],[0.8198999762535095],[0.8264999985694885],[0.8234000205993652],[0.8224999904632568],[0.8276000022888184],[0.8508999943733215],[0.8165000081062317],[0.8192999958992004],[0.8291000127792358],[0.8136000037193298],[0.8478000164031982],[0.821399986743927],[0.8255000114440918],[0.8195000290870667],[0.8130000233650208],[0.8532999753952026],[0.8294000029563904],[0.8302000164985657],[0.8338000178337097],[0.849399983882904],[0.8230999708175659],[0.8619999885559082],[0.8503000140190125],[0.8360000252723694],[0.8690000176429749],[0.8510000109672546],[0.8593999743461609],[0.8575999736785889],[0.859000027179718],[0.8644000291824341],[0.8650000095367432],[0.8637999892234802],[0.840399980545044],[0.8677999973297119],[0.85589998960495],[0.8294000029563904],[0.8537999987602234],[0.8562999963760376],[0.8465999960899353],[0.8586999773979187],[0.8633999824523926],[0.859499990940094],[0.8666999936103821],[0.8578000068664551],[0.8687000274658203],[0.8802000284194946],[0.8662999868392944],[0.8514000177383423],[0.8450000286102295],[0.8597000241279602],[0.8740000128746033],[0.8676000237464905],[0.8682000041007996],[0.8741999864578247],[0.8766999840736389],[0.8761000037193298],[0.8834999799728394],[0.8697999715805054],[0.8729000091552734],[0.8808000087738037],[0.8693000078201294],[0.8557000160217285],[0.8752999901771545],[0.8774999976158142],[0.8737000226974487],[0.880299985408783],[0.8737999796867371],[0.8756999969482422],[0.8680999875068665],[0.8755999803543091],[0.8805999755859375],[0.8794999718666077],[0.8812000155448914],[0.8503000140190125],[0.8845000267028809],[0.8845999836921692],[0.8744000196456909],[0.8784999847412109],[0.8849999904632568],[0.8822000026702881],[0.861299991607666],[0.8783000111579895],[0.8712000250816345],[0.8949000239372253],[0.8895999789237976],[0.8741000294685364],[0.8866000175476074],[0.8781999945640564],[0.8799999952316284],[0.8916000127792358],[0.8762999773025513],[0.8899999856948853],[0.8895000219345093],[0.8590999841690063],[0.8812000155448914],[0.8737999796867371],[0.8741000294685364],[0.8896999955177307],[0.8754000067710876],[0.8883000016212463],[0.8851000070571899],[0.8944000005722046],[0.8693000078201294],[0.8831999897956848],[0.8708999752998352],[0.8690999746322632],[0.8754000067710876],[0.8863999843597412],[0.8758000135421753],[0.8910999894142151],[0.8705999851226807],[0.8902999758720398],[0.8930000066757202],[0.8418999910354614],[0.8870000243186951],[0.8806999921798706],[0.8791000247001648],[0.8903999924659729],[0.890999972820282],[0.8723999857902527],[0.8644999861717224],[0.8950999975204468],[0.8837000131607056],[0.8884999752044678],[0.8834999799728394],[0.8862000107765198],[0.8773999810218811],[0.8791999816894531],[0.8870999813079834],[0.885200023651123],[0.8571000099182129],[0.8956999778747559],[0.8888000249862671],[0.8920000195503235],[0.8862000107765198],[0.8930000066757202],[0.8870999813079834],[0.8870000243186951],[0.8853999972343445],[0.8859000205993652],[0.8855999708175659],[0.8826000094413757],[0.8870000243186951],[0.8910999894142151],[0.892799973487854],[0.8830999732017517],[0.8909000158309937],[0.8837000131607056],[0.8837000131607056],[0.8920000195503235],[0.8899999856948853],[0.8805000185966492],[0.8907999992370605],[0.8853999972343445],[0.8894000053405762],[0.8863000273704529],[0.8881000280380249],[0.8866999745368958],[0.8845000267028809],[0.8863999843597412],[0.8985000252723694],[0.8903999924659729],[0.89410001039505],[0.8898000121116638],[0.8841000199317932],[0.8952000141143799],[0.8842999935150146],[0.9013000130653381],[0.8816999793052673],[0.8841999769210815],[0.8944000005722046],[0.8960999846458435],[0.8892999887466431],[0.8934999704360962],[0.8916000127792358],[0.878600001335144],[0.8835999965667725],[0.8981000185012817],[0.8823999762535095],[0.8907999992370605],[0.8815000057220459],[0.8884000182151794],[0.8939999938011169],[0.8917999863624573],[0.8938999772071838],[0.8953999876976013],[0.8956000208854675],[0.8883000016212463],[0.8949999809265137],[0.892300009727478],[0.8953999876976013],[0.876800000667572],[0.8963000178337097],[0.895799994468689],[0.8917999863624573],[0.8913999795913696],[0.8988999724388123],[0.897599995136261],[0.8881999850273132],[0.8914999961853027],[0.8942000269889832],[0.8895999789237976],[0.8921999931335449],[0.8998000025749207],[0.8827000260353088],[0.8884999752044678],[0.8989999890327454],[0.8754000067710876],[0.8877999782562256],[0.8888999819755554],[0.8968999981880188],[0.901199996471405],[0.8913999795913696],[0.8931000232696533],[0.8877000212669373],[0.8981999754905701],[0.8939999938011169],[0.8992999792098999],[0.8981000185012817],[0.8949999809265137],[0.9018999934196472],[0.8967000246047974],[0.897599995136261],[0.88919997215271],[0.902999997138977],[0.895799994468689],[0.8925999999046326],[0.8978000283241272],[0.900600016117096],[0.8950999975204468],[0.8909000158309937],[0.894599974155426],[0.8876000046730042],[0.9014999866485596],[0.899399995803833],[0.8938999772071838],[0.8952999711036682],[0.8871999979019165],[0.8881000280380249],[0.8953999876976013],[0.8946999907493591],[0.8906999826431274],[0.8971999883651733],[0.9021999835968018],[0.8998000025749207],[0.8917999863624573],[0.8971999883651733],[0.9027000069618225],[0.8921999931335449],[0.8907999992370605],[0.9024999737739563],[0.8855000138282776],[0.8978999853134155],[0.8863000273704529],[0.894599974155426],[0.89410001039505],[0.9003000259399414],[0.8973000049591064],[0.8956000208854675],[0.8598999977111816],[0.9025999903678894],[0.8883000016212463],[0.8906000256538391],[0.8999999761581421],[0.8956000208854675],[0.8963000178337097],[0.880299985408783],[0.9027000069618225],[0.890999972820282],[0.8998000025749207],[0.9003000259399414],[0.8992999792098999],[0.8985999822616577],[0.8927000164985657],[0.897599995136261],[0.8891000151634216],[0.8948000073432922],[0.8968999981880188],[0.8982999920845032],[0.8955000042915344],[0.8935999870300293],[0.8999000191688538],[0.8881000280380249],[0.895799994468689],[0.8925999999046326],[0.9049999713897705],[0.8992000222206116],[0.8978999853134155],[0.8966000080108643],[0.9021999835968018],[0.8952999711036682],[0.8996000289916992],[0.9041000008583069],[0.9039000272750854],[0.8996000289916992],[0.8988999724388123],[0.9031999707221985],[0.8967999815940857],[0.9049999713897705],[0.8934000134468079],[0.8948000073432922],[0.8992000222206116],[0.8960000276565552],[0.8981000185012817],[0.8977000117301941],[0.9010000228881836],[0.9039000272750854],[0.9009000062942505],[0.8937000036239624],[0.8989999890327454],[0.8902999758720398],[0.8996999859809875],[0.8928999900817871],[0.8998000025749207],[0.896399974822998],[0.8984000086784363],[0.9067999720573425],[0.8960000276565552],[0.8950999975204468],[0.9010999798774719],[0.9027000069618225],[0.8787000179290771],[0.901199996471405],[0.8899999856948853],[0.9009000062942505],[0.8985999822616577],[0.8820000290870667],[0.8989999890327454],[0.9032999873161316],[0.9035000205039978],[0.8985999822616577],[0.8978000283241272],[0.9007999897003174],[0.8949999809265137],[0.89410001039505],[0.8978000283241272]]}},\"id\":\"4182f93a-308f-412f-bf41-88a0e108f6c0\",\"type\":\"ColumnDataSource\"},{\"attributes\":{\"active_drag\":\"auto\",\"active_scroll\":\"auto\",\"active_tap\":\"auto\",\"tools\":[{\"id\":\"bb07a19d-1095-45a6-8b5c-12cda07f047d\",\"type\":\"PanTool\"},{\"id\":\"db1139a0-0f53-4eb9-8505-dd5395c5dd8f\",\"type\":\"WheelZoomTool\"},{\"id\":\"c64cb646-cd19-41ac-9bd2-37fb55766228\",\"type\":\"BoxZoomTool\"},{\"id\":\"71cf8e56-540f-434c-b1bb-038d3d5ff15b\",\"type\":\"SaveTool\"},{\"id\":\"2b46be5a-8068-4859-af3c-d96f50ee6421\",\"type\":\"ResetTool\"},{\"id\":\"abcca2bb-ca23-4f9e-8bf6-9cb82051a77d\",\"type\":\"HelpTool\"}]},\"id\":\"18434741-f7bb-458d-99e7-9e7ca4bdd0f5\",\"type\":\"Toolbar\"},{\"attributes\":{\"plot\":{\"id\":\"323a92c0-77d4-481e-b1f1-d2f361ad061b\",\"subtype\":\"Figure\",\"type\":\"Plot\"}},\"id\":\"abcca2bb-ca23-4f9e-8bf6-9cb82051a77d\",\"type\":\"HelpTool\"},{\"attributes\":{},\"id\":\"463a389e-b218-458a-92d3-f72e1761a101\",\"type\":\"BasicTicker\"},{\"attributes\":{\"plot\":{\"id\":\"323a92c0-77d4-481e-b1f1-d2f361ad061b\",\"subtype\":\"Figure\",\"type\":\"Plot\"}},\"id\":\"71cf8e56-540f-434c-b1bb-038d3d5ff15b\",\"type\":\"SaveTool\"},{\"attributes\":{\"data_source\":{\"id\":\"4182f93a-308f-412f-bf41-88a0e108f6c0\",\"type\":\"ColumnDataSource\"},\"glyph\":{\"id\":\"8264a3a7-61f6-463e-b626-069f5d5a780b\",\"type\":\"Line\"},\"hover_glyph\":null,\"nonselection_glyph\":{\"id\":\"b795b383-e0fa-4fd9-87bf-c9e2897f5469\",\"type\":\"Line\"},\"selection_glyph\":null},\"id\":\"e7cba5f3-6afc-43fd-bbf3-017edc8759be\",\"type\":\"GlyphRenderer\"},{\"attributes\":{\"plot\":{\"id\":\"323a92c0-77d4-481e-b1f1-d2f361ad061b\",\"subtype\":\"Figure\",\"type\":\"Plot\"}},\"id\":\"db1139a0-0f53-4eb9-8505-dd5395c5dd8f\",\"type\":\"WheelZoomTool\"},{\"attributes\":{\"plot\":{\"id\":\"323a92c0-77d4-481e-b1f1-d2f361ad061b\",\"subtype\":\"Figure\",\"type\":\"Plot\"},\"ticker\":{\"id\":\"463a389e-b218-458a-92d3-f72e1761a101\",\"type\":\"BasicTicker\"}},\"id\":\"afcbd563-ba61-44ba-9650-a603b73b9cd1\",\"type\":\"Grid\"},{\"attributes\":{\"dimension\":1,\"plot\":{\"id\":\"323a92c0-77d4-481e-b1f1-d2f361ad061b\",\"subtype\":\"Figure\",\"type\":\"Plot\"},\"ticker\":{\"id\":\"1e1fd5dc-ff88-487f-82a9-b682a6342866\",\"type\":\"BasicTicker\"}},\"id\":\"ed0a7da0-f7ab-470e-970b-38959ca48329\",\"type\":\"Grid\"},{\"attributes\":{\"bottom_units\":\"screen\",\"fill_alpha\":{\"value\":0.5},\"fill_color\":{\"value\":\"lightgrey\"},\"left_units\":\"screen\",\"level\":\"overlay\",\"line_alpha\":{\"value\":1.0},\"line_color\":{\"value\":\"black\"},\"line_dash\":[4,4],\"line_width\":{\"value\":2},\"plot\":null,\"render_mode\":\"css\",\"right_units\":\"screen\",\"top_units\":\"screen\"},\"id\":\"febe6f93-5156-459b-9a88-5b9777fb273b\",\"type\":\"BoxAnnotation\"},{\"attributes\":{\"plot\":{\"id\":\"323a92c0-77d4-481e-b1f1-d2f361ad061b\",\"subtype\":\"Figure\",\"type\":\"Plot\"}},\"id\":\"2b46be5a-8068-4859-af3c-d96f50ee6421\",\"type\":\"ResetTool\"},{\"attributes\":{},\"id\":\"1e1fd5dc-ff88-487f-82a9-b682a6342866\",\"type\":\"BasicTicker\"},{\"attributes\":{\"formatter\":{\"id\":\"113fccc7-1a98-4536-ba94-6f143412932c\",\"type\":\"BasicTickFormatter\"},\"plot\":{\"id\":\"323a92c0-77d4-481e-b1f1-d2f361ad061b\",\"subtype\":\"Figure\",\"type\":\"Plot\"},\"ticker\":{\"id\":\"463a389e-b218-458a-92d3-f72e1761a101\",\"type\":\"BasicTicker\"}},\"id\":\"45572423-e530-4f42-a4d8-b232d88a5194\",\"type\":\"LinearAxis\"},{\"attributes\":{\"formatter\":{\"id\":\"821c7e9a-aaa6-4649-ab5c-420d6476014b\",\"type\":\"BasicTickFormatter\"},\"plot\":{\"id\":\"323a92c0-77d4-481e-b1f1-d2f361ad061b\",\"subtype\":\"Figure\",\"type\":\"Plot\"},\"ticker\":{\"id\":\"1e1fd5dc-ff88-487f-82a9-b682a6342866\",\"type\":\"BasicTicker\"}},\"id\":\"ca1647c1-8443-468c-9a54-82e8cbedef7f\",\"type\":\"LinearAxis\"},{\"attributes\":{\"plot\":null,\"text\":null},\"id\":\"7ed36c56-3f82-4300-aba5-8f9cb29cd05c\",\"type\":\"Title\"},{\"attributes\":{\"callback\":null},\"id\":\"2b5c4de8-b63b-45c6-80c3-2aed988f1285\",\"type\":\"DataRange1d\"}],\"root_ids\":[\"323a92c0-77d4-481e-b1f1-d2f361ad061b\"]},\"title\":\"Bokeh Application\",\"version\":\"0.12.3\"}};\n",
       "            var render_items = [{\"docid\":\"f23a31e8-540d-46cf-b41c-601b389b9c3b\",\"elementid\":\"c392ae53-fc24-4a55-a60f-56ef4547094f\",\"modelid\":\"323a92c0-77d4-481e-b1f1-d2f361ad061b\"}];\n",
       "            \n",
       "            Bokeh.embed.embed_items(docs_json, render_items);\n",
       "        });\n",
       "      },\n",
       "      function(Bokeh) {\n",
       "      }\n",
       "    ];\n",
       "  \n",
       "    function run_inline_js() {\n",
       "      \n",
       "      if ((window.Bokeh !== undefined) || (force === \"1\")) {\n",
       "        for (var i = 0; i < inline_js.length; i++) {\n",
       "          inline_js[i](window.Bokeh);\n",
       "        }if (force === \"1\") {\n",
       "          display_loaded();\n",
       "        }} else if (Date.now() < window._bokeh_timeout) {\n",
       "        setTimeout(run_inline_js, 100);\n",
       "      } else if (!window._bokeh_failed_load) {\n",
       "        console.log(\"Bokeh: BokehJS failed to load within specified timeout.\");\n",
       "        window._bokeh_failed_load = true;\n",
       "      } else if (!force) {\n",
       "        var cell = $(\"#c392ae53-fc24-4a55-a60f-56ef4547094f\").parents('.cell').data().cell;\n",
       "        cell.output_area.append_execute_result(NB_LOAD_WARNING)\n",
       "      }\n",
       "  \n",
       "    }\n",
       "  \n",
       "    if (window._bokeh_is_loading === 0) {\n",
       "      console.log(\"Bokeh: BokehJS loaded, going straight to plotting\");\n",
       "      run_inline_js();\n",
       "    } else {\n",
       "      load_libs(js_urls, function() {\n",
       "        console.log(\"Bokeh: BokehJS plotting callback run at\", now());\n",
       "        run_inline_js();\n",
       "      });\n",
       "    }\n",
       "  }(this));\n",
       "</script>"
      ]
     },
     "metadata": {},
     "output_type": "display_data"
    }
   ],
   "source": [
    "acc_g = figure(width=500, height=500)\n",
    "\n",
    "acc_g.line(range(len(accs)), accs, line_width=0.5, color=\"blue\")\n",
    "\n",
    "show(acc_g)"
   ]
  }
 ],
 "metadata": {
  "kernelspec": {
   "display_name": "Python 2",
   "language": "python",
   "name": "python2"
  },
  "language_info": {
   "codemirror_mode": {
    "name": "ipython",
    "version": 2
   },
   "file_extension": ".py",
   "mimetype": "text/x-python",
   "name": "python",
   "nbconvert_exporter": "python",
   "pygments_lexer": "ipython2",
   "version": "2.7.12"
  }
 },
 "nbformat": 4,
 "nbformat_minor": 0
}
