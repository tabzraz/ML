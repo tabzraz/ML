{
 "cells": [
  {
   "cell_type": "code",
   "execution_count": 1,
   "metadata": {
    "collapsed": true
   },
   "outputs": [],
   "source": [
    "from __future__ import division"
   ]
  },
  {
   "cell_type": "code",
   "execution_count": 2,
   "metadata": {
    "collapsed": false
   },
   "outputs": [],
   "source": [
    "import tensorflow as tf\n",
    "import tflearn"
   ]
  },
  {
   "cell_type": "code",
   "execution_count": 3,
   "metadata": {
    "collapsed": true
   },
   "outputs": [],
   "source": [
    "import numpy as np"
   ]
  },
  {
   "cell_type": "code",
   "execution_count": 4,
   "metadata": {
    "collapsed": true
   },
   "outputs": [],
   "source": [
    "sess = tf.Session()\n",
    "# sess = tf_debug.LocalCLIDebugWrapperSession(sess)\n",
    "lr = tf.placeholder(tf.float32, shape=[])\n",
    "optim = tf.train.AdamOptimizer(learning_rate=lr)\n",
    "# sgd_optim = tf.train.GradientDescentOptimizer(learning_rate=lr)"
   ]
  },
  {
   "cell_type": "code",
   "execution_count": 5,
   "metadata": {
    "collapsed": false
   },
   "outputs": [
    {
     "name": "stdout",
     "output_type": "stream",
     "text": [
      "Extracting MNIST_data/train-images-idx3-ubyte.gz\n",
      "Extracting MNIST_data/train-labels-idx1-ubyte.gz\n",
      "Extracting MNIST_data/t10k-images-idx3-ubyte.gz\n",
      "Extracting MNIST_data/t10k-labels-idx1-ubyte.gz\n"
     ]
    }
   ],
   "source": [
    "from tensorflow.examples.tutorials.mnist import input_data\n",
    "mnist = input_data.read_data_sets('MNIST_data', one_hot=True)"
   ]
  },
  {
   "cell_type": "code",
   "execution_count": 6,
   "metadata": {
    "collapsed": false
   },
   "outputs": [],
   "source": [
    "data_size = mnist.train.num_examples"
   ]
  },
  {
   "cell_type": "code",
   "execution_count": 7,
   "metadata": {
    "collapsed": false
   },
   "outputs": [],
   "source": [
    "from tqdm import tqdm"
   ]
  },
  {
   "cell_type": "code",
   "execution_count": 8,
   "metadata": {
    "collapsed": false
   },
   "outputs": [
    {
     "data": {
      "text/html": [
       "\n",
       "    <div class=\"bk-root\">\n",
       "        <a href=\"http://bokeh.pydata.org\" target=\"_blank\" class=\"bk-logo bk-logo-small bk-logo-notebook\"></a>\n",
       "        <span id=\"423b1694-9cc1-498a-81b6-eff68d0fc931\">Loading BokehJS ...</span>\n",
       "    </div>"
      ]
     },
     "metadata": {},
     "output_type": "display_data"
    },
    {
     "data": {
      "application/javascript": [
       "\n",
       "(function(global) {\n",
       "  function now() {\n",
       "    return new Date();\n",
       "  }\n",
       "\n",
       "  var force = \"1\";\n",
       "\n",
       "  if (typeof (window._bokeh_onload_callbacks) === \"undefined\" || force !== \"\") {\n",
       "    window._bokeh_onload_callbacks = [];\n",
       "    window._bokeh_is_loading = undefined;\n",
       "  }\n",
       "\n",
       "\n",
       "  \n",
       "  if (typeof (window._bokeh_timeout) === \"undefined\" || force !== \"\") {\n",
       "    window._bokeh_timeout = Date.now() + 5000;\n",
       "    window._bokeh_failed_load = false;\n",
       "  }\n",
       "\n",
       "  var NB_LOAD_WARNING = {'data': {'text/html':\n",
       "     \"<div style='background-color: #fdd'>\\n\"+\n",
       "     \"<p>\\n\"+\n",
       "     \"BokehJS does not appear to have successfully loaded. If loading BokehJS from CDN, this \\n\"+\n",
       "     \"may be due to a slow or bad network connection. Possible fixes:\\n\"+\n",
       "     \"</p>\\n\"+\n",
       "     \"<ul>\\n\"+\n",
       "     \"<li>re-rerun `output_notebook()` to attempt to load from CDN again, or</li>\\n\"+\n",
       "     \"<li>use INLINE resources instead, as so:</li>\\n\"+\n",
       "     \"</ul>\\n\"+\n",
       "     \"<code>\\n\"+\n",
       "     \"from bokeh.resources import INLINE\\n\"+\n",
       "     \"output_notebook(resources=INLINE)\\n\"+\n",
       "     \"</code>\\n\"+\n",
       "     \"</div>\"}};\n",
       "\n",
       "  function display_loaded() {\n",
       "    if (window.Bokeh !== undefined) {\n",
       "      Bokeh.$(\"#423b1694-9cc1-498a-81b6-eff68d0fc931\").text(\"BokehJS successfully loaded.\");\n",
       "    } else if (Date.now() < window._bokeh_timeout) {\n",
       "      setTimeout(display_loaded, 100)\n",
       "    }\n",
       "  }\n",
       "\n",
       "  function run_callbacks() {\n",
       "    window._bokeh_onload_callbacks.forEach(function(callback) { callback() });\n",
       "    delete window._bokeh_onload_callbacks\n",
       "    console.info(\"Bokeh: all callbacks have finished\");\n",
       "  }\n",
       "\n",
       "  function load_libs(js_urls, callback) {\n",
       "    window._bokeh_onload_callbacks.push(callback);\n",
       "    if (window._bokeh_is_loading > 0) {\n",
       "      console.log(\"Bokeh: BokehJS is being loaded, scheduling callback at\", now());\n",
       "      return null;\n",
       "    }\n",
       "    if (js_urls == null || js_urls.length === 0) {\n",
       "      run_callbacks();\n",
       "      return null;\n",
       "    }\n",
       "    console.log(\"Bokeh: BokehJS not loaded, scheduling load and callback at\", now());\n",
       "    window._bokeh_is_loading = js_urls.length;\n",
       "    for (var i = 0; i < js_urls.length; i++) {\n",
       "      var url = js_urls[i];\n",
       "      var s = document.createElement('script');\n",
       "      s.src = url;\n",
       "      s.async = false;\n",
       "      s.onreadystatechange = s.onload = function() {\n",
       "        window._bokeh_is_loading--;\n",
       "        if (window._bokeh_is_loading === 0) {\n",
       "          console.log(\"Bokeh: all BokehJS libraries loaded\");\n",
       "          run_callbacks()\n",
       "        }\n",
       "      };\n",
       "      s.onerror = function() {\n",
       "        console.warn(\"failed to load library \" + url);\n",
       "      };\n",
       "      console.log(\"Bokeh: injecting script tag for BokehJS library: \", url);\n",
       "      document.getElementsByTagName(\"head\")[0].appendChild(s);\n",
       "    }\n",
       "  };var element = document.getElementById(\"423b1694-9cc1-498a-81b6-eff68d0fc931\");\n",
       "  if (element == null) {\n",
       "    console.log(\"Bokeh: ERROR: autoload.js configured with elementid '423b1694-9cc1-498a-81b6-eff68d0fc931' but no matching script tag was found. \")\n",
       "    return false;\n",
       "  }\n",
       "\n",
       "  var js_urls = ['https://cdn.pydata.org/bokeh/release/bokeh-0.12.3.min.js', 'https://cdn.pydata.org/bokeh/release/bokeh-widgets-0.12.3.min.js'];\n",
       "\n",
       "  var inline_js = [\n",
       "    function(Bokeh) {\n",
       "      Bokeh.set_log_level(\"info\");\n",
       "    },\n",
       "    \n",
       "    function(Bokeh) {\n",
       "      \n",
       "      Bokeh.$(\"#423b1694-9cc1-498a-81b6-eff68d0fc931\").text(\"BokehJS is loading...\");\n",
       "    },\n",
       "    function(Bokeh) {\n",
       "      console.log(\"Bokeh: injecting CSS: https://cdn.pydata.org/bokeh/release/bokeh-0.12.3.min.css\");\n",
       "      Bokeh.embed.inject_css(\"https://cdn.pydata.org/bokeh/release/bokeh-0.12.3.min.css\");\n",
       "      console.log(\"Bokeh: injecting CSS: https://cdn.pydata.org/bokeh/release/bokeh-widgets-0.12.3.min.css\");\n",
       "      Bokeh.embed.inject_css(\"https://cdn.pydata.org/bokeh/release/bokeh-widgets-0.12.3.min.css\");\n",
       "    }\n",
       "  ];\n",
       "\n",
       "  function run_inline_js() {\n",
       "    \n",
       "    if ((window.Bokeh !== undefined) || (force === \"1\")) {\n",
       "      for (var i = 0; i < inline_js.length; i++) {\n",
       "        inline_js[i](window.Bokeh);\n",
       "      }if (force === \"1\") {\n",
       "        display_loaded();\n",
       "      }} else if (Date.now() < window._bokeh_timeout) {\n",
       "      setTimeout(run_inline_js, 100);\n",
       "    } else if (!window._bokeh_failed_load) {\n",
       "      console.log(\"Bokeh: BokehJS failed to load within specified timeout.\");\n",
       "      window._bokeh_failed_load = true;\n",
       "    } else if (!force) {\n",
       "      var cell = $(\"#423b1694-9cc1-498a-81b6-eff68d0fc931\").parents('.cell').data().cell;\n",
       "      cell.output_area.append_execute_result(NB_LOAD_WARNING)\n",
       "    }\n",
       "\n",
       "  }\n",
       "\n",
       "  if (window._bokeh_is_loading === 0) {\n",
       "    console.log(\"Bokeh: BokehJS loaded, going straight to plotting\");\n",
       "    run_inline_js();\n",
       "  } else {\n",
       "    load_libs(js_urls, function() {\n",
       "      console.log(\"Bokeh: BokehJS plotting callback run at\", now());\n",
       "      run_inline_js();\n",
       "    });\n",
       "  }\n",
       "}(this));"
      ]
     },
     "metadata": {},
     "output_type": "display_data"
    }
   ],
   "source": [
    "from bokeh.plotting import figure, output_notebook, show\n",
    "output_notebook()"
   ]
  },
  {
   "cell_type": "code",
   "execution_count": 9,
   "metadata": {
    "collapsed": false
   },
   "outputs": [],
   "source": [
    "# import BayesianNN"
   ]
  },
  {
   "cell_type": "code",
   "execution_count": 10,
   "metadata": {
    "collapsed": true
   },
   "outputs": [],
   "source": [
    "# bnn = BayesianNN.BayesianFC([4,32,32,1])"
   ]
  },
  {
   "cell_type": "code",
   "execution_count": 11,
   "metadata": {
    "collapsed": true
   },
   "outputs": [],
   "source": [
    "import Bayesian_Conv_Layer, Bayesian_FC_Layer, Bayesian_Net"
   ]
  },
  {
   "cell_type": "code",
   "execution_count": 12,
   "metadata": {
    "collapsed": true
   },
   "outputs": [],
   "source": [
    "def bbnet(i, o, mean_init, std_init, prior_mean, prior_std, activation=tf.nn.relu):\n",
    "    return Bayesian_FC_Layer.Bayesian_FC(i, o, \n",
    "                                         qw_mean_initial=mean_init, \n",
    "                                         qw_std_initial=std_init, \n",
    "                                         qb_std_initial=std_init,\n",
    "                                         pw_mean=prior_mean,\n",
    "                                         pw_sigma=prior_std,\n",
    "                                         pb_mean=prior_mean,\n",
    "                                         pb_sigma=prior_std,\n",
    "                                         activation=activation\n",
    "                                         )"
   ]
  },
  {
   "cell_type": "code",
   "execution_count": 13,
   "metadata": {
    "collapsed": true
   },
   "outputs": [],
   "source": [
    "def bbnet_conv(i, f, stride, mean_init, std_init, prior_mean, prior_std, activation=tf.nn.relu):\n",
    "    return Bayesian_Conv_Layer.Bayesian_Conv(i, f, filter_stride=stride, \n",
    "                                         qw_mean_initial=mean_init, \n",
    "                                         qw_std_initial=std_init, \n",
    "                                         qb_std_initial=std_init,\n",
    "                                         pw_mean=prior_mean,\n",
    "                                         pw_sigma=prior_std,\n",
    "                                         pb_mean=prior_mean,\n",
    "                                         pb_sigma=prior_std,\n",
    "                                         activation=activation\n",
    "                                         )"
   ]
  },
  {
   "cell_type": "code",
   "execution_count": 14,
   "metadata": {
    "collapsed": false
   },
   "outputs": [],
   "source": [
    "std_init = 0.1\n",
    "mean_init = 0.0\n",
    "prior_mean = 0.0\n",
    "prior_std = 1.0\n",
    "l1 = bbnet_conv(1, 8, 2, mean_init, std_init, prior_mean, prior_std)\n",
    "l2 = bbnet_conv(8, 8, 2, mean_init, std_init, prior_mean, prior_std)\n",
    "l3 = bbnet(288, 10, mean_init, std_init, prior_mean, prior_std, activation=tf.nn.softmax)\n",
    "\n",
    "# l1 = Bayesian_FC_Layer.Bayesian_FC(4, 32, qw_mean_initial=mean_init, qw_std_initial=std_init, qb_std_initial=std_init)\n",
    "# l2 = Bayesian_FC_Layer.Bayesian_FC(32, 32, qw_mean_initial=mean_init, qw_std_initial=std_init, qb_std_initial=std_init)\n",
    "# l3 = Bayesian_FC_Layer.Bayesian_FC(32, 32, qw_mean_initial=mean_init, qw_std_initial=std_init, qb_std_initial=std_init)\n",
    "# l4 = Bayesian_FC_Layer.Bayesian_FC(32, 32, qw_mean_initial=mean_init, qw_std_initial=std_init, qb_std_initial=std_init)\n",
    "# l5 = Bayesian_FC_Layer.Bayesian_FC(32, 1, activation=tf.identity, qw_mean_initial=mean_init, qw_std_initial=std_init, qb_std_initial=std_init)"
   ]
  },
  {
   "cell_type": "code",
   "execution_count": 15,
   "metadata": {
    "collapsed": true
   },
   "outputs": [],
   "source": [
    "def bnet_prob(pred, target):\n",
    "    return pred * target"
   ]
  },
  {
   "cell_type": "code",
   "execution_count": 16,
   "metadata": {
    "collapsed": false
   },
   "outputs": [],
   "source": [
    "bnet = Bayesian_Net.Bayesian_Net([l1, l2, l3], bnet_prob)"
   ]
  },
  {
   "cell_type": "code",
   "execution_count": 17,
   "metadata": {
    "collapsed": true
   },
   "outputs": [],
   "source": [
    "batch_size = 128"
   ]
  },
  {
   "cell_type": "code",
   "execution_count": 18,
   "metadata": {
    "collapsed": true
   },
   "outputs": [],
   "source": [
    "epochs = 2000"
   ]
  },
  {
   "cell_type": "code",
   "execution_count": 19,
   "metadata": {
    "collapsed": false
   },
   "outputs": [],
   "source": [
    "bnn_data_input = tf.placeholder(tf.float32, shape=[None, 28*28*1])\n",
    "bnn_data_target = tf.placeholder(tf.float32, shape=[None, 10])\n",
    "kls = tf.placeholder(tf.float32, shape=[])\n",
    "\n",
    "def bnet_model(local_reparam_trick=False):\n",
    "    input_tensor = tf.reshape(bnn_data_input, shape=[-1,28,28,1])\n",
    "    \n",
    "    net = l1.sample(input_tensor, local_reparam_trick)\n",
    "    net = l2.sample(net, local_reparam_trick)\n",
    "    \n",
    "    size = tf.reduce_prod(tf.shape(net)[1:])\n",
    "    # Flatten\n",
    "    net = tf.reshape(net, shape=[-1, size])\n",
    "    \n",
    "    net_out = l3.sample(net, local_reparam_trick)\n",
    "    \n",
    "    return net_out\n",
    "\n",
    "bnet_loss, klloss, dataloss = bnet.loss(bnet_model, bnn_data_target,kl_scaling=kls, N=8)\n",
    "bnet_output = bnet_model(local_reparam_trick=False)\n",
    "\n",
    "copy_old = bnet.copy_variational_parameters()\n",
    "kl_div = bnet.kl_new_and_old()\n",
    "\n",
    "correct_preds = tf.equal(tf.argmax(bnet_output, 1), tf.argmax(bnn_data_target, 1))\n",
    "accuracy = tf.reduce_mean(tf.cast(correct_preds, tf.float32))\n",
    "\n",
    "grads_to_apply = optim.compute_gradients(bnet_loss)\n",
    "# print(grads_to_apply)\n",
    "\n",
    "clipped_policy_grads = []\n",
    "for (grad, var) in grads_to_apply:\n",
    "    if grad is not None:\n",
    "        clipped_policy_grads.append((tf.clip_by_norm(grad, 10), var))\n",
    "\n",
    "# clipped_policy_grads = grads_to_apply\n",
    "grad_op = optim.apply_gradients(clipped_policy_grads)\n",
    "\n",
    "sess.run(tf.global_variables_initializer())"
   ]
  },
  {
   "cell_type": "code",
   "execution_count": 20,
   "metadata": {
    "collapsed": true
   },
   "outputs": [],
   "source": [
    "bnn_lr = 0.001"
   ]
  },
  {
   "cell_type": "code",
   "execution_count": 21,
   "metadata": {
    "collapsed": true
   },
   "outputs": [],
   "source": [
    "epoch_loss=[]\n",
    "kl_loss=[]\n",
    "data_loss=[]\n",
    "kl_divs=[]\n",
    "accs=[]"
   ]
  },
  {
   "cell_type": "code",
   "execution_count": 22,
   "metadata": {
    "collapsed": true
   },
   "outputs": [],
   "source": [
    "def filter_digits(x,y,allowed):\n",
    "    new_x = []\n",
    "    new_y = []\n",
    "    for nx,ny in zip(x,y):\n",
    "        if np.argmax(ny)<=allowed:\n",
    "            new_x.append(nx)\n",
    "            new_y.append(ny)\n",
    "    return new_x, new_y"
   ]
  },
  {
   "cell_type": "code",
   "execution_count": 23,
   "metadata": {
    "collapsed": false
   },
   "outputs": [
    {
     "name": "stderr",
     "output_type": "stream",
     "text": [
      "100%|██████████| 2000/2000 [03:51<00:00,  6.47it/s]\n"
     ]
    }
   ],
   "source": [
    "for e in tqdm(range(epochs)):\n",
    "    \n",
    "    x, y = mnist.train.next_batch(batch_size)\n",
    "    \n",
    "    if e < epochs*0.5:\n",
    "        x, y = filter_digits(x,y,3)\n",
    "    \n",
    "    kl = batch_size/data_size  \n",
    "    \n",
    "    feed_dict={kls:kl, bnn_data_input: x, bnn_data_target:y, lr:bnn_lr}\n",
    "    \n",
    "    _, l, kloss, dloss = sess.run([grad_op, bnet_loss, klloss, dataloss], feed_dict=feed_dict)\n",
    "\n",
    "    epoch_loss.append(l)\n",
    "    \n",
    "    if e % 50 == 0 and e > 0:\n",
    "        div = sess.run(kl_div)\n",
    "        sess.run(copy_old)\n",
    "        kl_divs.append(div)\n",
    "    \n",
    "    if e % 5 == 0:\n",
    "        epoch_loss.append(l) \n",
    "        kl_loss.append(kloss)\n",
    "        data_loss.append(dloss)\n",
    "        \n",
    "    if e % 10 == 0:\n",
    "        test_dict = {bnn_data_input: mnist.test.images, bnn_data_target: mnist.test.labels}\n",
    "        acc = sess.run([accuracy], feed_dict=test_dict)\n",
    "        accs.append(acc)"
   ]
  },
  {
   "cell_type": "code",
   "execution_count": 24,
   "metadata": {
    "collapsed": false
   },
   "outputs": [
    {
     "data": {
      "text/html": [
       "\n",
       "\n",
       "    <div class=\"bk-root\">\n",
       "        <div class=\"plotdiv\" id=\"2e578234-e5b1-48c9-8395-d1f132c610a4\"></div>\n",
       "    </div>\n",
       "<script type=\"text/javascript\">\n",
       "  \n",
       "  (function(global) {\n",
       "    function now() {\n",
       "      return new Date();\n",
       "    }\n",
       "  \n",
       "    var force = \"\";\n",
       "  \n",
       "    if (typeof (window._bokeh_onload_callbacks) === \"undefined\" || force !== \"\") {\n",
       "      window._bokeh_onload_callbacks = [];\n",
       "      window._bokeh_is_loading = undefined;\n",
       "    }\n",
       "  \n",
       "  \n",
       "    \n",
       "    if (typeof (window._bokeh_timeout) === \"undefined\" || force !== \"\") {\n",
       "      window._bokeh_timeout = Date.now() + 0;\n",
       "      window._bokeh_failed_load = false;\n",
       "    }\n",
       "  \n",
       "    var NB_LOAD_WARNING = {'data': {'text/html':\n",
       "       \"<div style='background-color: #fdd'>\\n\"+\n",
       "       \"<p>\\n\"+\n",
       "       \"BokehJS does not appear to have successfully loaded. If loading BokehJS from CDN, this \\n\"+\n",
       "       \"may be due to a slow or bad network connection. Possible fixes:\\n\"+\n",
       "       \"</p>\\n\"+\n",
       "       \"<ul>\\n\"+\n",
       "       \"<li>re-rerun `output_notebook()` to attempt to load from CDN again, or</li>\\n\"+\n",
       "       \"<li>use INLINE resources instead, as so:</li>\\n\"+\n",
       "       \"</ul>\\n\"+\n",
       "       \"<code>\\n\"+\n",
       "       \"from bokeh.resources import INLINE\\n\"+\n",
       "       \"output_notebook(resources=INLINE)\\n\"+\n",
       "       \"</code>\\n\"+\n",
       "       \"</div>\"}};\n",
       "  \n",
       "    function display_loaded() {\n",
       "      if (window.Bokeh !== undefined) {\n",
       "        Bokeh.$(\"#2e578234-e5b1-48c9-8395-d1f132c610a4\").text(\"BokehJS successfully loaded.\");\n",
       "      } else if (Date.now() < window._bokeh_timeout) {\n",
       "        setTimeout(display_loaded, 100)\n",
       "      }\n",
       "    }\n",
       "  \n",
       "    function run_callbacks() {\n",
       "      window._bokeh_onload_callbacks.forEach(function(callback) { callback() });\n",
       "      delete window._bokeh_onload_callbacks\n",
       "      console.info(\"Bokeh: all callbacks have finished\");\n",
       "    }\n",
       "  \n",
       "    function load_libs(js_urls, callback) {\n",
       "      window._bokeh_onload_callbacks.push(callback);\n",
       "      if (window._bokeh_is_loading > 0) {\n",
       "        console.log(\"Bokeh: BokehJS is being loaded, scheduling callback at\", now());\n",
       "        return null;\n",
       "      }\n",
       "      if (js_urls == null || js_urls.length === 0) {\n",
       "        run_callbacks();\n",
       "        return null;\n",
       "      }\n",
       "      console.log(\"Bokeh: BokehJS not loaded, scheduling load and callback at\", now());\n",
       "      window._bokeh_is_loading = js_urls.length;\n",
       "      for (var i = 0; i < js_urls.length; i++) {\n",
       "        var url = js_urls[i];\n",
       "        var s = document.createElement('script');\n",
       "        s.src = url;\n",
       "        s.async = false;\n",
       "        s.onreadystatechange = s.onload = function() {\n",
       "          window._bokeh_is_loading--;\n",
       "          if (window._bokeh_is_loading === 0) {\n",
       "            console.log(\"Bokeh: all BokehJS libraries loaded\");\n",
       "            run_callbacks()\n",
       "          }\n",
       "        };\n",
       "        s.onerror = function() {\n",
       "          console.warn(\"failed to load library \" + url);\n",
       "        };\n",
       "        console.log(\"Bokeh: injecting script tag for BokehJS library: \", url);\n",
       "        document.getElementsByTagName(\"head\")[0].appendChild(s);\n",
       "      }\n",
       "    };var element = document.getElementById(\"2e578234-e5b1-48c9-8395-d1f132c610a4\");\n",
       "    if (element == null) {\n",
       "      console.log(\"Bokeh: ERROR: autoload.js configured with elementid '2e578234-e5b1-48c9-8395-d1f132c610a4' but no matching script tag was found. \")\n",
       "      return false;\n",
       "    }\n",
       "  \n",
       "    var js_urls = [];\n",
       "  \n",
       "    var inline_js = [\n",
       "      function(Bokeh) {\n",
       "        Bokeh.$(function() {\n",
       "            var docs_json = {\"e3b1ce88-04ee-4a8d-bcee-502d7a2f809a\":{\"roots\":{\"references\":[{\"attributes\":{\"plot\":null,\"text\":null},\"id\":\"d1861cfa-492b-44a6-9d30-c08621a453a0\",\"type\":\"Title\"},{\"attributes\":{\"data_source\":{\"id\":\"41ed4084-258c-4345-acd5-764597b0c4f3\",\"type\":\"ColumnDataSource\"},\"glyph\":{\"id\":\"7e231894-2381-4b7a-93ab-6c264a4b9653\",\"type\":\"Line\"},\"hover_glyph\":null,\"nonselection_glyph\":{\"id\":\"5740d674-2006-4b6b-94d0-2d495e80bb29\",\"type\":\"Line\"},\"selection_glyph\":null},\"id\":\"41ea2ae6-d320-4d62-bf4b-b35bb50ff7b0\",\"type\":\"GlyphRenderer\"},{\"attributes\":{\"below\":[{\"id\":\"c38074b2-8bd1-449f-9137-533680dfad85\",\"type\":\"LinearAxis\"}],\"left\":[{\"id\":\"ca5310a9-32d1-4419-8b62-8ac6a70beea7\",\"type\":\"LinearAxis\"}],\"plot_height\":500,\"plot_width\":500,\"renderers\":[{\"id\":\"c38074b2-8bd1-449f-9137-533680dfad85\",\"type\":\"LinearAxis\"},{\"id\":\"73e22536-9d36-4a29-a832-c8d10889e423\",\"type\":\"Grid\"},{\"id\":\"ca5310a9-32d1-4419-8b62-8ac6a70beea7\",\"type\":\"LinearAxis\"},{\"id\":\"22b7b4d3-c05a-4d60-afae-fd0e41cb6de0\",\"type\":\"Grid\"},{\"id\":\"88ab1f63-ef6d-40f4-b943-2e8309e2747e\",\"type\":\"BoxAnnotation\"},{\"id\":\"402a836b-1e66-4c42-8bf4-26ddc4f40be9\",\"type\":\"GlyphRenderer\"},{\"id\":\"41ea2ae6-d320-4d62-bf4b-b35bb50ff7b0\",\"type\":\"GlyphRenderer\"}],\"title\":{\"id\":\"d1861cfa-492b-44a6-9d30-c08621a453a0\",\"type\":\"Title\"},\"tool_events\":{\"id\":\"c7d39c45-43a4-4e15-ad78-2ac96e0c8dca\",\"type\":\"ToolEvents\"},\"toolbar\":{\"id\":\"3aae4769-e7e7-41f8-afe3-fd2aa13db48e\",\"type\":\"Toolbar\"},\"x_range\":{\"id\":\"6153c987-5a57-4423-93d1-6033750a5dd5\",\"type\":\"DataRange1d\"},\"y_range\":{\"id\":\"7aeacbc8-07aa-421c-a21a-109c0a7180ea\",\"type\":\"DataRange1d\"}},\"id\":\"87fbee13-9ef1-4cc9-9e85-45709389e33f\",\"subtype\":\"Figure\",\"type\":\"Plot\"},{\"attributes\":{},\"id\":\"5532cc5c-20b8-4016-88f9-26e0e376f7e2\",\"type\":\"BasicTicker\"},{\"attributes\":{},\"id\":\"6fb005ca-420a-4f72-96f1-f28a120dc89b\",\"type\":\"BasicTickFormatter\"},{\"attributes\":{\"callback\":null,\"column_names\":[\"y\",\"x\"],\"data\":{\"x\":[0,1,2,3,4,5,6,7,8,9,10,11,12,13,14,15,16,17,18,19,20,21,22,23,24,25,26,27,28,29,30,31,32,33,34,35,36,37,38,39,40,41,42,43,44,45,46,47,48,49,50,51,52,53,54,55,56,57,58,59,60,61,62,63,64,65,66,67,68,69,70,71,72,73,74,75,76,77,78,79,80,81,82,83,84,85,86,87,88,89,90,91,92,93,94,95,96,97,98,99,100,101,102,103,104,105,106,107,108,109,110,111,112,113,114,115,116,117,118,119,120,121,122,123,124,125,126,127,128,129,130,131,132,133,134,135,136,137,138,139,140,141,142,143,144,145,146,147,148,149,150,151,152,153,154,155,156,157,158,159,160,161,162,163,164,165,166,167,168,169,170,171,172,173,174,175,176,177,178,179,180,181,182,183,184,185,186,187,188,189,190,191,192,193,194,195,196,197,198,199,200,201,202,203,204,205,206,207,208,209,210,211,212,213,214,215,216,217,218,219,220,221,222,223,224,225,226,227,228,229,230,231,232,233,234,235,236,237,238,239,240,241,242,243,244,245,246,247,248,249,250,251,252,253,254,255,256,257,258,259,260,261,262,263,264,265,266,267,268,269,270,271,272,273,274,275,276,277,278,279,280,281,282,283,284,285,286,287,288,289,290,291,292,293,294,295,296,297,298,299,300,301,302,303,304,305,306,307,308,309,310,311,312,313,314,315,316,317,318,319,320,321,322,323,324,325,326,327,328,329,330,331,332,333,334,335,336,337,338,339,340,341,342,343,344,345,346,347,348,349,350,351,352,353,354,355,356,357,358,359,360,361,362,363,364,365,366,367,368,369,370,371,372,373,374,375,376,377,378,379,380,381,382,383,384,385,386,387,388,389,390,391,392,393,394,395,396,397,398,399],\"y\":[-5.159326076507568,-6.726943016052246,-7.053020477294922,-8.767245292663574,-12.0214262008667,-11.597830772399902,-14.473472595214844,-12.327409744262695,-14.701415061950684,-15.588533401489258,-17.50619125366211,-19.785268783569336,-24.150522232055664,-19.38152313232422,-23.354595184326172,-22.53371238708496,-33.87242126464844,-38.4547119140625,-35.542755126953125,-33.07693862915039,-35.64483642578125,-42.46797561645508,-40.60041046142578,-47.440677642822266,-48.78905487060547,-43.7287712097168,-44.12126159667969,-45.01325988769531,-48.39034652709961,-34.691749572753906,-40.98661804199219,-47.57487869262695,-44.85894012451172,-51.187496185302734,-42.249046325683594,-44.642234802246094,-51.278324127197266,-41.55369186401367,-42.73214340209961,-44.04472351074219,-45.44791793823242,-42.51443099975586,-42.62555694580078,-50.57295227050781,-54.01629638671875,-47.65964889526367,-46.15106201171875,-46.54596710205078,-48.498931884765625,-46.56246566772461,-44.31849670410156,-57.581336975097656,-43.22673797607422,-50.29551315307617,-46.01329040527344,-53.42874526977539,-59.760013580322266,-41.480377197265625,-45.44056701660156,-51.678916931152344,-50.986610412597656,-41.60975646972656,-45.9134521484375,-57.917877197265625,-54.799015045166016,-45.352622985839844,-43.61140060424805,-45.31804275512695,-48.30113220214844,-55.83104705810547,-51.21992111206055,-57.71389389038086,-40.33447265625,-56.997135162353516,-53.88874816894531,-49.47146987915039,-48.084686279296875,-53.925819396972656,-51.68583297729492,-50.377357482910156,-43.05520248413086,-41.45478057861328,-41.6550407409668,-44.700618743896484,-49.03692626953125,-45.91728210449219,-53.573997497558594,-45.36984634399414,-41.14075469970703,-50.84309005737305,-38.78201675415039,-53.333126068115234,-42.90576934814453,-53.25023651123047,-52.843360900878906,-48.446746826171875,-41.554420471191406,-40.73539733886719,-48.55504608154297,-50.01240539550781,-53.2591552734375,-40.1182746887207,-48.4002799987793,-57.554649353027344,-44.05228805541992,-57.012733459472656,-53.17685317993164,-52.15225601196289,-49.51778030395508,-47.7722282409668,-49.135353088378906,-54.8843994140625,-55.35626220703125,-57.71592712402344,-47.419273376464844,-45.42620086669922,-50.417415618896484,-49.6751594543457,-41.39746856689453,-47.22813415527344,-45.6340217590332,-50.18940734863281,-42.69047164916992,-51.8218879699707,-44.70515441894531,-45.4852294921875,-44.69040298461914,-43.08806228637695,-61.33183288574219,-61.069969177246094,-42.35624313354492,-58.36639404296875,-48.50773620605469,-47.310054779052734,-54.722171783447266,-44.95646286010742,-57.80961227416992,-43.76542282104492,-54.057891845703125,-43.517154693603516,-55.69575500488281,-47.711978912353516,-56.86429977416992,-49.26872634887695,-51.97406005859375,-53.56525421142578,-52.6431999206543,-52.71573257446289,-49.28858184814453,-55.28205108642578,-46.60200881958008,-45.248931884765625,-53.38568115234375,-45.36406707763672,-55.00726318359375,-52.961219787597656,-58.83481979370117,-54.3819465637207,-51.07780838012695,-47.78657913208008,-47.242767333984375,-44.859867095947266,-51.1920051574707,-47.0880241394043,-43.24008560180664,-47.535072326660156,-45.423240661621094,-51.835052490234375,-47.38914489746094,-56.51777267456055,-45.65653991699219,-44.149635314941406,-42.7768440246582,-36.48358917236328,-62.721046447753906,-45.290138244628906,-49.3673095703125,-54.12247848510742,-45.29743957519531,-48.268638610839844,-53.8900146484375,-48.291439056396484,-61.49986267089844,-56.30043411254883,-55.71157455444336,-60.61510467529297,-50.79983901977539,-52.484344482421875,-43.97561264038086,-42.3762092590332,-47.74518585205078,-47.34377670288086,-55.48048782348633,-46.343441009521484,-47.264163970947266,-35.747825622558594,-49.8434944152832,-45.27145004272461,-45.61382293701172,-50.82416915893555,-52.5596809387207,-56.69775390625,-45.04298400878906,-56.280006408691406,-45.30522537231445,-44.47621154785156,-46.49036407470703,-44.043914794921875,-48.204627990722656,-42.14811706542969,-49.6109733581543,-56.296085357666016,-60.14140701293945,-52.99522018432617,-47.91191101074219,-53.964447021484375,-63.087127685546875,-66.56236267089844,-60.564998626708984,-55.131553649902344,-58.187652587890625,-61.034976959228516,-55.66127395629883,-64.48845672607422,-58.19485092163086,-57.408973693847656,-58.75394058227539,-68.97187042236328,-59.019081115722656,-54.15387725830078,-64.60960388183594,-61.481834411621094,-67.5899429321289,-60.1876220703125,-55.585723876953125,-65.69003295898438,-63.81127166748047,-57.98344421386719,-69.4413833618164,-64.53894805908203,-62.497154235839844,-66.67379760742188,-60.52975845336914,-67.38250732421875,-68.45195007324219,-69.59740447998047,-57.42017364501953,-68.76680755615234,-66.98316955566406,-75.8194808959961,-71.1078872680664,-84.48601531982422,-66.67127227783203,-69.80863952636719,-61.621734619140625,-74.44927215576172,-80.22396850585938,-61.548946380615234,-71.69124603271484,-62.05739212036133,-65.2422866821289,-66.7486801147461,-74.20613861083984,-69.2691421508789,-66.99259948730469,-69.3026351928711,-69.86457061767578,-70.85789489746094,-56.495582580566406,-76.19676208496094,-69.6124267578125,-63.00192642211914,-78.42505645751953,-57.71987533569336,-59.084659576416016,-71.97108459472656,-75.70353698730469,-80.9449691772461,-76.91777038574219,-68.58512878417969,-70.51904296875,-72.88865661621094,-65.68618774414062,-70.57144165039062,-64.37379455566406,-74.84532165527344,-63.41123962402344,-73.0009765625,-64.72576904296875,-67.99393463134766,-72.12387084960938,-73.19022369384766,-72.63276672363281,-66.67640686035156,-60.02125930786133,-79.08737182617188,-68.84947967529297,-65.39543151855469,-72.34716796875,-70.318115234375,-66.94396209716797,-64.03938293457031,-68.264892578125,-77.32857513427734,-69.94597625732422,-76.76785278320312,-74.04753112792969,-76.29422760009766,-75.60845184326172,-78.23583221435547,-69.18937683105469,-76.4914321899414,-86.89973449707031,-75.14164733886719,-74.04156494140625,-82.79298400878906,-69.65716552734375,-73.3949203491211,-72.56437683105469,-73.7232666015625,-78.74549865722656,-78.7562484741211,-75.81886291503906,-80.45226287841797,-65.69214630126953,-77.9408950805664,-91.02879333496094,-72.57154846191406,-76.11669158935547,-81.35659790039062,-78.96173095703125,-80.95904541015625,-72.4044418334961,-64.0198974609375,-85.58661651611328,-81.43053436279297,-77.3592300415039,-82.99365997314453,-75.22594451904297,-88.72407531738281,-86.77354431152344,-78.84618377685547,-73.87201690673828,-79.73193359375,-69.7790756225586,-74.48544311523438,-79.53449249267578,-82.94183349609375,-80.1065444946289,-78.14081573486328,-81.68544006347656,-83.61587524414062,-73.35778045654297,-85.31571960449219,-91.8453369140625,-77.0348129272461,-90.70594787597656,-76.56993103027344,-78.94052124023438,-85.47367095947266,-79.4781723022461,-77.92581176757812,-79.78715515136719,-79.32560729980469,-68.74436950683594,-89.0938720703125,-82.71214294433594,-77.822509765625,-83.61321258544922,-84.99677276611328,-85.57569122314453,-78.20826721191406,-86.33063507080078,-83.53837585449219,-86.4555435180664,-87.99608612060547,-86.21170043945312,-73.9140625,-76.55693817138672,-77.97067260742188,-89.98881530761719,-87.01651763916016,-85.49903869628906,-73.86442565917969,-81.19773864746094,-79.01510620117188,-81.20745086669922,-78.80418395996094,-83.28157043457031,-81.16372680664062,-83.67407989501953,-78.1314468383789,-79.67469787597656,-79.99223327636719,-93.54077911376953,-76.00173950195312,-78.4869384765625,-84.65775299072266,-84.03282165527344,-86.5062026977539]}},\"id\":\"41ed4084-258c-4345-acd5-764597b0c4f3\",\"type\":\"ColumnDataSource\"},{\"attributes\":{},\"id\":\"c7d39c45-43a4-4e15-ad78-2ac96e0c8dca\",\"type\":\"ToolEvents\"},{\"attributes\":{\"callback\":null},\"id\":\"6153c987-5a57-4423-93d1-6033750a5dd5\",\"type\":\"DataRange1d\"},{\"attributes\":{\"formatter\":{\"id\":\"afb722bd-cc5b-4035-b3d3-3bfd1bc58e6e\",\"type\":\"BasicTickFormatter\"},\"plot\":{\"id\":\"87fbee13-9ef1-4cc9-9e85-45709389e33f\",\"subtype\":\"Figure\",\"type\":\"Plot\"},\"ticker\":{\"id\":\"67935633-dd38-4b39-bbd5-fd4ba18c4e38\",\"type\":\"BasicTicker\"}},\"id\":\"c38074b2-8bd1-449f-9137-533680dfad85\",\"type\":\"LinearAxis\"},{\"attributes\":{\"line_color\":{\"value\":\"purple\"},\"line_width\":{\"value\":0.5},\"x\":{\"field\":\"x\"},\"y\":{\"field\":\"y\"}},\"id\":\"7e231894-2381-4b7a-93ab-6c264a4b9653\",\"type\":\"Line\"},{\"attributes\":{\"line_alpha\":{\"value\":0.1},\"line_color\":{\"value\":\"#1f77b4\"},\"line_width\":{\"value\":0.5},\"x\":{\"field\":\"x\"},\"y\":{\"field\":\"y\"}},\"id\":\"5740d674-2006-4b6b-94d0-2d495e80bb29\",\"type\":\"Line\"},{\"attributes\":{},\"id\":\"67935633-dd38-4b39-bbd5-fd4ba18c4e38\",\"type\":\"BasicTicker\"},{\"attributes\":{\"plot\":{\"id\":\"87fbee13-9ef1-4cc9-9e85-45709389e33f\",\"subtype\":\"Figure\",\"type\":\"Plot\"}},\"id\":\"96a846c4-22e1-4a57-b21f-ea18d471bc91\",\"type\":\"PanTool\"},{\"attributes\":{\"plot\":{\"id\":\"87fbee13-9ef1-4cc9-9e85-45709389e33f\",\"subtype\":\"Figure\",\"type\":\"Plot\"}},\"id\":\"b0c29ed7-3e5b-42a2-9197-9f9c48b29f46\",\"type\":\"ResetTool\"},{\"attributes\":{\"callback\":null,\"column_names\":[\"y\",\"x\"],\"data\":{\"x\":[0,1,2,3,4,5,6,7,8,9,10,11,12,13,14,15,16,17,18,19,20,21,22,23,24,25,26,27,28,29,30,31,32,33,34,35,36,37,38,39,40,41,42,43,44,45,46,47,48,49,50,51,52,53,54,55,56,57,58,59,60,61,62,63,64,65,66,67,68,69,70,71,72,73,74,75,76,77,78,79,80,81,82,83,84,85,86,87,88,89,90,91,92,93,94,95,96,97,98,99,100,101,102,103,104,105,106,107,108,109,110,111,112,113,114,115,116,117,118,119,120,121,122,123,124,125,126,127,128,129,130,131,132,133,134,135,136,137,138,139,140,141,142,143,144,145,146,147,148,149,150,151,152,153,154,155,156,157,158,159,160,161,162,163,164,165,166,167,168,169,170,171,172,173,174,175,176,177,178,179,180,181,182,183,184,185,186,187,188,189,190,191,192,193,194,195,196,197,198,199,200,201,202,203,204,205,206,207,208,209,210,211,212,213,214,215,216,217,218,219,220,221,222,223,224,225,226,227,228,229,230,231,232,233,234,235,236,237,238,239,240,241,242,243,244,245,246,247,248,249,250,251,252,253,254,255,256,257,258,259,260,261,262,263,264,265,266,267,268,269,270,271,272,273,274,275,276,277,278,279,280,281,282,283,284,285,286,287,288,289,290,291,292,293,294,295,296,297,298,299,300,301,302,303,304,305,306,307,308,309,310,311,312,313,314,315,316,317,318,319,320,321,322,323,324,325,326,327,328,329,330,331,332,333,334,335,336,337,338,339,340,341,342,343,344,345,346,347,348,349,350,351,352,353,354,355,356,357,358,359,360,361,362,363,364,365,366,367,368,369,370,371,372,373,374,375,376,377,378,379,380,381,382,383,384,385,386,387,388,389,390,391,392,393,394,395,396,397,398,399],\"y\":[14.950793266296387,14.911995887756348,14.87342357635498,14.834867477416992,14.796472549438477,14.75840950012207,14.720916748046875,14.684027671813965,14.64794635772705,14.613274574279785,14.5806245803833,14.550128936767578,14.522721290588379,14.498461723327637,14.477056503295898,14.458442687988281,14.441831588745117,14.42881965637207,14.416342735290527,14.403611183166504,14.389849662780762,14.374224662780762,14.357807159423828,14.340951919555664,14.323246955871582,14.304347038269043,14.284439086914062,14.263717651367188,14.24280834197998,14.221227645874023,14.199286460876465,14.176288604736328,14.152913093566895,14.129085540771484,14.104281425476074,14.079024314880371,14.054458618164062,14.029927253723145,14.005906105041504,13.981477737426758,13.956680297851562,13.931562423706055,13.905688285827637,13.879467964172363,13.853965759277344,13.827926635742188,13.80168628692627,13.77546215057373,13.749482154846191,13.723627090454102,13.696784019470215,13.668810844421387,13.641119956970215,13.613700866699219,13.586281776428223,13.559468269348145,13.53268814086914,13.5057954788208,13.47903060913086,13.452479362487793,13.425548553466797,13.398248672485352,13.370800018310547,13.34327220916748,13.316165924072266,13.288869857788086,13.261338233947754,13.234046936035156,13.207002639770508,13.180139541625977,13.153575897216797,13.126691818237305,13.09903335571289,13.070099830627441,13.040458679199219,13.010722160339355,12.98145866394043,12.951876640319824,12.923169136047363,12.894676208496094,12.865814208984375,12.837067604064941,12.809085845947266,12.781832695007324,12.753674507141113,12.725162506103516,12.696913719177246,12.668867111206055,12.640632629394531,12.612825393676758,12.584615707397461,12.556156158447266,12.528409004211426,12.501497268676758,12.474610328674316,12.447497367858887,12.420403480529785,12.392868995666504,12.364519119262695,12.33626651763916,12.308281898498535,12.280329704284668,12.252114295959473,12.224160194396973,12.195818901062012,12.16775894165039,12.13945198059082,12.111247062683105,12.082873344421387,12.054281234741211,12.02575397491455,11.997363090515137,11.969222068786621,11.941007614135742,11.912995338439941,11.884933471679688,11.856732368469238,11.828643798828125,11.801430702209473,11.773695945739746,11.74576473236084,11.718073844909668,11.6893949508667,11.66114616394043,11.632796287536621,11.605122566223145,11.576642990112305,11.548006057739258,11.519530296325684,11.490819931030273,11.462295532226562,11.434542655944824,11.409070014953613,11.382767677307129,11.35554313659668,11.328672409057617,11.302315711975098,11.27623462677002,11.2504243850708,11.224355697631836,11.197349548339844,11.170570373535156,11.144113540649414,11.117598533630371,11.091333389282227,11.065841674804688,11.040421485900879,11.013710975646973,10.987383842468262,10.961481094360352,10.935269355773926,10.908708572387695,10.882231712341309,10.855157852172852,10.828363418579102,10.801825523376465,10.775731086730957,10.749902725219727,10.723422050476074,10.697358131408691,10.671631813049316,10.645700454711914,10.620287895202637,10.594866752624512,10.568570137023926,10.54274845123291,10.517050743103027,10.49119758605957,10.464778900146484,10.43817138671875,10.411927223205566,10.385519027709961,10.360424995422363,10.33608627319336,10.310803413391113,10.284648895263672,10.25781536102295,10.23069953918457,10.20417594909668,10.179065704345703,10.154426574707031,10.129884719848633,10.105168342590332,10.080641746520996,10.055606842041016,10.03108024597168,10.007192611694336,9.98304557800293,9.95877456665039,9.933367729187012,9.90832233428955,9.883134841918945,9.857762336730957,9.83226490020752,9.806412696838379,9.781220436096191,9.756547927856445,9.7322998046875,9.707841873168945,9.68285846710205,9.658174514770508,9.633929252624512,9.610013008117676,9.584505081176758,9.559388160705566,9.534759521484375,9.5101318359375,9.485888481140137,9.460655212402344,9.436553955078125,9.414069175720215,9.392967224121094,9.374310493469238,9.357950210571289,9.343515396118164,9.330307960510254,9.316886901855469,9.303487777709961,9.289599418640137,9.274033546447754,9.257474899291992,9.240220069885254,9.224552154541016,9.207930564880371,9.19048023223877,9.172950744628906,9.153846740722656,9.13427734375,9.114636421203613,9.09671688079834,9.078105926513672,9.057560920715332,9.03601360321045,9.013847351074219,8.993435859680176,8.978811264038086,8.96568489074707,8.9536771774292,8.942441940307617,8.932933807373047,8.924863815307617,8.917686462402344,8.909634590148926,8.899581909179688,8.890104293823242,8.88255786895752,8.874592781066895,8.864437103271484,8.854386329650879,8.843534469604492,8.832918167114258,8.82361888885498,8.813724517822266,8.803741455078125,8.792458534240723,8.779152870178223,8.76527214050293,8.752495765686035,8.739835739135742,8.727117538452148,8.714570999145508,8.701726913452148,8.690011024475098,8.679349899291992,8.669053077697754,8.657841682434082,8.646032333374023,8.633805274963379,8.62028980255127,8.60654354095459,8.594695091247559,8.58325481414795,8.57162857055664,8.558313369750977,8.544955253601074,8.532600402832031,8.520472526550293,8.50796127319336,8.497151374816895,8.48735237121582,8.4767484664917,8.465258598327637,8.453385353088379,8.441264152526855,8.428993225097656,8.415143013000488,8.401809692382812,8.387763023376465,8.373690605163574,8.359535217285156,8.345366477966309,8.332683563232422,8.3197603225708,8.30729866027832,8.294415473937988,8.28294563293457,8.272173881530762,8.259746551513672,8.24551773071289,8.232447624206543,8.220956802368164,8.212043762207031,8.205435752868652,8.200786590576172,8.196763038635254,8.191746711730957,8.185759544372559,8.180084228515625,8.175030708312988,8.16898250579834,8.163412094116211,8.158206939697266,8.153485298156738,8.14755916595459,8.141730308532715,8.134819984436035,8.128279685974121,8.122498512268066,8.117505073547363,8.111881256103516,8.104999542236328,8.09839153289795,8.092818260192871,8.08700942993164,8.081377983093262,8.074481010437012,8.067911148071289,8.060745239257812,8.053138732910156,8.04589557647705,8.03888988494873,8.030828475952148,8.02389144897461,8.018341064453125,8.013284683227539,8.007862091064453,8.003032684326172,7.995364665985107,7.987256050109863,7.979001045227051,7.970015525817871,7.959856033325195,7.948736190795898,7.938859462738037,7.929602146148682,7.91990327835083,7.9105143547058105,7.900253772735596,7.88958740234375,7.8804168701171875,7.871398448944092,7.863086223602295,7.856393337249756,7.848559856414795,7.84094762802124,7.833741664886475,7.82795524597168,7.821540832519531,7.814590930938721,7.805637359619141,7.796223163604736,7.786678314208984,7.7783355712890625,7.769338607788086,7.761579513549805,7.754318714141846,7.746029853820801,7.738226890563965,7.731574058532715,7.723412990570068,7.7154765129089355,7.70651912689209,7.697148323059082,7.68862771987915,7.6804280281066895,7.671611309051514,7.662708282470703,7.655016899108887,7.6478962898254395,7.639371395111084,7.628225803375244,7.619146347045898,7.610921859741211,7.603063583374023,7.595394611358643,7.588135242462158,7.581179141998291,7.573944091796875,7.567928314208984,7.560717582702637,7.5535759925842285,7.5472331047058105,7.541718006134033,7.5370588302612305,7.532707691192627,7.5288591384887695,7.527163982391357,7.5244550704956055,7.520627021789551,7.516918182373047]}},\"id\":\"4a52247e-7c7a-491a-bed8-dedd9e0e6f99\",\"type\":\"ColumnDataSource\"},{\"attributes\":{\"bottom_units\":\"screen\",\"fill_alpha\":{\"value\":0.5},\"fill_color\":{\"value\":\"lightgrey\"},\"left_units\":\"screen\",\"level\":\"overlay\",\"line_alpha\":{\"value\":1.0},\"line_color\":{\"value\":\"black\"},\"line_dash\":[4,4],\"line_width\":{\"value\":2},\"plot\":null,\"render_mode\":\"css\",\"right_units\":\"screen\",\"top_units\":\"screen\"},\"id\":\"88ab1f63-ef6d-40f4-b943-2e8309e2747e\",\"type\":\"BoxAnnotation\"},{\"attributes\":{\"line_alpha\":{\"value\":0.1},\"line_color\":{\"value\":\"#1f77b4\"},\"line_width\":{\"value\":0.5},\"x\":{\"field\":\"x\"},\"y\":{\"field\":\"y\"}},\"id\":\"5f4e3d6c-8a42-4c9d-bb5d-512a9615505c\",\"type\":\"Line\"},{\"attributes\":{\"overlay\":{\"id\":\"88ab1f63-ef6d-40f4-b943-2e8309e2747e\",\"type\":\"BoxAnnotation\"},\"plot\":{\"id\":\"87fbee13-9ef1-4cc9-9e85-45709389e33f\",\"subtype\":\"Figure\",\"type\":\"Plot\"}},\"id\":\"5b5f00ca-dcee-47d1-a0ae-e794eba6d054\",\"type\":\"BoxZoomTool\"},{\"attributes\":{\"line_color\":{\"value\":\"orange\"},\"line_width\":{\"value\":0.5},\"x\":{\"field\":\"x\"},\"y\":{\"field\":\"y\"}},\"id\":\"5ec7d667-f530-42a7-9dd1-9965a1a0fb5a\",\"type\":\"Line\"},{\"attributes\":{\"plot\":{\"id\":\"87fbee13-9ef1-4cc9-9e85-45709389e33f\",\"subtype\":\"Figure\",\"type\":\"Plot\"},\"ticker\":{\"id\":\"67935633-dd38-4b39-bbd5-fd4ba18c4e38\",\"type\":\"BasicTicker\"}},\"id\":\"73e22536-9d36-4a29-a832-c8d10889e423\",\"type\":\"Grid\"},{\"attributes\":{},\"id\":\"afb722bd-cc5b-4035-b3d3-3bfd1bc58e6e\",\"type\":\"BasicTickFormatter\"},{\"attributes\":{\"data_source\":{\"id\":\"4a52247e-7c7a-491a-bed8-dedd9e0e6f99\",\"type\":\"ColumnDataSource\"},\"glyph\":{\"id\":\"5ec7d667-f530-42a7-9dd1-9965a1a0fb5a\",\"type\":\"Line\"},\"hover_glyph\":null,\"nonselection_glyph\":{\"id\":\"5f4e3d6c-8a42-4c9d-bb5d-512a9615505c\",\"type\":\"Line\"},\"selection_glyph\":null},\"id\":\"402a836b-1e66-4c42-8bf4-26ddc4f40be9\",\"type\":\"GlyphRenderer\"},{\"attributes\":{\"plot\":{\"id\":\"87fbee13-9ef1-4cc9-9e85-45709389e33f\",\"subtype\":\"Figure\",\"type\":\"Plot\"}},\"id\":\"86375795-45b5-42f4-ba8e-ddf758bf366d\",\"type\":\"HelpTool\"},{\"attributes\":{\"dimension\":1,\"plot\":{\"id\":\"87fbee13-9ef1-4cc9-9e85-45709389e33f\",\"subtype\":\"Figure\",\"type\":\"Plot\"},\"ticker\":{\"id\":\"5532cc5c-20b8-4016-88f9-26e0e376f7e2\",\"type\":\"BasicTicker\"}},\"id\":\"22b7b4d3-c05a-4d60-afae-fd0e41cb6de0\",\"type\":\"Grid\"},{\"attributes\":{\"formatter\":{\"id\":\"6fb005ca-420a-4f72-96f1-f28a120dc89b\",\"type\":\"BasicTickFormatter\"},\"plot\":{\"id\":\"87fbee13-9ef1-4cc9-9e85-45709389e33f\",\"subtype\":\"Figure\",\"type\":\"Plot\"},\"ticker\":{\"id\":\"5532cc5c-20b8-4016-88f9-26e0e376f7e2\",\"type\":\"BasicTicker\"}},\"id\":\"ca5310a9-32d1-4419-8b62-8ac6a70beea7\",\"type\":\"LinearAxis\"},{\"attributes\":{\"plot\":{\"id\":\"87fbee13-9ef1-4cc9-9e85-45709389e33f\",\"subtype\":\"Figure\",\"type\":\"Plot\"}},\"id\":\"99253619-c787-4e6e-b821-84fee6c09e17\",\"type\":\"SaveTool\"},{\"attributes\":{\"plot\":{\"id\":\"87fbee13-9ef1-4cc9-9e85-45709389e33f\",\"subtype\":\"Figure\",\"type\":\"Plot\"}},\"id\":\"432264fd-4d18-4dc3-affb-0109b84851eb\",\"type\":\"WheelZoomTool\"},{\"attributes\":{\"callback\":null},\"id\":\"7aeacbc8-07aa-421c-a21a-109c0a7180ea\",\"type\":\"DataRange1d\"},{\"attributes\":{\"active_drag\":\"auto\",\"active_scroll\":\"auto\",\"active_tap\":\"auto\",\"tools\":[{\"id\":\"96a846c4-22e1-4a57-b21f-ea18d471bc91\",\"type\":\"PanTool\"},{\"id\":\"432264fd-4d18-4dc3-affb-0109b84851eb\",\"type\":\"WheelZoomTool\"},{\"id\":\"5b5f00ca-dcee-47d1-a0ae-e794eba6d054\",\"type\":\"BoxZoomTool\"},{\"id\":\"99253619-c787-4e6e-b821-84fee6c09e17\",\"type\":\"SaveTool\"},{\"id\":\"b0c29ed7-3e5b-42a2-9197-9f9c48b29f46\",\"type\":\"ResetTool\"},{\"id\":\"86375795-45b5-42f4-ba8e-ddf758bf366d\",\"type\":\"HelpTool\"}]},\"id\":\"3aae4769-e7e7-41f8-afe3-fd2aa13db48e\",\"type\":\"Toolbar\"}],\"root_ids\":[\"87fbee13-9ef1-4cc9-9e85-45709389e33f\"]},\"title\":\"Bokeh Application\",\"version\":\"0.12.3\"}};\n",
       "            var render_items = [{\"docid\":\"e3b1ce88-04ee-4a8d-bcee-502d7a2f809a\",\"elementid\":\"2e578234-e5b1-48c9-8395-d1f132c610a4\",\"modelid\":\"87fbee13-9ef1-4cc9-9e85-45709389e33f\"}];\n",
       "            \n",
       "            Bokeh.embed.embed_items(docs_json, render_items);\n",
       "        });\n",
       "      },\n",
       "      function(Bokeh) {\n",
       "      }\n",
       "    ];\n",
       "  \n",
       "    function run_inline_js() {\n",
       "      \n",
       "      if ((window.Bokeh !== undefined) || (force === \"1\")) {\n",
       "        for (var i = 0; i < inline_js.length; i++) {\n",
       "          inline_js[i](window.Bokeh);\n",
       "        }if (force === \"1\") {\n",
       "          display_loaded();\n",
       "        }} else if (Date.now() < window._bokeh_timeout) {\n",
       "        setTimeout(run_inline_js, 100);\n",
       "      } else if (!window._bokeh_failed_load) {\n",
       "        console.log(\"Bokeh: BokehJS failed to load within specified timeout.\");\n",
       "        window._bokeh_failed_load = true;\n",
       "      } else if (!force) {\n",
       "        var cell = $(\"#2e578234-e5b1-48c9-8395-d1f132c610a4\").parents('.cell').data().cell;\n",
       "        cell.output_area.append_execute_result(NB_LOAD_WARNING)\n",
       "      }\n",
       "  \n",
       "    }\n",
       "  \n",
       "    if (window._bokeh_is_loading === 0) {\n",
       "      console.log(\"Bokeh: BokehJS loaded, going straight to plotting\");\n",
       "      run_inline_js();\n",
       "    } else {\n",
       "      load_libs(js_urls, function() {\n",
       "        console.log(\"Bokeh: BokehJS plotting callback run at\", now());\n",
       "        run_inline_js();\n",
       "      });\n",
       "    }\n",
       "  }(this));\n",
       "</script>"
      ]
     },
     "metadata": {},
     "output_type": "display_data"
    }
   ],
   "source": [
    "loss_p = figure(width=500, height=500)\n",
    "\n",
    "# Loss\n",
    "# loss_p.line(range(len(epoch_loss)), epoch_loss, line_width=0.5, color=\"green\")\n",
    "\n",
    "loss_p.line(range(len(kl_loss)), kl_loss, line_width=0.5, color=\"orange\")\n",
    "\n",
    "loss_p.line(range(len(data_loss)), data_loss, line_width=0.5, color=\"purple\")\n",
    "\n",
    "# loss_p.line(range(len(nn_epoch_loss)), nn_epoch_loss, line_width=1, color=\"green\")\n",
    "\n",
    "show(loss_p)"
   ]
  },
  {
   "cell_type": "code",
   "execution_count": 25,
   "metadata": {
    "collapsed": false
   },
   "outputs": [
    {
     "data": {
      "text/html": [
       "\n",
       "\n",
       "    <div class=\"bk-root\">\n",
       "        <div class=\"plotdiv\" id=\"e186b0d9-8cac-4e41-a5bc-bd5a8abe74e9\"></div>\n",
       "    </div>\n",
       "<script type=\"text/javascript\">\n",
       "  \n",
       "  (function(global) {\n",
       "    function now() {\n",
       "      return new Date();\n",
       "    }\n",
       "  \n",
       "    var force = \"\";\n",
       "  \n",
       "    if (typeof (window._bokeh_onload_callbacks) === \"undefined\" || force !== \"\") {\n",
       "      window._bokeh_onload_callbacks = [];\n",
       "      window._bokeh_is_loading = undefined;\n",
       "    }\n",
       "  \n",
       "  \n",
       "    \n",
       "    if (typeof (window._bokeh_timeout) === \"undefined\" || force !== \"\") {\n",
       "      window._bokeh_timeout = Date.now() + 0;\n",
       "      window._bokeh_failed_load = false;\n",
       "    }\n",
       "  \n",
       "    var NB_LOAD_WARNING = {'data': {'text/html':\n",
       "       \"<div style='background-color: #fdd'>\\n\"+\n",
       "       \"<p>\\n\"+\n",
       "       \"BokehJS does not appear to have successfully loaded. If loading BokehJS from CDN, this \\n\"+\n",
       "       \"may be due to a slow or bad network connection. Possible fixes:\\n\"+\n",
       "       \"</p>\\n\"+\n",
       "       \"<ul>\\n\"+\n",
       "       \"<li>re-rerun `output_notebook()` to attempt to load from CDN again, or</li>\\n\"+\n",
       "       \"<li>use INLINE resources instead, as so:</li>\\n\"+\n",
       "       \"</ul>\\n\"+\n",
       "       \"<code>\\n\"+\n",
       "       \"from bokeh.resources import INLINE\\n\"+\n",
       "       \"output_notebook(resources=INLINE)\\n\"+\n",
       "       \"</code>\\n\"+\n",
       "       \"</div>\"}};\n",
       "  \n",
       "    function display_loaded() {\n",
       "      if (window.Bokeh !== undefined) {\n",
       "        Bokeh.$(\"#e186b0d9-8cac-4e41-a5bc-bd5a8abe74e9\").text(\"BokehJS successfully loaded.\");\n",
       "      } else if (Date.now() < window._bokeh_timeout) {\n",
       "        setTimeout(display_loaded, 100)\n",
       "      }\n",
       "    }\n",
       "  \n",
       "    function run_callbacks() {\n",
       "      window._bokeh_onload_callbacks.forEach(function(callback) { callback() });\n",
       "      delete window._bokeh_onload_callbacks\n",
       "      console.info(\"Bokeh: all callbacks have finished\");\n",
       "    }\n",
       "  \n",
       "    function load_libs(js_urls, callback) {\n",
       "      window._bokeh_onload_callbacks.push(callback);\n",
       "      if (window._bokeh_is_loading > 0) {\n",
       "        console.log(\"Bokeh: BokehJS is being loaded, scheduling callback at\", now());\n",
       "        return null;\n",
       "      }\n",
       "      if (js_urls == null || js_urls.length === 0) {\n",
       "        run_callbacks();\n",
       "        return null;\n",
       "      }\n",
       "      console.log(\"Bokeh: BokehJS not loaded, scheduling load and callback at\", now());\n",
       "      window._bokeh_is_loading = js_urls.length;\n",
       "      for (var i = 0; i < js_urls.length; i++) {\n",
       "        var url = js_urls[i];\n",
       "        var s = document.createElement('script');\n",
       "        s.src = url;\n",
       "        s.async = false;\n",
       "        s.onreadystatechange = s.onload = function() {\n",
       "          window._bokeh_is_loading--;\n",
       "          if (window._bokeh_is_loading === 0) {\n",
       "            console.log(\"Bokeh: all BokehJS libraries loaded\");\n",
       "            run_callbacks()\n",
       "          }\n",
       "        };\n",
       "        s.onerror = function() {\n",
       "          console.warn(\"failed to load library \" + url);\n",
       "        };\n",
       "        console.log(\"Bokeh: injecting script tag for BokehJS library: \", url);\n",
       "        document.getElementsByTagName(\"head\")[0].appendChild(s);\n",
       "      }\n",
       "    };var element = document.getElementById(\"e186b0d9-8cac-4e41-a5bc-bd5a8abe74e9\");\n",
       "    if (element == null) {\n",
       "      console.log(\"Bokeh: ERROR: autoload.js configured with elementid 'e186b0d9-8cac-4e41-a5bc-bd5a8abe74e9' but no matching script tag was found. \")\n",
       "      return false;\n",
       "    }\n",
       "  \n",
       "    var js_urls = [];\n",
       "  \n",
       "    var inline_js = [\n",
       "      function(Bokeh) {\n",
       "        Bokeh.$(function() {\n",
       "            var docs_json = {\"119081bf-89b2-4611-a864-efd85a5f082d\":{\"roots\":{\"references\":[{\"attributes\":{\"line_color\":{\"value\":\"red\"},\"line_width\":{\"value\":0.5},\"x\":{\"field\":\"x\"},\"y\":{\"field\":\"y\"}},\"id\":\"529b6112-c84e-46c6-abd5-2d0a88fd70e8\",\"type\":\"Line\"},{\"attributes\":{},\"id\":\"a62fc83d-b2d8-4671-9e3a-7c8ac09d7af3\",\"type\":\"BasicTicker\"},{\"attributes\":{\"dimension\":1,\"plot\":{\"id\":\"4f30b578-63f1-4766-83a3-674a52d64510\",\"subtype\":\"Figure\",\"type\":\"Plot\"},\"ticker\":{\"id\":\"a62fc83d-b2d8-4671-9e3a-7c8ac09d7af3\",\"type\":\"BasicTicker\"}},\"id\":\"8a3165f7-6268-42ae-abc9-ca39a7c9eba9\",\"type\":\"Grid\"},{\"attributes\":{\"line_alpha\":{\"value\":0.1},\"line_color\":{\"value\":\"#1f77b4\"},\"line_width\":{\"value\":0.5},\"x\":{\"field\":\"x\"},\"y\":{\"field\":\"y\"}},\"id\":\"69ce1468-5017-4c65-b1aa-693f4fdaa037\",\"type\":\"Line\"},{\"attributes\":{\"formatter\":{\"id\":\"f47ebcca-997b-4d0a-8a24-767076cd0711\",\"type\":\"BasicTickFormatter\"},\"plot\":{\"id\":\"4f30b578-63f1-4766-83a3-674a52d64510\",\"subtype\":\"Figure\",\"type\":\"Plot\"},\"ticker\":{\"id\":\"a62fc83d-b2d8-4671-9e3a-7c8ac09d7af3\",\"type\":\"BasicTicker\"}},\"id\":\"2da01884-f158-463a-b120-be0f1b7ae9c7\",\"type\":\"LinearAxis\"},{\"attributes\":{},\"id\":\"c905c390-ddf1-4fdd-8be7-7fef4741f706\",\"type\":\"BasicTickFormatter\"},{\"attributes\":{\"below\":[{\"id\":\"f8623962-72e7-476e-bbba-a0befc6ffb1a\",\"type\":\"LinearAxis\"}],\"left\":[{\"id\":\"2da01884-f158-463a-b120-be0f1b7ae9c7\",\"type\":\"LinearAxis\"}],\"plot_height\":500,\"plot_width\":500,\"renderers\":[{\"id\":\"f8623962-72e7-476e-bbba-a0befc6ffb1a\",\"type\":\"LinearAxis\"},{\"id\":\"c3c396e4-06ac-4524-839b-36a32b1bd702\",\"type\":\"Grid\"},{\"id\":\"2da01884-f158-463a-b120-be0f1b7ae9c7\",\"type\":\"LinearAxis\"},{\"id\":\"8a3165f7-6268-42ae-abc9-ca39a7c9eba9\",\"type\":\"Grid\"},{\"id\":\"ffa93510-04ac-4097-b346-e9782d85fab5\",\"type\":\"BoxAnnotation\"},{\"id\":\"2e35c623-d174-4be0-8ba6-c3dd8064a56e\",\"type\":\"GlyphRenderer\"}],\"title\":{\"id\":\"8b51c174-55c7-45b2-b898-571cc6aa5f77\",\"type\":\"Title\"},\"tool_events\":{\"id\":\"e4fd0b49-78d6-4d41-a642-28131e246a02\",\"type\":\"ToolEvents\"},\"toolbar\":{\"id\":\"c91128d0-1d5c-4c89-ade9-0df28ea4ebb1\",\"type\":\"Toolbar\"},\"x_range\":{\"id\":\"df4b42b4-6d2b-4fee-b19b-509a06240742\",\"type\":\"DataRange1d\"},\"y_range\":{\"id\":\"bfd40673-ac36-4617-a684-19f997ebe706\",\"type\":\"DataRange1d\"}},\"id\":\"4f30b578-63f1-4766-83a3-674a52d64510\",\"subtype\":\"Figure\",\"type\":\"Plot\"},{\"attributes\":{},\"id\":\"f47ebcca-997b-4d0a-8a24-767076cd0711\",\"type\":\"BasicTickFormatter\"},{\"attributes\":{\"plot\":null,\"text\":null},\"id\":\"8b51c174-55c7-45b2-b898-571cc6aa5f77\",\"type\":\"Title\"},{\"attributes\":{},\"id\":\"e4fd0b49-78d6-4d41-a642-28131e246a02\",\"type\":\"ToolEvents\"},{\"attributes\":{\"plot\":{\"id\":\"4f30b578-63f1-4766-83a3-674a52d64510\",\"subtype\":\"Figure\",\"type\":\"Plot\"},\"ticker\":{\"id\":\"1cb51003-858b-4461-821a-008d31c74eb2\",\"type\":\"BasicTicker\"}},\"id\":\"c3c396e4-06ac-4524-839b-36a32b1bd702\",\"type\":\"Grid\"},{\"attributes\":{\"callback\":null},\"id\":\"df4b42b4-6d2b-4fee-b19b-509a06240742\",\"type\":\"DataRange1d\"},{\"attributes\":{\"formatter\":{\"id\":\"c905c390-ddf1-4fdd-8be7-7fef4741f706\",\"type\":\"BasicTickFormatter\"},\"plot\":{\"id\":\"4f30b578-63f1-4766-83a3-674a52d64510\",\"subtype\":\"Figure\",\"type\":\"Plot\"},\"ticker\":{\"id\":\"1cb51003-858b-4461-821a-008d31c74eb2\",\"type\":\"BasicTicker\"}},\"id\":\"f8623962-72e7-476e-bbba-a0befc6ffb1a\",\"type\":\"LinearAxis\"},{\"attributes\":{\"plot\":{\"id\":\"4f30b578-63f1-4766-83a3-674a52d64510\",\"subtype\":\"Figure\",\"type\":\"Plot\"}},\"id\":\"17f10ab6-05d3-4935-955d-24fd5adea103\",\"type\":\"HelpTool\"},{\"attributes\":{\"plot\":{\"id\":\"4f30b578-63f1-4766-83a3-674a52d64510\",\"subtype\":\"Figure\",\"type\":\"Plot\"}},\"id\":\"58758082-f298-48b6-b6d2-737e45394ce2\",\"type\":\"SaveTool\"},{\"attributes\":{\"bottom_units\":\"screen\",\"fill_alpha\":{\"value\":0.5},\"fill_color\":{\"value\":\"lightgrey\"},\"left_units\":\"screen\",\"level\":\"overlay\",\"line_alpha\":{\"value\":1.0},\"line_color\":{\"value\":\"black\"},\"line_dash\":[4,4],\"line_width\":{\"value\":2},\"plot\":null,\"render_mode\":\"css\",\"right_units\":\"screen\",\"top_units\":\"screen\"},\"id\":\"ffa93510-04ac-4097-b346-e9782d85fab5\",\"type\":\"BoxAnnotation\"},{\"attributes\":{\"plot\":{\"id\":\"4f30b578-63f1-4766-83a3-674a52d64510\",\"subtype\":\"Figure\",\"type\":\"Plot\"}},\"id\":\"44554878-4014-46da-a4b9-94f3a49aa9b3\",\"type\":\"WheelZoomTool\"},{\"attributes\":{\"callback\":null,\"column_names\":[\"y\",\"x\"],\"data\":{\"x\":[0,1,2,3,4,5,6,7,8,9,10,11,12,13,14,15,16,17,18,19,20,21,22,23,24,25,26,27,28,29,30,31,32,33,34,35,36,37,38],\"y\":[281.7260437011719,116.46858215332031,38.896888732910156,18.912832260131836,13.123344421386719,10.79102897644043,9.573144912719727,9.247515678405762,8.119930267333984,7.833521366119385,8.03579330444336,7.6800432205200195,7.422622203826904,7.591761589050293,6.395395278930664,6.162342071533203,6.471565246582031,5.899436950683594,6.013275146484375,5.904338836669922,13.83438491821289,26.865474700927734,9.293756484985352,16.59406280517578,12.872211456298828,7.666840076446533,6.700000286102295,5.909566879272461,5.466768741607666,10.948890686035156,18.349790573120117,9.367844581604004,6.807845115661621,5.157693386077881,4.228707313537598,4.361888408660889,3.887822151184082,3.6660618782043457,5.30845832824707]}},\"id\":\"cf9d90fb-3d21-4efa-b586-ab84b1bf7a34\",\"type\":\"ColumnDataSource\"},{\"attributes\":{\"active_drag\":\"auto\",\"active_scroll\":\"auto\",\"active_tap\":\"auto\",\"tools\":[{\"id\":\"58b4becc-399d-41a6-a2c9-0fdb8b32ad7b\",\"type\":\"PanTool\"},{\"id\":\"44554878-4014-46da-a4b9-94f3a49aa9b3\",\"type\":\"WheelZoomTool\"},{\"id\":\"ffe83b11-c1a5-4cba-a0af-705265b31374\",\"type\":\"BoxZoomTool\"},{\"id\":\"58758082-f298-48b6-b6d2-737e45394ce2\",\"type\":\"SaveTool\"},{\"id\":\"e0c91485-2498-486f-9122-0690f085752e\",\"type\":\"ResetTool\"},{\"id\":\"17f10ab6-05d3-4935-955d-24fd5adea103\",\"type\":\"HelpTool\"}]},\"id\":\"c91128d0-1d5c-4c89-ade9-0df28ea4ebb1\",\"type\":\"Toolbar\"},{\"attributes\":{\"plot\":{\"id\":\"4f30b578-63f1-4766-83a3-674a52d64510\",\"subtype\":\"Figure\",\"type\":\"Plot\"}},\"id\":\"e0c91485-2498-486f-9122-0690f085752e\",\"type\":\"ResetTool\"},{\"attributes\":{},\"id\":\"1cb51003-858b-4461-821a-008d31c74eb2\",\"type\":\"BasicTicker\"},{\"attributes\":{\"data_source\":{\"id\":\"cf9d90fb-3d21-4efa-b586-ab84b1bf7a34\",\"type\":\"ColumnDataSource\"},\"glyph\":{\"id\":\"529b6112-c84e-46c6-abd5-2d0a88fd70e8\",\"type\":\"Line\"},\"hover_glyph\":null,\"nonselection_glyph\":{\"id\":\"69ce1468-5017-4c65-b1aa-693f4fdaa037\",\"type\":\"Line\"},\"selection_glyph\":null},\"id\":\"2e35c623-d174-4be0-8ba6-c3dd8064a56e\",\"type\":\"GlyphRenderer\"},{\"attributes\":{\"callback\":null},\"id\":\"bfd40673-ac36-4617-a684-19f997ebe706\",\"type\":\"DataRange1d\"},{\"attributes\":{\"plot\":{\"id\":\"4f30b578-63f1-4766-83a3-674a52d64510\",\"subtype\":\"Figure\",\"type\":\"Plot\"}},\"id\":\"58b4becc-399d-41a6-a2c9-0fdb8b32ad7b\",\"type\":\"PanTool\"},{\"attributes\":{\"overlay\":{\"id\":\"ffa93510-04ac-4097-b346-e9782d85fab5\",\"type\":\"BoxAnnotation\"},\"plot\":{\"id\":\"4f30b578-63f1-4766-83a3-674a52d64510\",\"subtype\":\"Figure\",\"type\":\"Plot\"}},\"id\":\"ffe83b11-c1a5-4cba-a0af-705265b31374\",\"type\":\"BoxZoomTool\"}],\"root_ids\":[\"4f30b578-63f1-4766-83a3-674a52d64510\"]},\"title\":\"Bokeh Application\",\"version\":\"0.12.3\"}};\n",
       "            var render_items = [{\"docid\":\"119081bf-89b2-4611-a864-efd85a5f082d\",\"elementid\":\"e186b0d9-8cac-4e41-a5bc-bd5a8abe74e9\",\"modelid\":\"4f30b578-63f1-4766-83a3-674a52d64510\"}];\n",
       "            \n",
       "            Bokeh.embed.embed_items(docs_json, render_items);\n",
       "        });\n",
       "      },\n",
       "      function(Bokeh) {\n",
       "      }\n",
       "    ];\n",
       "  \n",
       "    function run_inline_js() {\n",
       "      \n",
       "      if ((window.Bokeh !== undefined) || (force === \"1\")) {\n",
       "        for (var i = 0; i < inline_js.length; i++) {\n",
       "          inline_js[i](window.Bokeh);\n",
       "        }if (force === \"1\") {\n",
       "          display_loaded();\n",
       "        }} else if (Date.now() < window._bokeh_timeout) {\n",
       "        setTimeout(run_inline_js, 100);\n",
       "      } else if (!window._bokeh_failed_load) {\n",
       "        console.log(\"Bokeh: BokehJS failed to load within specified timeout.\");\n",
       "        window._bokeh_failed_load = true;\n",
       "      } else if (!force) {\n",
       "        var cell = $(\"#e186b0d9-8cac-4e41-a5bc-bd5a8abe74e9\").parents('.cell').data().cell;\n",
       "        cell.output_area.append_execute_result(NB_LOAD_WARNING)\n",
       "      }\n",
       "  \n",
       "    }\n",
       "  \n",
       "    if (window._bokeh_is_loading === 0) {\n",
       "      console.log(\"Bokeh: BokehJS loaded, going straight to plotting\");\n",
       "      run_inline_js();\n",
       "    } else {\n",
       "      load_libs(js_urls, function() {\n",
       "        console.log(\"Bokeh: BokehJS plotting callback run at\", now());\n",
       "        run_inline_js();\n",
       "      });\n",
       "    }\n",
       "  }(this));\n",
       "</script>"
      ]
     },
     "metadata": {},
     "output_type": "display_data"
    }
   ],
   "source": [
    "loss_kl = figure(width=500, height=500)\n",
    "\n",
    "loss_kl.line(range(len(kl_divs)), kl_divs, line_width=0.5, color=\"red\")\n",
    "\n",
    "show(loss_kl)"
   ]
  },
  {
   "cell_type": "code",
   "execution_count": 26,
   "metadata": {
    "collapsed": false
   },
   "outputs": [
    {
     "data": {
      "text/html": [
       "\n",
       "\n",
       "    <div class=\"bk-root\">\n",
       "        <div class=\"plotdiv\" id=\"98d92b23-577d-4bce-9f7c-f80a20f5a935\"></div>\n",
       "    </div>\n",
       "<script type=\"text/javascript\">\n",
       "  \n",
       "  (function(global) {\n",
       "    function now() {\n",
       "      return new Date();\n",
       "    }\n",
       "  \n",
       "    var force = \"\";\n",
       "  \n",
       "    if (typeof (window._bokeh_onload_callbacks) === \"undefined\" || force !== \"\") {\n",
       "      window._bokeh_onload_callbacks = [];\n",
       "      window._bokeh_is_loading = undefined;\n",
       "    }\n",
       "  \n",
       "  \n",
       "    \n",
       "    if (typeof (window._bokeh_timeout) === \"undefined\" || force !== \"\") {\n",
       "      window._bokeh_timeout = Date.now() + 0;\n",
       "      window._bokeh_failed_load = false;\n",
       "    }\n",
       "  \n",
       "    var NB_LOAD_WARNING = {'data': {'text/html':\n",
       "       \"<div style='background-color: #fdd'>\\n\"+\n",
       "       \"<p>\\n\"+\n",
       "       \"BokehJS does not appear to have successfully loaded. If loading BokehJS from CDN, this \\n\"+\n",
       "       \"may be due to a slow or bad network connection. Possible fixes:\\n\"+\n",
       "       \"</p>\\n\"+\n",
       "       \"<ul>\\n\"+\n",
       "       \"<li>re-rerun `output_notebook()` to attempt to load from CDN again, or</li>\\n\"+\n",
       "       \"<li>use INLINE resources instead, as so:</li>\\n\"+\n",
       "       \"</ul>\\n\"+\n",
       "       \"<code>\\n\"+\n",
       "       \"from bokeh.resources import INLINE\\n\"+\n",
       "       \"output_notebook(resources=INLINE)\\n\"+\n",
       "       \"</code>\\n\"+\n",
       "       \"</div>\"}};\n",
       "  \n",
       "    function display_loaded() {\n",
       "      if (window.Bokeh !== undefined) {\n",
       "        Bokeh.$(\"#98d92b23-577d-4bce-9f7c-f80a20f5a935\").text(\"BokehJS successfully loaded.\");\n",
       "      } else if (Date.now() < window._bokeh_timeout) {\n",
       "        setTimeout(display_loaded, 100)\n",
       "      }\n",
       "    }\n",
       "  \n",
       "    function run_callbacks() {\n",
       "      window._bokeh_onload_callbacks.forEach(function(callback) { callback() });\n",
       "      delete window._bokeh_onload_callbacks\n",
       "      console.info(\"Bokeh: all callbacks have finished\");\n",
       "    }\n",
       "  \n",
       "    function load_libs(js_urls, callback) {\n",
       "      window._bokeh_onload_callbacks.push(callback);\n",
       "      if (window._bokeh_is_loading > 0) {\n",
       "        console.log(\"Bokeh: BokehJS is being loaded, scheduling callback at\", now());\n",
       "        return null;\n",
       "      }\n",
       "      if (js_urls == null || js_urls.length === 0) {\n",
       "        run_callbacks();\n",
       "        return null;\n",
       "      }\n",
       "      console.log(\"Bokeh: BokehJS not loaded, scheduling load and callback at\", now());\n",
       "      window._bokeh_is_loading = js_urls.length;\n",
       "      for (var i = 0; i < js_urls.length; i++) {\n",
       "        var url = js_urls[i];\n",
       "        var s = document.createElement('script');\n",
       "        s.src = url;\n",
       "        s.async = false;\n",
       "        s.onreadystatechange = s.onload = function() {\n",
       "          window._bokeh_is_loading--;\n",
       "          if (window._bokeh_is_loading === 0) {\n",
       "            console.log(\"Bokeh: all BokehJS libraries loaded\");\n",
       "            run_callbacks()\n",
       "          }\n",
       "        };\n",
       "        s.onerror = function() {\n",
       "          console.warn(\"failed to load library \" + url);\n",
       "        };\n",
       "        console.log(\"Bokeh: injecting script tag for BokehJS library: \", url);\n",
       "        document.getElementsByTagName(\"head\")[0].appendChild(s);\n",
       "      }\n",
       "    };var element = document.getElementById(\"98d92b23-577d-4bce-9f7c-f80a20f5a935\");\n",
       "    if (element == null) {\n",
       "      console.log(\"Bokeh: ERROR: autoload.js configured with elementid '98d92b23-577d-4bce-9f7c-f80a20f5a935' but no matching script tag was found. \")\n",
       "      return false;\n",
       "    }\n",
       "  \n",
       "    var js_urls = [];\n",
       "  \n",
       "    var inline_js = [\n",
       "      function(Bokeh) {\n",
       "        Bokeh.$(function() {\n",
       "            var docs_json = {\"3b0fc695-b6a3-4606-9425-4346346c1e5b\":{\"roots\":{\"references\":[{\"attributes\":{\"active_drag\":\"auto\",\"active_scroll\":\"auto\",\"active_tap\":\"auto\",\"tools\":[{\"id\":\"8226a7f3-f358-4c7e-8721-53f2ec8855a9\",\"type\":\"PanTool\"},{\"id\":\"35cadf96-e028-4fb5-b75d-49d1bbc563d3\",\"type\":\"WheelZoomTool\"},{\"id\":\"ca134451-e649-4d61-b3dd-8ef3de00a124\",\"type\":\"BoxZoomTool\"},{\"id\":\"b2e27985-4ebc-43c0-9475-303d05dcdea8\",\"type\":\"SaveTool\"},{\"id\":\"bb1d9272-a51e-407f-9dca-80005fd60580\",\"type\":\"ResetTool\"},{\"id\":\"76809aad-a6a7-46d0-8c19-1974c778ddfd\",\"type\":\"HelpTool\"}]},\"id\":\"e1809bc5-d01f-4af4-ad5f-9d520293f907\",\"type\":\"Toolbar\"},{\"attributes\":{\"bottom_units\":\"screen\",\"fill_alpha\":{\"value\":0.5},\"fill_color\":{\"value\":\"lightgrey\"},\"left_units\":\"screen\",\"level\":\"overlay\",\"line_alpha\":{\"value\":1.0},\"line_color\":{\"value\":\"black\"},\"line_dash\":[4,4],\"line_width\":{\"value\":2},\"plot\":null,\"render_mode\":\"css\",\"right_units\":\"screen\",\"top_units\":\"screen\"},\"id\":\"ef61c322-af99-4245-999d-f65b4b2b5be4\",\"type\":\"BoxAnnotation\"},{\"attributes\":{\"plot\":{\"id\":\"e1bd86d4-01ed-4bb8-9d0b-4a89236a9679\",\"subtype\":\"Figure\",\"type\":\"Plot\"}},\"id\":\"bb1d9272-a51e-407f-9dca-80005fd60580\",\"type\":\"ResetTool\"},{\"attributes\":{\"plot\":{\"id\":\"e1bd86d4-01ed-4bb8-9d0b-4a89236a9679\",\"subtype\":\"Figure\",\"type\":\"Plot\"}},\"id\":\"b2e27985-4ebc-43c0-9475-303d05dcdea8\",\"type\":\"SaveTool\"},{\"attributes\":{\"line_alpha\":{\"value\":0.1},\"line_color\":{\"value\":\"#1f77b4\"},\"line_width\":{\"value\":0.5},\"x\":{\"field\":\"x\"},\"y\":{\"field\":\"y\"}},\"id\":\"5e980d5e-38cb-4e81-a266-72d767312ed4\",\"type\":\"Line\"},{\"attributes\":{\"formatter\":{\"id\":\"13960452-7ab3-45fa-9299-bea9581154ff\",\"type\":\"BasicTickFormatter\"},\"plot\":{\"id\":\"e1bd86d4-01ed-4bb8-9d0b-4a89236a9679\",\"subtype\":\"Figure\",\"type\":\"Plot\"},\"ticker\":{\"id\":\"3fcdf27d-ee91-4538-b036-46b9d86e7663\",\"type\":\"BasicTicker\"}},\"id\":\"eb8aaa79-00ae-412e-9fc0-d516212298e8\",\"type\":\"LinearAxis\"},{\"attributes\":{},\"id\":\"5a6aba82-95a6-47c8-9a06-d9a9cc975e89\",\"type\":\"BasicTicker\"},{\"attributes\":{\"plot\":{\"id\":\"e1bd86d4-01ed-4bb8-9d0b-4a89236a9679\",\"subtype\":\"Figure\",\"type\":\"Plot\"}},\"id\":\"35cadf96-e028-4fb5-b75d-49d1bbc563d3\",\"type\":\"WheelZoomTool\"},{\"attributes\":{\"plot\":{\"id\":\"e1bd86d4-01ed-4bb8-9d0b-4a89236a9679\",\"subtype\":\"Figure\",\"type\":\"Plot\"}},\"id\":\"8226a7f3-f358-4c7e-8721-53f2ec8855a9\",\"type\":\"PanTool\"},{\"attributes\":{\"callback\":null},\"id\":\"d1dbc281-64d3-41df-9dbb-ef88103005df\",\"type\":\"DataRange1d\"},{\"attributes\":{},\"id\":\"e3dd130e-3e43-4fe1-a5c2-577919e9b050\",\"type\":\"BasicTickFormatter\"},{\"attributes\":{\"overlay\":{\"id\":\"ef61c322-af99-4245-999d-f65b4b2b5be4\",\"type\":\"BoxAnnotation\"},\"plot\":{\"id\":\"e1bd86d4-01ed-4bb8-9d0b-4a89236a9679\",\"subtype\":\"Figure\",\"type\":\"Plot\"}},\"id\":\"ca134451-e649-4d61-b3dd-8ef3de00a124\",\"type\":\"BoxZoomTool\"},{\"attributes\":{},\"id\":\"0a1a3c2d-97a3-42d1-b55b-0f4a20351dc8\",\"type\":\"ToolEvents\"},{\"attributes\":{\"below\":[{\"id\":\"2b097a9b-b3e4-4c80-b80e-6d218ae75b36\",\"type\":\"LinearAxis\"}],\"left\":[{\"id\":\"eb8aaa79-00ae-412e-9fc0-d516212298e8\",\"type\":\"LinearAxis\"}],\"plot_height\":500,\"plot_width\":500,\"renderers\":[{\"id\":\"2b097a9b-b3e4-4c80-b80e-6d218ae75b36\",\"type\":\"LinearAxis\"},{\"id\":\"2fa889bc-0843-4efb-9331-ba161f02db90\",\"type\":\"Grid\"},{\"id\":\"eb8aaa79-00ae-412e-9fc0-d516212298e8\",\"type\":\"LinearAxis\"},{\"id\":\"2e146270-37c1-46a9-a274-e1536f3bf953\",\"type\":\"Grid\"},{\"id\":\"ef61c322-af99-4245-999d-f65b4b2b5be4\",\"type\":\"BoxAnnotation\"},{\"id\":\"34e0a003-d1f1-4570-8168-d94235af3746\",\"type\":\"GlyphRenderer\"}],\"title\":{\"id\":\"1a595f10-3adf-4868-ba1d-07b9d85a6a1d\",\"type\":\"Title\"},\"tool_events\":{\"id\":\"0a1a3c2d-97a3-42d1-b55b-0f4a20351dc8\",\"type\":\"ToolEvents\"},\"toolbar\":{\"id\":\"e1809bc5-d01f-4af4-ad5f-9d520293f907\",\"type\":\"Toolbar\"},\"x_range\":{\"id\":\"d1dbc281-64d3-41df-9dbb-ef88103005df\",\"type\":\"DataRange1d\"},\"y_range\":{\"id\":\"126efb62-4fd2-4167-93cc-8479fffba8c7\",\"type\":\"DataRange1d\"}},\"id\":\"e1bd86d4-01ed-4bb8-9d0b-4a89236a9679\",\"subtype\":\"Figure\",\"type\":\"Plot\"},{\"attributes\":{\"formatter\":{\"id\":\"e3dd130e-3e43-4fe1-a5c2-577919e9b050\",\"type\":\"BasicTickFormatter\"},\"plot\":{\"id\":\"e1bd86d4-01ed-4bb8-9d0b-4a89236a9679\",\"subtype\":\"Figure\",\"type\":\"Plot\"},\"ticker\":{\"id\":\"5a6aba82-95a6-47c8-9a06-d9a9cc975e89\",\"type\":\"BasicTicker\"}},\"id\":\"2b097a9b-b3e4-4c80-b80e-6d218ae75b36\",\"type\":\"LinearAxis\"},{\"attributes\":{\"dimension\":1,\"plot\":{\"id\":\"e1bd86d4-01ed-4bb8-9d0b-4a89236a9679\",\"subtype\":\"Figure\",\"type\":\"Plot\"},\"ticker\":{\"id\":\"3fcdf27d-ee91-4538-b036-46b9d86e7663\",\"type\":\"BasicTicker\"}},\"id\":\"2e146270-37c1-46a9-a274-e1536f3bf953\",\"type\":\"Grid\"},{\"attributes\":{},\"id\":\"3fcdf27d-ee91-4538-b036-46b9d86e7663\",\"type\":\"BasicTicker\"},{\"attributes\":{\"callback\":null},\"id\":\"126efb62-4fd2-4167-93cc-8479fffba8c7\",\"type\":\"DataRange1d\"},{\"attributes\":{\"data_source\":{\"id\":\"48e46ee5-4505-4406-ba6f-664f3905ca79\",\"type\":\"ColumnDataSource\"},\"glyph\":{\"id\":\"03660e8e-cb3f-4af6-86cb-d2856e56ab3f\",\"type\":\"Line\"},\"hover_glyph\":null,\"nonselection_glyph\":{\"id\":\"5e980d5e-38cb-4e81-a266-72d767312ed4\",\"type\":\"Line\"},\"selection_glyph\":null},\"id\":\"34e0a003-d1f1-4570-8168-d94235af3746\",\"type\":\"GlyphRenderer\"},{\"attributes\":{\"plot\":{\"id\":\"e1bd86d4-01ed-4bb8-9d0b-4a89236a9679\",\"subtype\":\"Figure\",\"type\":\"Plot\"}},\"id\":\"76809aad-a6a7-46d0-8c19-1974c778ddfd\",\"type\":\"HelpTool\"},{\"attributes\":{\"line_color\":{\"value\":\"blue\"},\"line_width\":{\"value\":0.5},\"x\":{\"field\":\"x\"},\"y\":{\"field\":\"y\"}},\"id\":\"03660e8e-cb3f-4af6-86cb-d2856e56ab3f\",\"type\":\"Line\"},{\"attributes\":{},\"id\":\"13960452-7ab3-45fa-9299-bea9581154ff\",\"type\":\"BasicTickFormatter\"},{\"attributes\":{\"plot\":null,\"text\":null},\"id\":\"1a595f10-3adf-4868-ba1d-07b9d85a6a1d\",\"type\":\"Title\"},{\"attributes\":{\"callback\":null,\"column_names\":[\"y\",\"x\"],\"data\":{\"x\":[0,1,2,3,4,5,6,7,8,9,10,11,12,13,14,15,16,17,18,19,20,21,22,23,24,25,26,27,28,29,30,31,32,33,34,35,36,37,38,39,40,41,42,43,44,45,46,47,48,49,50,51,52,53,54,55,56,57,58,59,60,61,62,63,64,65,66,67,68,69,70,71,72,73,74,75,76,77,78,79,80,81,82,83,84,85,86,87,88,89,90,91,92,93,94,95,96,97,98,99,100,101,102,103,104,105,106,107,108,109,110,111,112,113,114,115,116,117,118,119,120,121,122,123,124,125,126,127,128,129,130,131,132,133,134,135,136,137,138,139,140,141,142,143,144,145,146,147,148,149,150,151,152,153,154,155,156,157,158,159,160,161,162,163,164,165,166,167,168,169,170,171,172,173,174,175,176,177,178,179,180,181,182,183,184,185,186,187,188,189,190,191,192,193,194,195,196,197,198,199],\"y\":[[0.06159999966621399],[0.10859999805688858],[0.10100000351667404],[0.09430000185966492],[0.09799999743700027],[0.17110000550746918],[0.1378999948501587],[0.249099999666214],[0.27239999175071716],[0.30709999799728394],[0.34209999442100525],[0.31189998984336853],[0.37689998745918274],[0.37619999051094055],[0.3824000060558319],[0.34200000762939453],[0.37059998512268066],[0.33970001339912415],[0.3822999894618988],[0.35190001130104065],[0.38019999861717224],[0.36980000138282776],[0.3357999920845032],[0.38040000200271606],[0.3815999925136566],[0.3598000109195709],[0.3887999951839447],[0.3887999951839447],[0.38530001044273376],[0.3840999901294708],[0.314300000667572],[0.3700000047683716],[0.3978999853134155],[0.3873000144958496],[0.3772999942302704],[0.3912000060081482],[0.3865000009536743],[0.37700000405311584],[0.3984000086784363],[0.3935999870300293],[0.39649999141693115],[0.3882000148296356],[0.39089998602867126],[0.38119998574256897],[0.3944000005722046],[0.39730000495910645],[0.3662000000476837],[0.38769999146461487],[0.39730000495910645],[0.3935999870300293],[0.39559999108314514],[0.3894999921321869],[0.39570000767707825],[0.4000999927520752],[0.3822000026702881],[0.3950999975204468],[0.38769999146461487],[0.4000999927520752],[0.39800000190734863],[0.3910999894142151],[0.39809998869895935],[0.3935000002384186],[0.3986999988555908],[0.3917999863624573],[0.3910999894142151],[0.3946000039577484],[0.3968000113964081],[0.391400009393692],[0.3691999912261963],[0.39899998903274536],[0.3961000144481659],[0.39579999446868896],[0.37540000677108765],[0.39899998903274536],[0.39989998936653137],[0.3961000144481659],[0.3894999921321869],[0.39579999446868896],[0.400299996137619],[0.39559999108314514],[0.39800000190734863],[0.383899986743927],[0.40059998631477356],[0.4009000062942505],[0.39410001039505005],[0.39739999175071716],[0.39419999718666077],[0.3968999981880188],[0.3896999955177307],[0.39910000562667847],[0.3952000141143799],[0.40119999647140503],[0.3849000036716461],[0.38960000872612],[0.40049999952316284],[0.39329999685287476],[0.3993000090122223],[0.39800000190734863],[0.39590001106262207],[0.39879998564720154],[0.4000999927520752],[0.39809998869895935],[0.40119999647140503],[0.3968000113964081],[0.3977000117301941],[0.43880000710487366],[0.43700000643730164],[0.45809999108314514],[0.4505000114440918],[0.46720001101493835],[0.48829999566078186],[0.47940000891685486],[0.4871000051498413],[0.46950000524520874],[0.48649999499320984],[0.4884999990463257],[0.4765999913215637],[0.47780001163482666],[0.5246000289916992],[0.5238999724388123],[0.48820000886917114],[0.5339999794960022],[0.5314000248908997],[0.4887000024318695],[0.48539999127388],[0.5586000084877014],[0.49630001187324524],[0.5304999947547913],[0.5454999804496765],[0.491100013256073],[0.5516999959945679],[0.5504000186920166],[0.531499981880188],[0.5486000180244446],[0.5618000030517578],[0.5600000023841858],[0.541100025177002],[0.5493999719619751],[0.5458999872207642],[0.516700029373169],[0.5361999869346619],[0.526199996471405],[0.516700029373169],[0.5583000183105469],[0.558899998664856],[0.5523999929428101],[0.560699999332428],[0.5422000288963318],[0.5623999834060669],[0.536899983882904],[0.5644999742507935],[0.5698999762535095],[0.616599977016449],[0.6065999865531921],[0.5956000089645386],[0.6107000112533569],[0.5914000272750854],[0.5842999815940857],[0.588100016117096],[0.6323999762535095],[0.6430000066757202],[0.6330000162124634],[0.6234999895095825],[0.641700029373169],[0.6096000075340271],[0.6154999732971191],[0.6401000022888184],[0.6309999823570251],[0.6297000050544739],[0.6280999779701233],[0.597100019454956],[0.6212999820709229],[0.6420999765396118],[0.6383000016212463],[0.6496999859809875],[0.6208000183105469],[0.6389999985694885],[0.6274999976158142],[0.6500999927520752],[0.6478000283241272],[0.641700029373169],[0.6452000141143799],[0.6468999981880188],[0.636900007724762],[0.6176000237464905],[0.638700008392334],[0.652999997138977],[0.6252999901771545],[0.5927000045776367],[0.6455000042915344],[0.6516000032424927],[0.6471999883651733],[0.6340000033378601],[0.6547999978065491],[0.6553999781608582],[0.633899986743927],[0.663100004196167],[0.6710000038146973],[0.6819000244140625],[0.6568999886512756]]}},\"id\":\"48e46ee5-4505-4406-ba6f-664f3905ca79\",\"type\":\"ColumnDataSource\"},{\"attributes\":{\"plot\":{\"id\":\"e1bd86d4-01ed-4bb8-9d0b-4a89236a9679\",\"subtype\":\"Figure\",\"type\":\"Plot\"},\"ticker\":{\"id\":\"5a6aba82-95a6-47c8-9a06-d9a9cc975e89\",\"type\":\"BasicTicker\"}},\"id\":\"2fa889bc-0843-4efb-9331-ba161f02db90\",\"type\":\"Grid\"}],\"root_ids\":[\"e1bd86d4-01ed-4bb8-9d0b-4a89236a9679\"]},\"title\":\"Bokeh Application\",\"version\":\"0.12.3\"}};\n",
       "            var render_items = [{\"docid\":\"3b0fc695-b6a3-4606-9425-4346346c1e5b\",\"elementid\":\"98d92b23-577d-4bce-9f7c-f80a20f5a935\",\"modelid\":\"e1bd86d4-01ed-4bb8-9d0b-4a89236a9679\"}];\n",
       "            \n",
       "            Bokeh.embed.embed_items(docs_json, render_items);\n",
       "        });\n",
       "      },\n",
       "      function(Bokeh) {\n",
       "      }\n",
       "    ];\n",
       "  \n",
       "    function run_inline_js() {\n",
       "      \n",
       "      if ((window.Bokeh !== undefined) || (force === \"1\")) {\n",
       "        for (var i = 0; i < inline_js.length; i++) {\n",
       "          inline_js[i](window.Bokeh);\n",
       "        }if (force === \"1\") {\n",
       "          display_loaded();\n",
       "        }} else if (Date.now() < window._bokeh_timeout) {\n",
       "        setTimeout(run_inline_js, 100);\n",
       "      } else if (!window._bokeh_failed_load) {\n",
       "        console.log(\"Bokeh: BokehJS failed to load within specified timeout.\");\n",
       "        window._bokeh_failed_load = true;\n",
       "      } else if (!force) {\n",
       "        var cell = $(\"#98d92b23-577d-4bce-9f7c-f80a20f5a935\").parents('.cell').data().cell;\n",
       "        cell.output_area.append_execute_result(NB_LOAD_WARNING)\n",
       "      }\n",
       "  \n",
       "    }\n",
       "  \n",
       "    if (window._bokeh_is_loading === 0) {\n",
       "      console.log(\"Bokeh: BokehJS loaded, going straight to plotting\");\n",
       "      run_inline_js();\n",
       "    } else {\n",
       "      load_libs(js_urls, function() {\n",
       "        console.log(\"Bokeh: BokehJS plotting callback run at\", now());\n",
       "        run_inline_js();\n",
       "      });\n",
       "    }\n",
       "  }(this));\n",
       "</script>"
      ]
     },
     "metadata": {},
     "output_type": "display_data"
    }
   ],
   "source": [
    "acc_g = figure(width=500, height=500)\n",
    "\n",
    "acc_g.line(range(len(accs)), accs, line_width=0.5, color=\"blue\")\n",
    "\n",
    "show(acc_g)"
   ]
  }
 ],
 "metadata": {
  "kernelspec": {
   "display_name": "Python 2",
   "language": "python",
   "name": "python2"
  },
  "language_info": {
   "codemirror_mode": {
    "name": "ipython",
    "version": 2
   },
   "file_extension": ".py",
   "mimetype": "text/x-python",
   "name": "python",
   "nbconvert_exporter": "python",
   "pygments_lexer": "ipython2",
   "version": "2.7.12"
  }
 },
 "nbformat": 4,
 "nbformat_minor": 0
}
