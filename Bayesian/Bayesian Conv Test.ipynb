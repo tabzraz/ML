{
 "cells": [
  {
   "cell_type": "code",
   "execution_count": 1,
   "metadata": {
    "collapsed": true
   },
   "outputs": [],
   "source": [
    "from __future__ import division"
   ]
  },
  {
   "cell_type": "code",
   "execution_count": 2,
   "metadata": {
    "collapsed": false
   },
   "outputs": [
    {
     "name": "stdout",
     "output_type": "stream",
     "text": [
      "hdf5 not supported (please install/reinstall h5py)\n"
     ]
    }
   ],
   "source": [
    "import tensorflow as tf\n",
    "import tflearn"
   ]
  },
  {
   "cell_type": "code",
   "execution_count": 3,
   "metadata": {
    "collapsed": true
   },
   "outputs": [],
   "source": [
    "import numpy as np"
   ]
  },
  {
   "cell_type": "code",
   "execution_count": 4,
   "metadata": {
    "collapsed": true
   },
   "outputs": [],
   "source": [
    "sess = tf.Session()\n",
    "# sess = tf_debug.LocalCLIDebugWrapperSession(sess)\n",
    "lr = tf.placeholder(tf.float32, shape=[])\n",
    "optim = tf.train.AdamOptimizer(learning_rate=lr)\n",
    "# sgd_optim = tf.train.GradientDescentOptimizer(learning_rate=lr)"
   ]
  },
  {
   "cell_type": "code",
   "execution_count": 5,
   "metadata": {
    "collapsed": false
   },
   "outputs": [
    {
     "name": "stdout",
     "output_type": "stream",
     "text": [
      "Extracting MNIST_data/train-images-idx3-ubyte.gz\n",
      "Extracting MNIST_data/train-labels-idx1-ubyte.gz\n",
      "Extracting MNIST_data/t10k-images-idx3-ubyte.gz\n",
      "Extracting MNIST_data/t10k-labels-idx1-ubyte.gz\n"
     ]
    }
   ],
   "source": [
    "from tensorflow.examples.tutorials.mnist import input_data\n",
    "mnist = input_data.read_data_sets('MNIST_data', one_hot=True)"
   ]
  },
  {
   "cell_type": "code",
   "execution_count": 6,
   "metadata": {
    "collapsed": false
   },
   "outputs": [],
   "source": [
    "data_size = mnist.train.num_examples"
   ]
  },
  {
   "cell_type": "code",
   "execution_count": 7,
   "metadata": {
    "collapsed": false
   },
   "outputs": [],
   "source": [
    "from tqdm import tqdm"
   ]
  },
  {
   "cell_type": "code",
   "execution_count": 8,
   "metadata": {
    "collapsed": false
   },
   "outputs": [
    {
     "data": {
      "text/html": [
       "\n",
       "    <div class=\"bk-root\">\n",
       "        <a href=\"http://bokeh.pydata.org\" target=\"_blank\" class=\"bk-logo bk-logo-small bk-logo-notebook\"></a>\n",
       "        <span id=\"1b9bea88-2cfd-4620-a581-83d5887e6d3d\">Loading BokehJS ...</span>\n",
       "    </div>"
      ]
     },
     "metadata": {},
     "output_type": "display_data"
    },
    {
     "data": {
      "application/javascript": [
       "\n",
       "(function(global) {\n",
       "  function now() {\n",
       "    return new Date();\n",
       "  }\n",
       "\n",
       "  var force = \"1\";\n",
       "\n",
       "  if (typeof (window._bokeh_onload_callbacks) === \"undefined\" || force !== \"\") {\n",
       "    window._bokeh_onload_callbacks = [];\n",
       "    window._bokeh_is_loading = undefined;\n",
       "  }\n",
       "\n",
       "\n",
       "  \n",
       "  if (typeof (window._bokeh_timeout) === \"undefined\" || force !== \"\") {\n",
       "    window._bokeh_timeout = Date.now() + 5000;\n",
       "    window._bokeh_failed_load = false;\n",
       "  }\n",
       "\n",
       "  var NB_LOAD_WARNING = {'data': {'text/html':\n",
       "     \"<div style='background-color: #fdd'>\\n\"+\n",
       "     \"<p>\\n\"+\n",
       "     \"BokehJS does not appear to have successfully loaded. If loading BokehJS from CDN, this \\n\"+\n",
       "     \"may be due to a slow or bad network connection. Possible fixes:\\n\"+\n",
       "     \"</p>\\n\"+\n",
       "     \"<ul>\\n\"+\n",
       "     \"<li>re-rerun `output_notebook()` to attempt to load from CDN again, or</li>\\n\"+\n",
       "     \"<li>use INLINE resources instead, as so:</li>\\n\"+\n",
       "     \"</ul>\\n\"+\n",
       "     \"<code>\\n\"+\n",
       "     \"from bokeh.resources import INLINE\\n\"+\n",
       "     \"output_notebook(resources=INLINE)\\n\"+\n",
       "     \"</code>\\n\"+\n",
       "     \"</div>\"}};\n",
       "\n",
       "  function display_loaded() {\n",
       "    if (window.Bokeh !== undefined) {\n",
       "      Bokeh.$(\"#1b9bea88-2cfd-4620-a581-83d5887e6d3d\").text(\"BokehJS successfully loaded.\");\n",
       "    } else if (Date.now() < window._bokeh_timeout) {\n",
       "      setTimeout(display_loaded, 100)\n",
       "    }\n",
       "  }\n",
       "\n",
       "  function run_callbacks() {\n",
       "    window._bokeh_onload_callbacks.forEach(function(callback) { callback() });\n",
       "    delete window._bokeh_onload_callbacks\n",
       "    console.info(\"Bokeh: all callbacks have finished\");\n",
       "  }\n",
       "\n",
       "  function load_libs(js_urls, callback) {\n",
       "    window._bokeh_onload_callbacks.push(callback);\n",
       "    if (window._bokeh_is_loading > 0) {\n",
       "      console.log(\"Bokeh: BokehJS is being loaded, scheduling callback at\", now());\n",
       "      return null;\n",
       "    }\n",
       "    if (js_urls == null || js_urls.length === 0) {\n",
       "      run_callbacks();\n",
       "      return null;\n",
       "    }\n",
       "    console.log(\"Bokeh: BokehJS not loaded, scheduling load and callback at\", now());\n",
       "    window._bokeh_is_loading = js_urls.length;\n",
       "    for (var i = 0; i < js_urls.length; i++) {\n",
       "      var url = js_urls[i];\n",
       "      var s = document.createElement('script');\n",
       "      s.src = url;\n",
       "      s.async = false;\n",
       "      s.onreadystatechange = s.onload = function() {\n",
       "        window._bokeh_is_loading--;\n",
       "        if (window._bokeh_is_loading === 0) {\n",
       "          console.log(\"Bokeh: all BokehJS libraries loaded\");\n",
       "          run_callbacks()\n",
       "        }\n",
       "      };\n",
       "      s.onerror = function() {\n",
       "        console.warn(\"failed to load library \" + url);\n",
       "      };\n",
       "      console.log(\"Bokeh: injecting script tag for BokehJS library: \", url);\n",
       "      document.getElementsByTagName(\"head\")[0].appendChild(s);\n",
       "    }\n",
       "  };var element = document.getElementById(\"1b9bea88-2cfd-4620-a581-83d5887e6d3d\");\n",
       "  if (element == null) {\n",
       "    console.log(\"Bokeh: ERROR: autoload.js configured with elementid '1b9bea88-2cfd-4620-a581-83d5887e6d3d' but no matching script tag was found. \")\n",
       "    return false;\n",
       "  }\n",
       "\n",
       "  var js_urls = ['https://cdn.pydata.org/bokeh/release/bokeh-0.12.3.min.js', 'https://cdn.pydata.org/bokeh/release/bokeh-widgets-0.12.3.min.js'];\n",
       "\n",
       "  var inline_js = [\n",
       "    function(Bokeh) {\n",
       "      Bokeh.set_log_level(\"info\");\n",
       "    },\n",
       "    \n",
       "    function(Bokeh) {\n",
       "      \n",
       "      Bokeh.$(\"#1b9bea88-2cfd-4620-a581-83d5887e6d3d\").text(\"BokehJS is loading...\");\n",
       "    },\n",
       "    function(Bokeh) {\n",
       "      console.log(\"Bokeh: injecting CSS: https://cdn.pydata.org/bokeh/release/bokeh-0.12.3.min.css\");\n",
       "      Bokeh.embed.inject_css(\"https://cdn.pydata.org/bokeh/release/bokeh-0.12.3.min.css\");\n",
       "      console.log(\"Bokeh: injecting CSS: https://cdn.pydata.org/bokeh/release/bokeh-widgets-0.12.3.min.css\");\n",
       "      Bokeh.embed.inject_css(\"https://cdn.pydata.org/bokeh/release/bokeh-widgets-0.12.3.min.css\");\n",
       "    }\n",
       "  ];\n",
       "\n",
       "  function run_inline_js() {\n",
       "    \n",
       "    if ((window.Bokeh !== undefined) || (force === \"1\")) {\n",
       "      for (var i = 0; i < inline_js.length; i++) {\n",
       "        inline_js[i](window.Bokeh);\n",
       "      }if (force === \"1\") {\n",
       "        display_loaded();\n",
       "      }} else if (Date.now() < window._bokeh_timeout) {\n",
       "      setTimeout(run_inline_js, 100);\n",
       "    } else if (!window._bokeh_failed_load) {\n",
       "      console.log(\"Bokeh: BokehJS failed to load within specified timeout.\");\n",
       "      window._bokeh_failed_load = true;\n",
       "    } else if (!force) {\n",
       "      var cell = $(\"#1b9bea88-2cfd-4620-a581-83d5887e6d3d\").parents('.cell').data().cell;\n",
       "      cell.output_area.append_execute_result(NB_LOAD_WARNING)\n",
       "    }\n",
       "\n",
       "  }\n",
       "\n",
       "  if (window._bokeh_is_loading === 0) {\n",
       "    console.log(\"Bokeh: BokehJS loaded, going straight to plotting\");\n",
       "    run_inline_js();\n",
       "  } else {\n",
       "    load_libs(js_urls, function() {\n",
       "      console.log(\"Bokeh: BokehJS plotting callback run at\", now());\n",
       "      run_inline_js();\n",
       "    });\n",
       "  }\n",
       "}(this));"
      ]
     },
     "metadata": {},
     "output_type": "display_data"
    }
   ],
   "source": [
    "from bokeh.plotting import figure, output_notebook, show\n",
    "output_notebook()"
   ]
  },
  {
   "cell_type": "code",
   "execution_count": 9,
   "metadata": {
    "collapsed": false
   },
   "outputs": [],
   "source": [
    "# import BayesianNN"
   ]
  },
  {
   "cell_type": "code",
   "execution_count": 10,
   "metadata": {
    "collapsed": true
   },
   "outputs": [],
   "source": [
    "# bnn = BayesianNN.BayesianFC([4,32,32,1])"
   ]
  },
  {
   "cell_type": "code",
   "execution_count": 11,
   "metadata": {
    "collapsed": true
   },
   "outputs": [],
   "source": [
    "import Bayesian_Conv_Layer, Bayesian_FC_Layer, Bayesian_Net"
   ]
  },
  {
   "cell_type": "code",
   "execution_count": 12,
   "metadata": {
    "collapsed": true
   },
   "outputs": [],
   "source": [
    "def bbnet(i, o, mean_init, std_init, prior_mean, prior_std, activation=tf.nn.relu):\n",
    "    return Bayesian_FC_Layer.Bayesian_FC(i, o, \n",
    "                                         qw_mean_initial=mean_init, \n",
    "                                         qw_std_initial=std_init, \n",
    "                                         qb_std_initial=std_init,\n",
    "                                         pw_mean=prior_mean,\n",
    "                                         pw_sigma=prior_std,\n",
    "                                         pb_mean=prior_mean,\n",
    "                                         pb_sigma=prior_std,\n",
    "                                         activation=activation\n",
    "                                         )"
   ]
  },
  {
   "cell_type": "code",
   "execution_count": 13,
   "metadata": {
    "collapsed": true
   },
   "outputs": [],
   "source": [
    "def bbnet_conv(i, f, stride, mean_init, std_init, prior_mean, prior_std, activation=tf.nn.relu):\n",
    "    return Bayesian_Conv_Layer.Bayesian_Conv(i, f, filter_stride=stride, \n",
    "                                         qw_mean_initial=mean_init, \n",
    "                                         qw_std_initial=std_init, \n",
    "                                         qb_std_initial=std_init,\n",
    "                                         pw_mean=prior_mean,\n",
    "                                         pw_sigma=prior_std,\n",
    "                                         pb_mean=prior_mean,\n",
    "                                         pb_sigma=prior_std,\n",
    "                                         activation=activation\n",
    "                                         )"
   ]
  },
  {
   "cell_type": "code",
   "execution_count": 14,
   "metadata": {
    "collapsed": false
   },
   "outputs": [],
   "source": [
    "std_init = 0.1\n",
    "mean_init = 0.0\n",
    "prior_mean = 0.0\n",
    "prior_std = 1.0\n",
    "l1 = bbnet_conv(1, 8, 2, mean_init, std_init, prior_mean, prior_std)\n",
    "l2 = bbnet_conv(8, 8, 2, mean_init, std_init, prior_mean, prior_std)\n",
    "l3 = bbnet(288, 10, mean_init, std_init, prior_mean, prior_std, activation=tf.nn.softmax)\n",
    "\n",
    "def bnet_model(input_tensor, local_reparam_trick=False):\n",
    "    input_tensor = tf.reshape(input_tensor, shape=[-1,28,28,1])\n",
    "    \n",
    "    net = l1.sample(input_tensor, local_reparam_trick)\n",
    "    net = l2.sample(net, local_reparam_trick)\n",
    "    \n",
    "    size = tf.reduce_prod(tf.shape(net)[1:])\n",
    "    # Flatten\n",
    "    net = tf.reshape(net, shape=[-1, size])\n",
    "    \n",
    "    net_out = l3.sample(net, local_reparam_trick)\n",
    "    \n",
    "    return net_out\n",
    "# l1 = Bayesian_FC_Layer.Bayesian_FC(4, 32, qw_mean_initial=mean_init, qw_std_initial=std_init, qb_std_initial=std_init)\n",
    "# l2 = Bayesian_FC_Layer.Bayesian_FC(32, 32, qw_mean_initial=mean_init, qw_std_initial=std_init, qb_std_initial=std_init)\n",
    "# l3 = Bayesian_FC_Layer.Bayesian_FC(32, 32, qw_mean_initial=mean_init, qw_std_initial=std_init, qb_std_initial=std_init)\n",
    "# l4 = Bayesian_FC_Layer.Bayesian_FC(32, 32, qw_mean_initial=mean_init, qw_std_initial=std_init, qb_std_initial=std_init)\n",
    "# l5 = Bayesian_FC_Layer.Bayesian_FC(32, 1, activation=tf.identity, qw_mean_initial=mean_init, qw_std_initial=std_init, qb_std_initial=std_init)"
   ]
  },
  {
   "cell_type": "code",
   "execution_count": 15,
   "metadata": {
    "collapsed": true
   },
   "outputs": [],
   "source": [
    "def bnet_prob(pred, target):\n",
    "    return pred * target"
   ]
  },
  {
   "cell_type": "code",
   "execution_count": 16,
   "metadata": {
    "collapsed": false
   },
   "outputs": [],
   "source": [
    "bnet = Bayesian_Net.Bayesian_Net([l1, l2, l3], bnet_prob)"
   ]
  },
  {
   "cell_type": "code",
   "execution_count": 17,
   "metadata": {
    "collapsed": true
   },
   "outputs": [],
   "source": [
    "batch_size = 128"
   ]
  },
  {
   "cell_type": "code",
   "execution_count": 18,
   "metadata": {
    "collapsed": true
   },
   "outputs": [],
   "source": [
    "epochs = 2000"
   ]
  },
  {
   "cell_type": "code",
   "execution_count": 19,
   "metadata": {
    "collapsed": false
   },
   "outputs": [],
   "source": [
    "bnn_data_input = tf.placeholder(tf.float32, shape=[None, 28*28*1])\n",
    "bnn_data_target = tf.placeholder(tf.float32, shape=[None, 10])\n",
    "kls = tf.placeholder(tf.float32, shape=[])\n",
    "\n",
    "bnet_loss, klloss, dataloss = bnet.loss(bnn_data_input, bnet_model, bnn_data_target,kl_scaling=kls, N=8)\n",
    "bnet_output = bnet_model(bnn_data_input, local_reparam_trick=False)\n",
    "\n",
    "copy_old = bnet.copy_variational_parameters()\n",
    "kl_div = bnet.kl_new_and_old()\n",
    "\n",
    "correct_preds = tf.equal(tf.argmax(bnet_output, 1), tf.argmax(bnn_data_target, 1))\n",
    "accuracy = tf.reduce_mean(tf.cast(correct_preds, tf.float32))\n",
    "\n",
    "grads_to_apply = optim.compute_gradients(bnet_loss)\n",
    "# print(grads_to_apply)\n",
    "\n",
    "clipped_policy_grads = []\n",
    "for (grad, var) in grads_to_apply:\n",
    "    if grad is not None:\n",
    "        clipped_policy_grads.append((tf.clip_by_norm(grad, 10), var))\n",
    "\n",
    "# clipped_policy_grads = grads_to_apply\n",
    "grad_op = optim.apply_gradients(clipped_policy_grads)\n",
    "\n",
    "sess.run(tf.global_variables_initializer())"
   ]
  },
  {
   "cell_type": "code",
   "execution_count": 20,
   "metadata": {
    "collapsed": true
   },
   "outputs": [],
   "source": [
    "bnn_lr = 0.001"
   ]
  },
  {
   "cell_type": "code",
   "execution_count": 21,
   "metadata": {
    "collapsed": true
   },
   "outputs": [],
   "source": [
    "epoch_loss=[]\n",
    "kl_loss=[]\n",
    "data_loss=[]\n",
    "kl_divs=[]\n",
    "accs=[]"
   ]
  },
  {
   "cell_type": "code",
   "execution_count": 22,
   "metadata": {
    "collapsed": true
   },
   "outputs": [],
   "source": [
    "def filter_digits(x,y,allowed):\n",
    "    new_x = []\n",
    "    new_y = []\n",
    "    for nx,ny in zip(x,y):\n",
    "        if np.argmax(ny)<=allowed:\n",
    "            new_x.append(nx)\n",
    "            new_y.append(ny)\n",
    "    return new_x, new_y"
   ]
  },
  {
   "cell_type": "code",
   "execution_count": 23,
   "metadata": {
    "collapsed": false
   },
   "outputs": [
    {
     "name": "stderr",
     "output_type": "stream",
     "text": [
      "100%|██████████| 2000/2000 [02:18<00:00, 14.39it/s]\n"
     ]
    }
   ],
   "source": [
    "for e in tqdm(range(epochs)):\n",
    "    \n",
    "    x, y = mnist.train.next_batch(batch_size)\n",
    "    \n",
    "    if e < epochs*0.5:\n",
    "        x, y = filter_digits(x,y,3)\n",
    "    \n",
    "    kl = batch_size/data_size  \n",
    "    \n",
    "    feed_dict={kls:kl, bnn_data_input: x, bnn_data_target:y, lr:bnn_lr}\n",
    "    \n",
    "    _, l, kloss, dloss = sess.run([grad_op, bnet_loss, klloss, dataloss], feed_dict=feed_dict)\n",
    "\n",
    "    epoch_loss.append(l)\n",
    "    \n",
    "    if e % 50 == 0 and e > 0:\n",
    "        div = sess.run(kl_div)\n",
    "        sess.run(copy_old)\n",
    "        kl_divs.append(div)\n",
    "    \n",
    "    if e % 5 == 0:\n",
    "        epoch_loss.append(l) \n",
    "        kl_loss.append(kloss)\n",
    "        data_loss.append(dloss)\n",
    "        \n",
    "    if e % 10 == 0:\n",
    "        test_dict = {bnn_data_input: mnist.test.images, bnn_data_target: mnist.test.labels}\n",
    "        acc = sess.run([accuracy], feed_dict=test_dict)\n",
    "        accs.append(acc)"
   ]
  },
  {
   "cell_type": "code",
   "execution_count": 24,
   "metadata": {
    "collapsed": false
   },
   "outputs": [
    {
     "data": {
      "text/html": [
       "\n",
       "\n",
       "    <div class=\"bk-root\">\n",
       "        <div class=\"plotdiv\" id=\"a7adc88a-d93d-41f4-a6c2-874dec79774b\"></div>\n",
       "    </div>\n",
       "<script type=\"text/javascript\">\n",
       "  \n",
       "  (function(global) {\n",
       "    function now() {\n",
       "      return new Date();\n",
       "    }\n",
       "  \n",
       "    var force = \"\";\n",
       "  \n",
       "    if (typeof (window._bokeh_onload_callbacks) === \"undefined\" || force !== \"\") {\n",
       "      window._bokeh_onload_callbacks = [];\n",
       "      window._bokeh_is_loading = undefined;\n",
       "    }\n",
       "  \n",
       "  \n",
       "    \n",
       "    if (typeof (window._bokeh_timeout) === \"undefined\" || force !== \"\") {\n",
       "      window._bokeh_timeout = Date.now() + 0;\n",
       "      window._bokeh_failed_load = false;\n",
       "    }\n",
       "  \n",
       "    var NB_LOAD_WARNING = {'data': {'text/html':\n",
       "       \"<div style='background-color: #fdd'>\\n\"+\n",
       "       \"<p>\\n\"+\n",
       "       \"BokehJS does not appear to have successfully loaded. If loading BokehJS from CDN, this \\n\"+\n",
       "       \"may be due to a slow or bad network connection. Possible fixes:\\n\"+\n",
       "       \"</p>\\n\"+\n",
       "       \"<ul>\\n\"+\n",
       "       \"<li>re-rerun `output_notebook()` to attempt to load from CDN again, or</li>\\n\"+\n",
       "       \"<li>use INLINE resources instead, as so:</li>\\n\"+\n",
       "       \"</ul>\\n\"+\n",
       "       \"<code>\\n\"+\n",
       "       \"from bokeh.resources import INLINE\\n\"+\n",
       "       \"output_notebook(resources=INLINE)\\n\"+\n",
       "       \"</code>\\n\"+\n",
       "       \"</div>\"}};\n",
       "  \n",
       "    function display_loaded() {\n",
       "      if (window.Bokeh !== undefined) {\n",
       "        Bokeh.$(\"#a7adc88a-d93d-41f4-a6c2-874dec79774b\").text(\"BokehJS successfully loaded.\");\n",
       "      } else if (Date.now() < window._bokeh_timeout) {\n",
       "        setTimeout(display_loaded, 100)\n",
       "      }\n",
       "    }\n",
       "  \n",
       "    function run_callbacks() {\n",
       "      window._bokeh_onload_callbacks.forEach(function(callback) { callback() });\n",
       "      delete window._bokeh_onload_callbacks\n",
       "      console.info(\"Bokeh: all callbacks have finished\");\n",
       "    }\n",
       "  \n",
       "    function load_libs(js_urls, callback) {\n",
       "      window._bokeh_onload_callbacks.push(callback);\n",
       "      if (window._bokeh_is_loading > 0) {\n",
       "        console.log(\"Bokeh: BokehJS is being loaded, scheduling callback at\", now());\n",
       "        return null;\n",
       "      }\n",
       "      if (js_urls == null || js_urls.length === 0) {\n",
       "        run_callbacks();\n",
       "        return null;\n",
       "      }\n",
       "      console.log(\"Bokeh: BokehJS not loaded, scheduling load and callback at\", now());\n",
       "      window._bokeh_is_loading = js_urls.length;\n",
       "      for (var i = 0; i < js_urls.length; i++) {\n",
       "        var url = js_urls[i];\n",
       "        var s = document.createElement('script');\n",
       "        s.src = url;\n",
       "        s.async = false;\n",
       "        s.onreadystatechange = s.onload = function() {\n",
       "          window._bokeh_is_loading--;\n",
       "          if (window._bokeh_is_loading === 0) {\n",
       "            console.log(\"Bokeh: all BokehJS libraries loaded\");\n",
       "            run_callbacks()\n",
       "          }\n",
       "        };\n",
       "        s.onerror = function() {\n",
       "          console.warn(\"failed to load library \" + url);\n",
       "        };\n",
       "        console.log(\"Bokeh: injecting script tag for BokehJS library: \", url);\n",
       "        document.getElementsByTagName(\"head\")[0].appendChild(s);\n",
       "      }\n",
       "    };var element = document.getElementById(\"a7adc88a-d93d-41f4-a6c2-874dec79774b\");\n",
       "    if (element == null) {\n",
       "      console.log(\"Bokeh: ERROR: autoload.js configured with elementid 'a7adc88a-d93d-41f4-a6c2-874dec79774b' but no matching script tag was found. \")\n",
       "      return false;\n",
       "    }\n",
       "  \n",
       "    var js_urls = [];\n",
       "  \n",
       "    var inline_js = [\n",
       "      function(Bokeh) {\n",
       "        Bokeh.$(function() {\n",
       "            var docs_json = {\"c0fed1ab-032f-40e8-8a3f-832f891543f1\":{\"roots\":{\"references\":[{\"attributes\":{\"plot\":{\"id\":\"adc3368d-dc3e-4237-bb02-5095a0188669\",\"subtype\":\"Figure\",\"type\":\"Plot\"}},\"id\":\"fcaca464-99c5-4476-80b4-4e0f1acd669b\",\"type\":\"ResetTool\"},{\"attributes\":{\"formatter\":{\"id\":\"0ea295c1-62ad-45ef-8fd1-d9f5d3b7c0fc\",\"type\":\"BasicTickFormatter\"},\"plot\":{\"id\":\"adc3368d-dc3e-4237-bb02-5095a0188669\",\"subtype\":\"Figure\",\"type\":\"Plot\"},\"ticker\":{\"id\":\"5818aaba-8dbc-40b8-a155-7de9843664f9\",\"type\":\"BasicTicker\"}},\"id\":\"ac73b002-0f60-4998-9967-293c07b6fc8e\",\"type\":\"LinearAxis\"},{\"attributes\":{\"below\":[{\"id\":\"dc0540d6-67ac-428b-87fc-fb6b099ba865\",\"type\":\"LinearAxis\"}],\"left\":[{\"id\":\"ac73b002-0f60-4998-9967-293c07b6fc8e\",\"type\":\"LinearAxis\"}],\"plot_height\":500,\"plot_width\":500,\"renderers\":[{\"id\":\"dc0540d6-67ac-428b-87fc-fb6b099ba865\",\"type\":\"LinearAxis\"},{\"id\":\"0e257c4e-dcf2-491b-a284-7844c7f88e52\",\"type\":\"Grid\"},{\"id\":\"ac73b002-0f60-4998-9967-293c07b6fc8e\",\"type\":\"LinearAxis\"},{\"id\":\"f5abffc5-5b45-425e-a451-b5da9dec4468\",\"type\":\"Grid\"},{\"id\":\"a76ec1db-34a3-4fa5-b270-e21c46594e5b\",\"type\":\"BoxAnnotation\"},{\"id\":\"9861ea21-bb15-4f04-a714-0e3ac2b2b305\",\"type\":\"GlyphRenderer\"},{\"id\":\"497fc980-4b94-4775-97ad-805ff6292aa6\",\"type\":\"GlyphRenderer\"}],\"title\":{\"id\":\"341f91d8-fcea-406a-a752-f892aea72053\",\"type\":\"Title\"},\"tool_events\":{\"id\":\"a2967690-5dd1-44a6-bd56-bbd2be6f99b1\",\"type\":\"ToolEvents\"},\"toolbar\":{\"id\":\"a5e8d4f9-3b9e-4e4e-bcb7-bd2b471d6427\",\"type\":\"Toolbar\"},\"x_range\":{\"id\":\"827e5848-d32f-4e27-b7bb-0133651d699a\",\"type\":\"DataRange1d\"},\"y_range\":{\"id\":\"e5ca291c-7fa3-4e31-acf6-7fb435067c53\",\"type\":\"DataRange1d\"}},\"id\":\"adc3368d-dc3e-4237-bb02-5095a0188669\",\"subtype\":\"Figure\",\"type\":\"Plot\"},{\"attributes\":{\"plot\":{\"id\":\"adc3368d-dc3e-4237-bb02-5095a0188669\",\"subtype\":\"Figure\",\"type\":\"Plot\"}},\"id\":\"0b5e77c0-bd74-473c-a25d-e7a1ae411896\",\"type\":\"WheelZoomTool\"},{\"attributes\":{},\"id\":\"1353391f-34ef-489a-95c2-99fb554662f0\",\"type\":\"BasicTickFormatter\"},{\"attributes\":{\"plot\":{\"id\":\"adc3368d-dc3e-4237-bb02-5095a0188669\",\"subtype\":\"Figure\",\"type\":\"Plot\"}},\"id\":\"d7920107-830b-45d6-830c-ee0d3074b528\",\"type\":\"HelpTool\"},{\"attributes\":{\"plot\":{\"id\":\"adc3368d-dc3e-4237-bb02-5095a0188669\",\"subtype\":\"Figure\",\"type\":\"Plot\"}},\"id\":\"d87bbce1-a826-47e3-a127-d303cedb383c\",\"type\":\"SaveTool\"},{\"attributes\":{},\"id\":\"5818aaba-8dbc-40b8-a155-7de9843664f9\",\"type\":\"BasicTicker\"},{\"attributes\":{\"callback\":null},\"id\":\"827e5848-d32f-4e27-b7bb-0133651d699a\",\"type\":\"DataRange1d\"},{\"attributes\":{\"plot\":{\"id\":\"adc3368d-dc3e-4237-bb02-5095a0188669\",\"subtype\":\"Figure\",\"type\":\"Plot\"}},\"id\":\"4336a1f3-9af3-4154-910b-41b4a95bf412\",\"type\":\"PanTool\"},{\"attributes\":{\"line_color\":{\"value\":\"orange\"},\"line_width\":{\"value\":0.5},\"x\":{\"field\":\"x\"},\"y\":{\"field\":\"y\"}},\"id\":\"146bb5eb-841d-4bd5-b676-a3bd09ab3a1f\",\"type\":\"Line\"},{\"attributes\":{\"bottom_units\":\"screen\",\"fill_alpha\":{\"value\":0.5},\"fill_color\":{\"value\":\"lightgrey\"},\"left_units\":\"screen\",\"level\":\"overlay\",\"line_alpha\":{\"value\":1.0},\"line_color\":{\"value\":\"black\"},\"line_dash\":[4,4],\"line_width\":{\"value\":2},\"plot\":null,\"render_mode\":\"css\",\"right_units\":\"screen\",\"top_units\":\"screen\"},\"id\":\"a76ec1db-34a3-4fa5-b270-e21c46594e5b\",\"type\":\"BoxAnnotation\"},{\"attributes\":{\"line_alpha\":{\"value\":0.1},\"line_color\":{\"value\":\"#1f77b4\"},\"line_width\":{\"value\":0.5},\"x\":{\"field\":\"x\"},\"y\":{\"field\":\"y\"}},\"id\":\"5c59cbb9-586d-442d-ba77-9e5f0ea1b85f\",\"type\":\"Line\"},{\"attributes\":{\"data_source\":{\"id\":\"2997e29a-3a1f-48d6-b9f8-3211c3f24cfe\",\"type\":\"ColumnDataSource\"},\"glyph\":{\"id\":\"146bb5eb-841d-4bd5-b676-a3bd09ab3a1f\",\"type\":\"Line\"},\"hover_glyph\":null,\"nonselection_glyph\":{\"id\":\"5c59cbb9-586d-442d-ba77-9e5f0ea1b85f\",\"type\":\"Line\"},\"selection_glyph\":null},\"id\":\"9861ea21-bb15-4f04-a714-0e3ac2b2b305\",\"type\":\"GlyphRenderer\"},{\"attributes\":{\"callback\":null,\"column_names\":[\"y\",\"x\"],\"data\":{\"x\":[0,1,2,3,4,5,6,7,8,9,10,11,12,13,14,15,16,17,18,19,20,21,22,23,24,25,26,27,28,29,30,31,32,33,34,35,36,37,38,39,40,41,42,43,44,45,46,47,48,49,50,51,52,53,54,55,56,57,58,59,60,61,62,63,64,65,66,67,68,69,70,71,72,73,74,75,76,77,78,79,80,81,82,83,84,85,86,87,88,89,90,91,92,93,94,95,96,97,98,99,100,101,102,103,104,105,106,107,108,109,110,111,112,113,114,115,116,117,118,119,120,121,122,123,124,125,126,127,128,129,130,131,132,133,134,135,136,137,138,139,140,141,142,143,144,145,146,147,148,149,150,151,152,153,154,155,156,157,158,159,160,161,162,163,164,165,166,167,168,169,170,171,172,173,174,175,176,177,178,179,180,181,182,183,184,185,186,187,188,189,190,191,192,193,194,195,196,197,198,199,200,201,202,203,204,205,206,207,208,209,210,211,212,213,214,215,216,217,218,219,220,221,222,223,224,225,226,227,228,229,230,231,232,233,234,235,236,237,238,239,240,241,242,243,244,245,246,247,248,249,250,251,252,253,254,255,256,257,258,259,260,261,262,263,264,265,266,267,268,269,270,271,272,273,274,275,276,277,278,279,280,281,282,283,284,285,286,287,288,289,290,291,292,293,294,295,296,297,298,299,300,301,302,303,304,305,306,307,308,309,310,311,312,313,314,315,316,317,318,319,320,321,322,323,324,325,326,327,328,329,330,331,332,333,334,335,336,337,338,339,340,341,342,343,344,345,346,347,348,349,350,351,352,353,354,355,356,357,358,359,360,361,362,363,364,365,366,367,368,369,370,371,372,373,374,375,376,377,378,379,380,381,382,383,384,385,386,387,388,389,390,391,392,393,394,395,396,397,398,399],\"y\":[14.950793266296387,14.911995887756348,14.873457908630371,14.834942817687988,14.796635627746582,14.758702278137207,14.72128963470459,14.68482780456543,14.649197578430176,14.615497589111328,14.583823204040527,14.554486274719238,14.527907371520996,14.503905296325684,14.483583450317383,14.466394424438477,14.450754165649414,14.437224388122559,14.423821449279785,14.410676956176758,14.396790504455566,14.38099479675293,14.364441871643066,14.347620010375977,14.329782485961914,14.31067943572998,14.290452003479004,14.269824981689453,14.249342918395996,14.227839469909668,14.205581665039062,14.182912826538086,14.159894943237305,14.13623332977295,14.111584663391113,14.086712837219238,14.06224250793457,14.037681579589844,14.013106346130371,13.988202095031738,13.96327018737793,13.938308715820312,13.912405014038086,13.885497093200684,13.858719825744629,13.831889152526855,13.804815292358398,13.778400421142578,13.75197696685791,13.725391387939453,13.697772026062012,13.670062065124512,13.642328262329102,13.614952087402344,13.587105751037598,13.559404373168945,13.531950950622559,13.504354476928711,13.477204322814941,13.450154304504395,13.422636032104492,13.394136428833008,13.36635684967041,13.337847709655762,13.309293746948242,13.281453132629395,13.253674507141113,13.226268768310547,13.19839096069336,13.170827865600586,13.143646240234375,13.116397857666016,13.08842945098877,13.059590339660645,13.03037166595459,13.001117706298828,12.97238826751709,12.943195343017578,12.91441535949707,12.885939598083496,12.857412338256836,12.828346252441406,12.799609184265137,12.770995140075684,12.742012977600098,12.71290397644043,12.68368148803711,12.655040740966797,12.626432418823242,12.59782886505127,12.568665504455566,12.54039192199707,12.511853218078613,12.483366012573242,12.455204963684082,12.427409172058105,12.399798393249512,12.371464729309082,12.343561172485352,12.315627098083496,12.287887573242188,12.260851860046387,12.232909202575684,12.205132484436035,12.177114486694336,12.149704933166504,12.122511863708496,12.09450912475586,12.066391944885254,12.03908634185791,12.011847496032715,11.984111785888672,11.956429481506348,11.929302215576172,11.901910781860352,11.874676704406738,11.846923828125,11.81910228729248,11.791349411010742,11.763568878173828,11.736032485961914,11.708335876464844,11.681134223937988,11.654020309448242,11.626951217651367,11.599483489990234,11.571191787719727,11.54255199432373,11.514705657958984,11.487034797668457,11.460118293762207,11.434038162231445,11.407247543334961,11.380127906799316,11.353219985961914,11.325861930847168,11.298091888427734,11.271445274353027,11.244247436523438,11.216639518737793,11.189105033874512,11.162997245788574,11.13734245300293,11.11034107208252,11.082775115966797,11.055863380432129,11.02913761138916,11.001921653747559,10.975157737731934,10.949028968811035,10.9225492477417,10.895971298217773,10.86945915222168,10.843339920043945,10.81672477722168,10.790823936462402,10.764350891113281,10.737812042236328,10.712006568908691,10.686983108520508,10.661352157592773,10.635720252990723,10.609576225280762,10.584905624389648,10.560028076171875,10.533963203430176,10.50748062133789,10.48100471496582,10.454367637634277,10.428370475769043,10.403030395507812,10.376646995544434,10.349864959716797,10.323660850524902,10.297926902770996,10.273439407348633,10.248920440673828,10.224374771118164,10.200089454650879,10.176236152648926,10.152408599853516,10.127677917480469,10.101778984069824,10.075796127319336,10.050688743591309,10.025787353515625,10.000997543334961,9.978015899658203,9.955331802368164,9.932185173034668,9.908802032470703,9.884804725646973,9.860320091247559,9.835860252380371,9.810874938964844,9.78688907623291,9.763643264770508,9.740920066833496,9.718003273010254,9.694169998168945,9.670167922973633,9.646032333374023,9.62180233001709,9.59665584564209,9.572324752807617,9.547871589660645,9.522830963134766,9.498523712158203,9.472522735595703,9.446599960327148,9.421598434448242,9.39821720123291,9.375157356262207,9.356220245361328,9.340418815612793,9.327888488769531,9.317148208618164,9.306249618530273,9.293997764587402,9.280240058898926,9.264677047729492,9.248504638671875,9.233014106750488,9.216089248657227,9.201678276062012,9.186918258666992,9.173612594604492,9.16219711303711,9.152263641357422,9.14321231842041,9.133845329284668,9.122941017150879,9.110932350158691,9.098291397094727,9.086996078491211,9.07815170288086,9.069412231445312,9.058870315551758,9.046886444091797,9.034132957458496,9.021416664123535,9.009444236755371,8.997995376586914,8.986189842224121,8.97510814666748,8.964639663696289,8.953585624694824,8.942285537719727,8.930802345275879,8.917196273803711,8.90242862701416,8.889193534851074,8.878232955932617,8.867362022399902,8.855216026306152,8.84244155883789,8.830313682556152,8.817405700683594,8.80380630493164,8.789721488952637,8.775984764099121,8.763984680175781,8.751598358154297,8.738690376281738,8.72636890411377,8.712563514709473,8.69911003112793,8.68519401550293,8.673929214477539,8.662673950195312,8.652108192443848,8.640069961547852,8.62722110748291,8.61324691772461,8.600689888000488,8.586894989013672,8.573427200317383,8.55986213684082,8.546231269836426,8.534180641174316,8.523003578186035,8.511343002319336,8.500320434570312,8.48987865447998,8.480094909667969,8.4736967086792,8.468155860900879,8.463713645935059,8.458312034606934,8.452290534973145,8.44449234008789,8.436090469360352,8.432334899902344,8.43022632598877,8.429742813110352,8.42953872680664,8.433046340942383,8.437114715576172,8.439727783203125,8.441587448120117,8.443248748779297,8.443573951721191,8.444022178649902,8.445843696594238,8.44623851776123,8.44599723815918,8.445106506347656,8.443328857421875,8.441115379333496,8.440740585327148,8.439698219299316,8.435376167297363,8.43241024017334,8.429197311401367,8.426000595092773,8.422133445739746,8.418864250183105,8.416078567504883,8.413302421569824,8.410042762756348,8.406171798706055,8.402405738830566,8.400672912597656,8.399421691894531,8.398412704467773,8.396445274353027,8.39432144165039,8.393389701843262,8.392167091369629,8.391278266906738,8.388978004455566,8.385802268981934,8.382074356079102,8.376802444458008,8.37260627746582,8.367881774902344,8.363597869873047,8.35920238494873,8.35366439819336,8.347686767578125,8.342072486877441,8.337380409240723,8.334049224853516,8.330742835998535,8.326817512512207,8.321815490722656,8.316393852233887,8.310023307800293,8.302519798278809,8.296642303466797,8.292526245117188,8.287184715270996,8.281733512878418,8.275726318359375,8.269153594970703,8.26278305053711,8.256715774536133,8.251741409301758,8.246180534362793,8.238969802856445,8.232141494750977,8.22578239440918,8.218463897705078,8.212209701538086,8.20605182647705,8.199697494506836,8.194093704223633,8.187851905822754,8.181950569152832,8.176469802856445,8.172032356262207,8.167701721191406,8.16219711303711,8.1564302444458,8.151626586914062,8.146801948547363,8.141738891601562,8.136605262756348,8.130337715148926,8.123448371887207,8.115209579467773,8.109747886657715,8.105649948120117,8.100919723510742,8.097146034240723,8.092663764953613,8.088391304016113,8.0844144821167,8.079354286193848,8.0735445022583,8.068692207336426,8.065400123596191,8.062495231628418,8.059433937072754,8.055595397949219,8.050658226013184,8.044337272644043,8.038830757141113,8.033267974853516,8.027501106262207]}},\"id\":\"2997e29a-3a1f-48d6-b9f8-3211c3f24cfe\",\"type\":\"ColumnDataSource\"},{\"attributes\":{},\"id\":\"a2967690-5dd1-44a6-bd56-bbd2be6f99b1\",\"type\":\"ToolEvents\"},{\"attributes\":{\"dimension\":1,\"plot\":{\"id\":\"adc3368d-dc3e-4237-bb02-5095a0188669\",\"subtype\":\"Figure\",\"type\":\"Plot\"},\"ticker\":{\"id\":\"5818aaba-8dbc-40b8-a155-7de9843664f9\",\"type\":\"BasicTicker\"}},\"id\":\"f5abffc5-5b45-425e-a451-b5da9dec4468\",\"type\":\"Grid\"},{\"attributes\":{\"line_color\":{\"value\":\"purple\"},\"line_width\":{\"value\":0.5},\"x\":{\"field\":\"x\"},\"y\":{\"field\":\"y\"}},\"id\":\"a243c41b-b109-4a33-b365-b920a5348d14\",\"type\":\"Line\"},{\"attributes\":{\"data_source\":{\"id\":\"f9be516c-c2b9-43c4-a55c-5d13dc129957\",\"type\":\"ColumnDataSource\"},\"glyph\":{\"id\":\"a243c41b-b109-4a33-b365-b920a5348d14\",\"type\":\"Line\"},\"hover_glyph\":null,\"nonselection_glyph\":{\"id\":\"c037e8fd-0cdd-4485-8560-5e7d79f0990d\",\"type\":\"Line\"},\"selection_glyph\":null},\"id\":\"497fc980-4b94-4775-97ad-805ff6292aa6\",\"type\":\"GlyphRenderer\"},{\"attributes\":{\"active_drag\":\"auto\",\"active_scroll\":\"auto\",\"active_tap\":\"auto\",\"tools\":[{\"id\":\"4336a1f3-9af3-4154-910b-41b4a95bf412\",\"type\":\"PanTool\"},{\"id\":\"0b5e77c0-bd74-473c-a25d-e7a1ae411896\",\"type\":\"WheelZoomTool\"},{\"id\":\"cffc0540-17e9-4986-8456-cd2b62f82e5c\",\"type\":\"BoxZoomTool\"},{\"id\":\"d87bbce1-a826-47e3-a127-d303cedb383c\",\"type\":\"SaveTool\"},{\"id\":\"fcaca464-99c5-4476-80b4-4e0f1acd669b\",\"type\":\"ResetTool\"},{\"id\":\"d7920107-830b-45d6-830c-ee0d3074b528\",\"type\":\"HelpTool\"}]},\"id\":\"a5e8d4f9-3b9e-4e4e-bcb7-bd2b471d6427\",\"type\":\"Toolbar\"},{\"attributes\":{\"overlay\":{\"id\":\"a76ec1db-34a3-4fa5-b270-e21c46594e5b\",\"type\":\"BoxAnnotation\"},\"plot\":{\"id\":\"adc3368d-dc3e-4237-bb02-5095a0188669\",\"subtype\":\"Figure\",\"type\":\"Plot\"}},\"id\":\"cffc0540-17e9-4986-8456-cd2b62f82e5c\",\"type\":\"BoxZoomTool\"},{\"attributes\":{\"line_alpha\":{\"value\":0.1},\"line_color\":{\"value\":\"#1f77b4\"},\"line_width\":{\"value\":0.5},\"x\":{\"field\":\"x\"},\"y\":{\"field\":\"y\"}},\"id\":\"c037e8fd-0cdd-4485-8560-5e7d79f0990d\",\"type\":\"Line\"},{\"attributes\":{\"plot\":null,\"text\":null},\"id\":\"341f91d8-fcea-406a-a752-f892aea72053\",\"type\":\"Title\"},{\"attributes\":{\"formatter\":{\"id\":\"1353391f-34ef-489a-95c2-99fb554662f0\",\"type\":\"BasicTickFormatter\"},\"plot\":{\"id\":\"adc3368d-dc3e-4237-bb02-5095a0188669\",\"subtype\":\"Figure\",\"type\":\"Plot\"},\"ticker\":{\"id\":\"211562bf-1618-417f-a1d2-6d33c9c7deb3\",\"type\":\"BasicTicker\"}},\"id\":\"dc0540d6-67ac-428b-87fc-fb6b099ba865\",\"type\":\"LinearAxis\"},{\"attributes\":{\"plot\":{\"id\":\"adc3368d-dc3e-4237-bb02-5095a0188669\",\"subtype\":\"Figure\",\"type\":\"Plot\"},\"ticker\":{\"id\":\"211562bf-1618-417f-a1d2-6d33c9c7deb3\",\"type\":\"BasicTicker\"}},\"id\":\"0e257c4e-dcf2-491b-a284-7844c7f88e52\",\"type\":\"Grid\"},{\"attributes\":{},\"id\":\"211562bf-1618-417f-a1d2-6d33c9c7deb3\",\"type\":\"BasicTicker\"},{\"attributes\":{\"callback\":null},\"id\":\"e5ca291c-7fa3-4e31-acf6-7fb435067c53\",\"type\":\"DataRange1d\"},{\"attributes\":{\"callback\":null,\"column_names\":[\"y\",\"x\"],\"data\":{\"x\":[0,1,2,3,4,5,6,7,8,9,10,11,12,13,14,15,16,17,18,19,20,21,22,23,24,25,26,27,28,29,30,31,32,33,34,35,36,37,38,39,40,41,42,43,44,45,46,47,48,49,50,51,52,53,54,55,56,57,58,59,60,61,62,63,64,65,66,67,68,69,70,71,72,73,74,75,76,77,78,79,80,81,82,83,84,85,86,87,88,89,90,91,92,93,94,95,96,97,98,99,100,101,102,103,104,105,106,107,108,109,110,111,112,113,114,115,116,117,118,119,120,121,122,123,124,125,126,127,128,129,130,131,132,133,134,135,136,137,138,139,140,141,142,143,144,145,146,147,148,149,150,151,152,153,154,155,156,157,158,159,160,161,162,163,164,165,166,167,168,169,170,171,172,173,174,175,176,177,178,179,180,181,182,183,184,185,186,187,188,189,190,191,192,193,194,195,196,197,198,199,200,201,202,203,204,205,206,207,208,209,210,211,212,213,214,215,216,217,218,219,220,221,222,223,224,225,226,227,228,229,230,231,232,233,234,235,236,237,238,239,240,241,242,243,244,245,246,247,248,249,250,251,252,253,254,255,256,257,258,259,260,261,262,263,264,265,266,267,268,269,270,271,272,273,274,275,276,277,278,279,280,281,282,283,284,285,286,287,288,289,290,291,292,293,294,295,296,297,298,299,300,301,302,303,304,305,306,307,308,309,310,311,312,313,314,315,316,317,318,319,320,321,322,323,324,325,326,327,328,329,330,331,332,333,334,335,336,337,338,339,340,341,342,343,344,345,346,347,348,349,350,351,352,353,354,355,356,357,358,359,360,361,362,363,364,365,366,367,368,369,370,371,372,373,374,375,376,377,378,379,380,381,382,383,384,385,386,387,388,389,390,391,392,393,394,395,396,397,398,399],\"y\":[-5.28205680847168,-6.7645583152771,-7.327672958374023,-9.0634765625,-12.561527252197266,-12.34853458404541,-14.595198631286621,-13.238180160522461,-15.1233549118042,-16.352094650268555,-18.248268127441406,-21.370372772216797,-26.423614501953125,-18.395706176757812,-25.682283401489258,-21.987653732299805,-35.844993591308594,-38.29473114013672,-34.970096588134766,-35.780296325683594,-35.398040771484375,-41.66338348388672,-39.286651611328125,-48.69839096069336,-49.1922492980957,-44.96662521362305,-44.010780334472656,-44.082557678222656,-47.56016159057617,-34.92328643798828,-42.206905364990234,-45.939308166503906,-46.05015182495117,-50.390846252441406,-42.07496643066406,-44.791961669921875,-50.75441360473633,-41.597747802734375,-43.42127227783203,-43.77772903442383,-45.18730163574219,-42.163482666015625,-42.23090362548828,-51.915367126464844,-53.82868194580078,-47.99249267578125,-45.85810089111328,-46.88953399658203,-48.52593994140625,-46.43937683105469,-44.397830963134766,-58.40802001953125,-43.41693878173828,-50.81221008300781,-45.84209060668945,-54.5013313293457,-59.66852569580078,-41.50607681274414,-44.335357666015625,-52.207611083984375,-51.00251770019531,-41.4818000793457,-46.63676834106445,-57.91330337524414,-54.983062744140625,-45.44948196411133,-43.737850189208984,-45.43653869628906,-48.27166748046875,-56.56367492675781,-51.36383056640625,-57.612449645996094,-40.73994445800781,-56.76606369018555,-54.03218078613281,-49.33644485473633,-47.64146041870117,-54.76594161987305,-51.24240493774414,-49.978702545166016,-43.41773223876953,-41.42488098144531,-41.649559020996094,-44.907875061035156,-49.56871795654297,-46.605194091796875,-48.010467529296875,-47.26362991333008,-52.55584716796875,-47.867828369140625,-54.2652473449707,-47.311676025390625,-37.3889045715332,-49.99856948852539,-50.92848205566406,-48.1966552734375,-45.37976837158203,-47.637882232666016,-43.969120025634766,-53.92830276489258,-50.407501220703125,-48.64329147338867,-40.493499755859375,-46.83518600463867,-60.69597625732422,-56.021575927734375,-58.40488052368164,-48.09095001220703,-57.063011169433594,-51.71043014526367,-61.33386993408203,-43.145835876464844,-48.453880310058594,-47.07911682128906,-52.417598724365234,-47.336280822753906,-52.508766174316406,-51.476985931396484,-47.02666473388672,-44.20713806152344,-39.47294616699219,-61.221771240234375,-52.463783264160156,-44.2686882019043,-50.41920852661133,-63.49958419799805,-50.68484115600586,-49.713531494140625,-55.289405822753906,-50.00401306152344,-51.694034576416016,-45.72388458251953,-53.956729888916016,-41.63672637939453,-54.62897872924805,-53.45389938354492,-50.168479919433594,-45.47235870361328,-49.785179138183594,-44.95647048950195,-51.813377380371094,-49.16106033325195,-51.777198791503906,-35.43134307861328,-61.67738342285156,-42.21670913696289,-50.4734992980957,-49.30835723876953,-51.88564682006836,-48.104576110839844,-45.68505096435547,-39.30324935913086,-44.97248840332031,-61.32270812988281,-56.8127326965332,-57.28636169433594,-53.4927978515625,-47.047855377197266,-46.202850341796875,-52.10669708251953,-52.054412841796875,-45.39503479003906,-62.347320556640625,-51.65979766845703,-53.17292022705078,-57.581233978271484,-53.78384780883789,-50.525577545166016,-46.50631332397461,-48.7160530090332,-48.66876220703125,-47.68367385864258,-42.708248138427734,-56.161216735839844,-57.64053726196289,-57.7785530090332,-50.106346130371094,-47.68513488769531,-40.8846435546875,-50.811866760253906,-48.170677185058594,-47.52918243408203,-45.507568359375,-54.165992736816406,-52.753089904785156,-33.3115234375,-54.92805099487305,-39.960716247558594,-53.6538200378418,-48.221641540527344,-48.98760986328125,-52.34514617919922,-45.22419738769531,-49.855316162109375,-49.49510192871094,-51.7816276550293,-46.65440368652344,-55.593379974365234,-49.83514404296875,-56.20157241821289,-45.574790954589844,-50.28211212158203,-51.20302963256836,-53.16529083251953,-46.075111389160156,-53.73490524291992,-54.700958251953125,-45.84661865234375,-51.39231872558594,-61.81032180786133,-50.27388381958008,-54.36440658569336,-60.98748779296875,-49.774208068847656,-53.50046157836914,-55.837154388427734,-51.18803405761719,-53.16825866699219,-55.158447265625,-66.85836029052734,-67.64607238769531,-66.00733947753906,-57.01821517944336,-59.09756851196289,-60.528602600097656,-60.739112854003906,-57.29723358154297,-62.898799896240234,-60.6731071472168,-66.14308166503906,-62.92546081542969,-59.00685119628906,-56.01823425292969,-58.30161666870117,-57.584041595458984,-62.71308898925781,-61.91477584838867,-70.85118865966797,-62.8387451171875,-76.26073455810547,-64.90652465820312,-62.49247741699219,-58.864585876464844,-66.34364318847656,-63.71116256713867,-57.0684700012207,-64.67134857177734,-69.36033630371094,-64.68829345703125,-57.70703887939453,-66.96692657470703,-70.1078872680664,-71.9676742553711,-65.24959564208984,-59.147216796875,-68.6648941040039,-70.30560302734375,-65.75098419189453,-67.18749237060547,-71.2829360961914,-81.91580963134766,-59.357032775878906,-56.168880462646484,-75.55935668945312,-63.78662109375,-65.55396270751953,-69.06172180175781,-65.01881408691406,-69.40394592285156,-69.51904296875,-70.23668670654297,-73.43701171875,-60.41212463378906,-62.290687561035156,-60.509666442871094,-66.18876647949219,-75.0828857421875,-69.21832275390625,-63.12896728515625,-69.27996826171875,-71.14362335205078,-65.98641204833984,-68.64920043945312,-70.7052001953125,-73.19158172607422,-80.38285827636719,-74.41669464111328,-77.02227020263672,-72.24322509765625,-83.06417846679688,-75.36184692382812,-74.22774505615234,-82.34471130371094,-72.4429931640625,-76.67595672607422,-86.74720001220703,-81.10680389404297,-77.83646392822266,-87.86316680908203,-82.85140228271484,-83.59616088867188,-83.95785522460938,-82.2385025024414,-96.24118041992188,-77.23101806640625,-90.87518310546875,-81.8607177734375,-94.448974609375,-87.16355895996094,-83.25679016113281,-92.06642150878906,-80.76667785644531,-87.35459899902344,-95.36909484863281,-87.28638458251953,-90.99043273925781,-86.21096801757812,-95.40261840820312,-82.1158447265625,-83.48161315917969,-79.32994079589844,-93.53490447998047,-84.03553771972656,-90.5098648071289,-90.5064926147461,-86.71067810058594,-90.42668151855469,-91.17292022705078,-82.56108093261719,-88.94154357910156,-86.10944366455078,-87.314697265625,-91.15411376953125,-90.33599853515625,-94.45884704589844,-93.80921173095703,-91.134033203125,-85.92680358886719,-80.68844604492188,-84.75198364257812,-87.62169647216797,-97.48023986816406,-96.55720520019531,-82.10082244873047,-92.83877563476562,-93.10743713378906,-83.35753631591797,-89.45211791992188,-97.78829956054688,-82.83671569824219,-91.37743377685547,-84.52543640136719,-100.5032730102539,-87.50917053222656,-94.63365936279297,-94.166015625,-85.84603118896484,-94.3960189819336,-86.00296020507812,-83.22463989257812,-85.83979034423828,-91.23194122314453,-84.87166595458984,-95.16194915771484,-94.04920959472656,-93.02731323242188,-94.6991958618164,-89.02511596679688,-95.75773620605469,-94.42322540283203,-88.0616455078125,-79.8700942993164,-95.11022186279297,-86.72969818115234,-88.84056854248047,-91.79205322265625,-87.12661743164062,-101.23309326171875,-91.95631408691406,-96.70794677734375,-98.08709716796875,-91.71680450439453,-93.33287811279297,-90.10340881347656,-95.71883392333984,-84.4593505859375,-83.67700958251953,-88.80400848388672,-94.22743225097656,-93.19824981689453,-90.6357650756836,-88.80387878417969,-93.59324645996094,-89.6763687133789,-96.6060791015625,-91.40255737304688,-88.61418151855469,-97.17887878417969,-95.0992202758789,-90.07626342773438]}},\"id\":\"f9be516c-c2b9-43c4-a55c-5d13dc129957\",\"type\":\"ColumnDataSource\"},{\"attributes\":{},\"id\":\"0ea295c1-62ad-45ef-8fd1-d9f5d3b7c0fc\",\"type\":\"BasicTickFormatter\"}],\"root_ids\":[\"adc3368d-dc3e-4237-bb02-5095a0188669\"]},\"title\":\"Bokeh Application\",\"version\":\"0.12.3\"}};\n",
       "            var render_items = [{\"docid\":\"c0fed1ab-032f-40e8-8a3f-832f891543f1\",\"elementid\":\"a7adc88a-d93d-41f4-a6c2-874dec79774b\",\"modelid\":\"adc3368d-dc3e-4237-bb02-5095a0188669\"}];\n",
       "            \n",
       "            Bokeh.embed.embed_items(docs_json, render_items);\n",
       "        });\n",
       "      },\n",
       "      function(Bokeh) {\n",
       "      }\n",
       "    ];\n",
       "  \n",
       "    function run_inline_js() {\n",
       "      \n",
       "      if ((window.Bokeh !== undefined) || (force === \"1\")) {\n",
       "        for (var i = 0; i < inline_js.length; i++) {\n",
       "          inline_js[i](window.Bokeh);\n",
       "        }if (force === \"1\") {\n",
       "          display_loaded();\n",
       "        }} else if (Date.now() < window._bokeh_timeout) {\n",
       "        setTimeout(run_inline_js, 100);\n",
       "      } else if (!window._bokeh_failed_load) {\n",
       "        console.log(\"Bokeh: BokehJS failed to load within specified timeout.\");\n",
       "        window._bokeh_failed_load = true;\n",
       "      } else if (!force) {\n",
       "        var cell = $(\"#a7adc88a-d93d-41f4-a6c2-874dec79774b\").parents('.cell').data().cell;\n",
       "        cell.output_area.append_execute_result(NB_LOAD_WARNING)\n",
       "      }\n",
       "  \n",
       "    }\n",
       "  \n",
       "    if (window._bokeh_is_loading === 0) {\n",
       "      console.log(\"Bokeh: BokehJS loaded, going straight to plotting\");\n",
       "      run_inline_js();\n",
       "    } else {\n",
       "      load_libs(js_urls, function() {\n",
       "        console.log(\"Bokeh: BokehJS plotting callback run at\", now());\n",
       "        run_inline_js();\n",
       "      });\n",
       "    }\n",
       "  }(this));\n",
       "</script>"
      ]
     },
     "metadata": {},
     "output_type": "display_data"
    }
   ],
   "source": [
    "loss_p = figure(width=500, height=500)\n",
    "\n",
    "# Loss\n",
    "# loss_p.line(range(len(epoch_loss)), epoch_loss, line_width=0.5, color=\"green\")\n",
    "\n",
    "loss_p.line(range(len(kl_loss)), kl_loss, line_width=0.5, color=\"orange\")\n",
    "\n",
    "loss_p.line(range(len(data_loss)), data_loss, line_width=0.5, color=\"purple\")\n",
    "\n",
    "# loss_p.line(range(len(nn_epoch_loss)), nn_epoch_loss, line_width=1, color=\"green\")\n",
    "\n",
    "show(loss_p)"
   ]
  },
  {
   "cell_type": "code",
   "execution_count": 25,
   "metadata": {
    "collapsed": false
   },
   "outputs": [
    {
     "data": {
      "text/html": [
       "\n",
       "\n",
       "    <div class=\"bk-root\">\n",
       "        <div class=\"plotdiv\" id=\"87afaad5-5fc2-44dc-a6f9-8f900ae0b0f5\"></div>\n",
       "    </div>\n",
       "<script type=\"text/javascript\">\n",
       "  \n",
       "  (function(global) {\n",
       "    function now() {\n",
       "      return new Date();\n",
       "    }\n",
       "  \n",
       "    var force = \"\";\n",
       "  \n",
       "    if (typeof (window._bokeh_onload_callbacks) === \"undefined\" || force !== \"\") {\n",
       "      window._bokeh_onload_callbacks = [];\n",
       "      window._bokeh_is_loading = undefined;\n",
       "    }\n",
       "  \n",
       "  \n",
       "    \n",
       "    if (typeof (window._bokeh_timeout) === \"undefined\" || force !== \"\") {\n",
       "      window._bokeh_timeout = Date.now() + 0;\n",
       "      window._bokeh_failed_load = false;\n",
       "    }\n",
       "  \n",
       "    var NB_LOAD_WARNING = {'data': {'text/html':\n",
       "       \"<div style='background-color: #fdd'>\\n\"+\n",
       "       \"<p>\\n\"+\n",
       "       \"BokehJS does not appear to have successfully loaded. If loading BokehJS from CDN, this \\n\"+\n",
       "       \"may be due to a slow or bad network connection. Possible fixes:\\n\"+\n",
       "       \"</p>\\n\"+\n",
       "       \"<ul>\\n\"+\n",
       "       \"<li>re-rerun `output_notebook()` to attempt to load from CDN again, or</li>\\n\"+\n",
       "       \"<li>use INLINE resources instead, as so:</li>\\n\"+\n",
       "       \"</ul>\\n\"+\n",
       "       \"<code>\\n\"+\n",
       "       \"from bokeh.resources import INLINE\\n\"+\n",
       "       \"output_notebook(resources=INLINE)\\n\"+\n",
       "       \"</code>\\n\"+\n",
       "       \"</div>\"}};\n",
       "  \n",
       "    function display_loaded() {\n",
       "      if (window.Bokeh !== undefined) {\n",
       "        Bokeh.$(\"#87afaad5-5fc2-44dc-a6f9-8f900ae0b0f5\").text(\"BokehJS successfully loaded.\");\n",
       "      } else if (Date.now() < window._bokeh_timeout) {\n",
       "        setTimeout(display_loaded, 100)\n",
       "      }\n",
       "    }\n",
       "  \n",
       "    function run_callbacks() {\n",
       "      window._bokeh_onload_callbacks.forEach(function(callback) { callback() });\n",
       "      delete window._bokeh_onload_callbacks\n",
       "      console.info(\"Bokeh: all callbacks have finished\");\n",
       "    }\n",
       "  \n",
       "    function load_libs(js_urls, callback) {\n",
       "      window._bokeh_onload_callbacks.push(callback);\n",
       "      if (window._bokeh_is_loading > 0) {\n",
       "        console.log(\"Bokeh: BokehJS is being loaded, scheduling callback at\", now());\n",
       "        return null;\n",
       "      }\n",
       "      if (js_urls == null || js_urls.length === 0) {\n",
       "        run_callbacks();\n",
       "        return null;\n",
       "      }\n",
       "      console.log(\"Bokeh: BokehJS not loaded, scheduling load and callback at\", now());\n",
       "      window._bokeh_is_loading = js_urls.length;\n",
       "      for (var i = 0; i < js_urls.length; i++) {\n",
       "        var url = js_urls[i];\n",
       "        var s = document.createElement('script');\n",
       "        s.src = url;\n",
       "        s.async = false;\n",
       "        s.onreadystatechange = s.onload = function() {\n",
       "          window._bokeh_is_loading--;\n",
       "          if (window._bokeh_is_loading === 0) {\n",
       "            console.log(\"Bokeh: all BokehJS libraries loaded\");\n",
       "            run_callbacks()\n",
       "          }\n",
       "        };\n",
       "        s.onerror = function() {\n",
       "          console.warn(\"failed to load library \" + url);\n",
       "        };\n",
       "        console.log(\"Bokeh: injecting script tag for BokehJS library: \", url);\n",
       "        document.getElementsByTagName(\"head\")[0].appendChild(s);\n",
       "      }\n",
       "    };var element = document.getElementById(\"87afaad5-5fc2-44dc-a6f9-8f900ae0b0f5\");\n",
       "    if (element == null) {\n",
       "      console.log(\"Bokeh: ERROR: autoload.js configured with elementid '87afaad5-5fc2-44dc-a6f9-8f900ae0b0f5' but no matching script tag was found. \")\n",
       "      return false;\n",
       "    }\n",
       "  \n",
       "    var js_urls = [];\n",
       "  \n",
       "    var inline_js = [\n",
       "      function(Bokeh) {\n",
       "        Bokeh.$(function() {\n",
       "            var docs_json = {\"effaf678-2892-4cc2-ac8a-a689b10e80bb\":{\"roots\":{\"references\":[{\"attributes\":{\"formatter\":{\"id\":\"29f5376e-539c-4ba9-9c63-ce566ef0ba99\",\"type\":\"BasicTickFormatter\"},\"plot\":{\"id\":\"99b68a93-b33b-4363-aaf6-6e5cd38d0a38\",\"subtype\":\"Figure\",\"type\":\"Plot\"},\"ticker\":{\"id\":\"b4febb35-f636-4dbe-a23f-e5dff8a5934e\",\"type\":\"BasicTicker\"}},\"id\":\"53531399-110b-4a74-9843-83f99fc17dac\",\"type\":\"LinearAxis\"},{\"attributes\":{\"plot\":{\"id\":\"99b68a93-b33b-4363-aaf6-6e5cd38d0a38\",\"subtype\":\"Figure\",\"type\":\"Plot\"},\"ticker\":{\"id\":\"b4febb35-f636-4dbe-a23f-e5dff8a5934e\",\"type\":\"BasicTicker\"}},\"id\":\"0be83b04-739a-47a5-ab17-ba04e4cca7eb\",\"type\":\"Grid\"},{\"attributes\":{\"plot\":{\"id\":\"99b68a93-b33b-4363-aaf6-6e5cd38d0a38\",\"subtype\":\"Figure\",\"type\":\"Plot\"}},\"id\":\"a2852676-c838-425d-8711-d708e5ea141b\",\"type\":\"SaveTool\"},{\"attributes\":{\"plot\":{\"id\":\"99b68a93-b33b-4363-aaf6-6e5cd38d0a38\",\"subtype\":\"Figure\",\"type\":\"Plot\"}},\"id\":\"0ac56245-26ab-46a0-b97f-b50ebe18eaf1\",\"type\":\"PanTool\"},{\"attributes\":{\"below\":[{\"id\":\"53531399-110b-4a74-9843-83f99fc17dac\",\"type\":\"LinearAxis\"}],\"left\":[{\"id\":\"0328687e-bdfc-4f6b-bd6f-edae9c4de3f8\",\"type\":\"LinearAxis\"}],\"plot_height\":500,\"plot_width\":500,\"renderers\":[{\"id\":\"53531399-110b-4a74-9843-83f99fc17dac\",\"type\":\"LinearAxis\"},{\"id\":\"0be83b04-739a-47a5-ab17-ba04e4cca7eb\",\"type\":\"Grid\"},{\"id\":\"0328687e-bdfc-4f6b-bd6f-edae9c4de3f8\",\"type\":\"LinearAxis\"},{\"id\":\"d9c8f5e1-77aa-4edf-861f-96c8a46f4e90\",\"type\":\"Grid\"},{\"id\":\"6f8ca4a6-6979-4cf0-a7ea-b8f6adabf8d7\",\"type\":\"BoxAnnotation\"},{\"id\":\"fff3ffeb-a0c5-493e-8694-362ae6cf287f\",\"type\":\"GlyphRenderer\"}],\"title\":{\"id\":\"cfdbd01d-f53b-4c70-a33a-798efcdabd80\",\"type\":\"Title\"},\"tool_events\":{\"id\":\"17d9e121-961f-43b1-9c9b-bf3b3159e065\",\"type\":\"ToolEvents\"},\"toolbar\":{\"id\":\"242dfa7b-632f-41aa-a778-a7c9d8d6d4ee\",\"type\":\"Toolbar\"},\"x_range\":{\"id\":\"8635f1ae-5078-43fe-a74d-93567f860b2c\",\"type\":\"DataRange1d\"},\"y_range\":{\"id\":\"9ad5b512-c254-481d-b507-d92c7cbe3296\",\"type\":\"DataRange1d\"}},\"id\":\"99b68a93-b33b-4363-aaf6-6e5cd38d0a38\",\"subtype\":\"Figure\",\"type\":\"Plot\"},{\"attributes\":{\"plot\":{\"id\":\"99b68a93-b33b-4363-aaf6-6e5cd38d0a38\",\"subtype\":\"Figure\",\"type\":\"Plot\"}},\"id\":\"b69b1b02-a7b1-4948-80ae-ce355fab3dfc\",\"type\":\"WheelZoomTool\"},{\"attributes\":{\"plot\":{\"id\":\"99b68a93-b33b-4363-aaf6-6e5cd38d0a38\",\"subtype\":\"Figure\",\"type\":\"Plot\"}},\"id\":\"36fed867-abb8-40b8-bdff-b46e6e05df26\",\"type\":\"ResetTool\"},{\"attributes\":{},\"id\":\"29f5376e-539c-4ba9-9c63-ce566ef0ba99\",\"type\":\"BasicTickFormatter\"},{\"attributes\":{\"data_source\":{\"id\":\"783a6413-fdd2-499a-b365-a071ebbed057\",\"type\":\"ColumnDataSource\"},\"glyph\":{\"id\":\"5659d76b-ad05-4356-81ea-aecc1785cd46\",\"type\":\"Line\"},\"hover_glyph\":null,\"nonselection_glyph\":{\"id\":\"0d5aceac-0ba8-413c-9cba-460a193fdde5\",\"type\":\"Line\"},\"selection_glyph\":null},\"id\":\"fff3ffeb-a0c5-493e-8694-362ae6cf287f\",\"type\":\"GlyphRenderer\"},{\"attributes\":{\"callback\":null},\"id\":\"8635f1ae-5078-43fe-a74d-93567f860b2c\",\"type\":\"DataRange1d\"},{\"attributes\":{\"line_alpha\":{\"value\":0.1},\"line_color\":{\"value\":\"#1f77b4\"},\"line_width\":{\"value\":0.5},\"x\":{\"field\":\"x\"},\"y\":{\"field\":\"y\"}},\"id\":\"0d5aceac-0ba8-413c-9cba-460a193fdde5\",\"type\":\"Line\"},{\"attributes\":{},\"id\":\"1dfe6391-2dbb-4d8d-9884-b696ae26a8ab\",\"type\":\"BasicTickFormatter\"},{\"attributes\":{},\"id\":\"d61fa0af-dbf2-40c9-bc82-a7e998ce26ab\",\"type\":\"BasicTicker\"},{\"attributes\":{\"dimension\":1,\"plot\":{\"id\":\"99b68a93-b33b-4363-aaf6-6e5cd38d0a38\",\"subtype\":\"Figure\",\"type\":\"Plot\"},\"ticker\":{\"id\":\"d61fa0af-dbf2-40c9-bc82-a7e998ce26ab\",\"type\":\"BasicTicker\"}},\"id\":\"d9c8f5e1-77aa-4edf-861f-96c8a46f4e90\",\"type\":\"Grid\"},{\"attributes\":{\"callback\":null,\"column_names\":[\"y\",\"x\"],\"data\":{\"x\":[0,1,2,3,4,5,6,7,8,9,10,11,12,13,14,15,16,17,18,19,20,21,22,23,24,25,26,27,28,29,30,31,32,33,34,35,36,37,38],\"y\":[274.5863037109375,112.32859802246094,38.29951095581055,20.02260971069336,12.735904693603516,10.851017951965332,9.514284133911133,9.155009269714355,8.851141929626465,7.734601974487305,7.7942609786987305,7.503507614135742,7.066952705383301,6.857004642486572,6.863910675048828,6.465437889099121,6.248532772064209,5.9865922927856445,6.06440544128418,5.909753799438477,9.782800674438477,29.027454376220703,18.840269088745117,12.593963623046875,9.083484649658203,7.304047107696533,7.075443744659424,8.160734176635742,19.686630249023438,21.10215187072754,11.285682678222656,6.840006351470947,6.253536224365234,5.133199214935303,3.9989070892333984,3.785768985748291,4.189572334289551,3.3176751136779785,3.052417278289795]}},\"id\":\"783a6413-fdd2-499a-b365-a071ebbed057\",\"type\":\"ColumnDataSource\"},{\"attributes\":{\"plot\":{\"id\":\"99b68a93-b33b-4363-aaf6-6e5cd38d0a38\",\"subtype\":\"Figure\",\"type\":\"Plot\"}},\"id\":\"531d0619-03a1-4536-b84d-356654bc548f\",\"type\":\"HelpTool\"},{\"attributes\":{},\"id\":\"17d9e121-961f-43b1-9c9b-bf3b3159e065\",\"type\":\"ToolEvents\"},{\"attributes\":{\"callback\":null},\"id\":\"9ad5b512-c254-481d-b507-d92c7cbe3296\",\"type\":\"DataRange1d\"},{\"attributes\":{\"active_drag\":\"auto\",\"active_scroll\":\"auto\",\"active_tap\":\"auto\",\"tools\":[{\"id\":\"0ac56245-26ab-46a0-b97f-b50ebe18eaf1\",\"type\":\"PanTool\"},{\"id\":\"b69b1b02-a7b1-4948-80ae-ce355fab3dfc\",\"type\":\"WheelZoomTool\"},{\"id\":\"d7239d82-74c1-423b-9fdf-62230e62cefe\",\"type\":\"BoxZoomTool\"},{\"id\":\"a2852676-c838-425d-8711-d708e5ea141b\",\"type\":\"SaveTool\"},{\"id\":\"36fed867-abb8-40b8-bdff-b46e6e05df26\",\"type\":\"ResetTool\"},{\"id\":\"531d0619-03a1-4536-b84d-356654bc548f\",\"type\":\"HelpTool\"}]},\"id\":\"242dfa7b-632f-41aa-a778-a7c9d8d6d4ee\",\"type\":\"Toolbar\"},{\"attributes\":{\"overlay\":{\"id\":\"6f8ca4a6-6979-4cf0-a7ea-b8f6adabf8d7\",\"type\":\"BoxAnnotation\"},\"plot\":{\"id\":\"99b68a93-b33b-4363-aaf6-6e5cd38d0a38\",\"subtype\":\"Figure\",\"type\":\"Plot\"}},\"id\":\"d7239d82-74c1-423b-9fdf-62230e62cefe\",\"type\":\"BoxZoomTool\"},{\"attributes\":{\"line_color\":{\"value\":\"red\"},\"line_width\":{\"value\":0.5},\"x\":{\"field\":\"x\"},\"y\":{\"field\":\"y\"}},\"id\":\"5659d76b-ad05-4356-81ea-aecc1785cd46\",\"type\":\"Line\"},{\"attributes\":{\"formatter\":{\"id\":\"1dfe6391-2dbb-4d8d-9884-b696ae26a8ab\",\"type\":\"BasicTickFormatter\"},\"plot\":{\"id\":\"99b68a93-b33b-4363-aaf6-6e5cd38d0a38\",\"subtype\":\"Figure\",\"type\":\"Plot\"},\"ticker\":{\"id\":\"d61fa0af-dbf2-40c9-bc82-a7e998ce26ab\",\"type\":\"BasicTicker\"}},\"id\":\"0328687e-bdfc-4f6b-bd6f-edae9c4de3f8\",\"type\":\"LinearAxis\"},{\"attributes\":{\"plot\":null,\"text\":null},\"id\":\"cfdbd01d-f53b-4c70-a33a-798efcdabd80\",\"type\":\"Title\"},{\"attributes\":{\"bottom_units\":\"screen\",\"fill_alpha\":{\"value\":0.5},\"fill_color\":{\"value\":\"lightgrey\"},\"left_units\":\"screen\",\"level\":\"overlay\",\"line_alpha\":{\"value\":1.0},\"line_color\":{\"value\":\"black\"},\"line_dash\":[4,4],\"line_width\":{\"value\":2},\"plot\":null,\"render_mode\":\"css\",\"right_units\":\"screen\",\"top_units\":\"screen\"},\"id\":\"6f8ca4a6-6979-4cf0-a7ea-b8f6adabf8d7\",\"type\":\"BoxAnnotation\"},{\"attributes\":{},\"id\":\"b4febb35-f636-4dbe-a23f-e5dff8a5934e\",\"type\":\"BasicTicker\"}],\"root_ids\":[\"99b68a93-b33b-4363-aaf6-6e5cd38d0a38\"]},\"title\":\"Bokeh Application\",\"version\":\"0.12.3\"}};\n",
       "            var render_items = [{\"docid\":\"effaf678-2892-4cc2-ac8a-a689b10e80bb\",\"elementid\":\"87afaad5-5fc2-44dc-a6f9-8f900ae0b0f5\",\"modelid\":\"99b68a93-b33b-4363-aaf6-6e5cd38d0a38\"}];\n",
       "            \n",
       "            Bokeh.embed.embed_items(docs_json, render_items);\n",
       "        });\n",
       "      },\n",
       "      function(Bokeh) {\n",
       "      }\n",
       "    ];\n",
       "  \n",
       "    function run_inline_js() {\n",
       "      \n",
       "      if ((window.Bokeh !== undefined) || (force === \"1\")) {\n",
       "        for (var i = 0; i < inline_js.length; i++) {\n",
       "          inline_js[i](window.Bokeh);\n",
       "        }if (force === \"1\") {\n",
       "          display_loaded();\n",
       "        }} else if (Date.now() < window._bokeh_timeout) {\n",
       "        setTimeout(run_inline_js, 100);\n",
       "      } else if (!window._bokeh_failed_load) {\n",
       "        console.log(\"Bokeh: BokehJS failed to load within specified timeout.\");\n",
       "        window._bokeh_failed_load = true;\n",
       "      } else if (!force) {\n",
       "        var cell = $(\"#87afaad5-5fc2-44dc-a6f9-8f900ae0b0f5\").parents('.cell').data().cell;\n",
       "        cell.output_area.append_execute_result(NB_LOAD_WARNING)\n",
       "      }\n",
       "  \n",
       "    }\n",
       "  \n",
       "    if (window._bokeh_is_loading === 0) {\n",
       "      console.log(\"Bokeh: BokehJS loaded, going straight to plotting\");\n",
       "      run_inline_js();\n",
       "    } else {\n",
       "      load_libs(js_urls, function() {\n",
       "        console.log(\"Bokeh: BokehJS plotting callback run at\", now());\n",
       "        run_inline_js();\n",
       "      });\n",
       "    }\n",
       "  }(this));\n",
       "</script>"
      ]
     },
     "metadata": {},
     "output_type": "display_data"
    }
   ],
   "source": [
    "loss_kl = figure(width=500, height=500)\n",
    "\n",
    "loss_kl.line(range(len(kl_divs)), kl_divs, line_width=0.5, color=\"red\")\n",
    "\n",
    "show(loss_kl)"
   ]
  },
  {
   "cell_type": "code",
   "execution_count": 26,
   "metadata": {
    "collapsed": false
   },
   "outputs": [
    {
     "data": {
      "text/html": [
       "\n",
       "\n",
       "    <div class=\"bk-root\">\n",
       "        <div class=\"plotdiv\" id=\"3675623e-cf8f-494d-b8a1-9e6339da0356\"></div>\n",
       "    </div>\n",
       "<script type=\"text/javascript\">\n",
       "  \n",
       "  (function(global) {\n",
       "    function now() {\n",
       "      return new Date();\n",
       "    }\n",
       "  \n",
       "    var force = \"\";\n",
       "  \n",
       "    if (typeof (window._bokeh_onload_callbacks) === \"undefined\" || force !== \"\") {\n",
       "      window._bokeh_onload_callbacks = [];\n",
       "      window._bokeh_is_loading = undefined;\n",
       "    }\n",
       "  \n",
       "  \n",
       "    \n",
       "    if (typeof (window._bokeh_timeout) === \"undefined\" || force !== \"\") {\n",
       "      window._bokeh_timeout = Date.now() + 0;\n",
       "      window._bokeh_failed_load = false;\n",
       "    }\n",
       "  \n",
       "    var NB_LOAD_WARNING = {'data': {'text/html':\n",
       "       \"<div style='background-color: #fdd'>\\n\"+\n",
       "       \"<p>\\n\"+\n",
       "       \"BokehJS does not appear to have successfully loaded. If loading BokehJS from CDN, this \\n\"+\n",
       "       \"may be due to a slow or bad network connection. Possible fixes:\\n\"+\n",
       "       \"</p>\\n\"+\n",
       "       \"<ul>\\n\"+\n",
       "       \"<li>re-rerun `output_notebook()` to attempt to load from CDN again, or</li>\\n\"+\n",
       "       \"<li>use INLINE resources instead, as so:</li>\\n\"+\n",
       "       \"</ul>\\n\"+\n",
       "       \"<code>\\n\"+\n",
       "       \"from bokeh.resources import INLINE\\n\"+\n",
       "       \"output_notebook(resources=INLINE)\\n\"+\n",
       "       \"</code>\\n\"+\n",
       "       \"</div>\"}};\n",
       "  \n",
       "    function display_loaded() {\n",
       "      if (window.Bokeh !== undefined) {\n",
       "        Bokeh.$(\"#3675623e-cf8f-494d-b8a1-9e6339da0356\").text(\"BokehJS successfully loaded.\");\n",
       "      } else if (Date.now() < window._bokeh_timeout) {\n",
       "        setTimeout(display_loaded, 100)\n",
       "      }\n",
       "    }\n",
       "  \n",
       "    function run_callbacks() {\n",
       "      window._bokeh_onload_callbacks.forEach(function(callback) { callback() });\n",
       "      delete window._bokeh_onload_callbacks\n",
       "      console.info(\"Bokeh: all callbacks have finished\");\n",
       "    }\n",
       "  \n",
       "    function load_libs(js_urls, callback) {\n",
       "      window._bokeh_onload_callbacks.push(callback);\n",
       "      if (window._bokeh_is_loading > 0) {\n",
       "        console.log(\"Bokeh: BokehJS is being loaded, scheduling callback at\", now());\n",
       "        return null;\n",
       "      }\n",
       "      if (js_urls == null || js_urls.length === 0) {\n",
       "        run_callbacks();\n",
       "        return null;\n",
       "      }\n",
       "      console.log(\"Bokeh: BokehJS not loaded, scheduling load and callback at\", now());\n",
       "      window._bokeh_is_loading = js_urls.length;\n",
       "      for (var i = 0; i < js_urls.length; i++) {\n",
       "        var url = js_urls[i];\n",
       "        var s = document.createElement('script');\n",
       "        s.src = url;\n",
       "        s.async = false;\n",
       "        s.onreadystatechange = s.onload = function() {\n",
       "          window._bokeh_is_loading--;\n",
       "          if (window._bokeh_is_loading === 0) {\n",
       "            console.log(\"Bokeh: all BokehJS libraries loaded\");\n",
       "            run_callbacks()\n",
       "          }\n",
       "        };\n",
       "        s.onerror = function() {\n",
       "          console.warn(\"failed to load library \" + url);\n",
       "        };\n",
       "        console.log(\"Bokeh: injecting script tag for BokehJS library: \", url);\n",
       "        document.getElementsByTagName(\"head\")[0].appendChild(s);\n",
       "      }\n",
       "    };var element = document.getElementById(\"3675623e-cf8f-494d-b8a1-9e6339da0356\");\n",
       "    if (element == null) {\n",
       "      console.log(\"Bokeh: ERROR: autoload.js configured with elementid '3675623e-cf8f-494d-b8a1-9e6339da0356' but no matching script tag was found. \")\n",
       "      return false;\n",
       "    }\n",
       "  \n",
       "    var js_urls = [];\n",
       "  \n",
       "    var inline_js = [\n",
       "      function(Bokeh) {\n",
       "        Bokeh.$(function() {\n",
       "            var docs_json = {\"bf2cb25d-bc3b-4326-a3f0-bc5805e32f5a\":{\"roots\":{\"references\":[{\"attributes\":{},\"id\":\"7ac9d23f-13be-4277-878a-60321ac0a804\",\"type\":\"ToolEvents\"},{\"attributes\":{\"plot\":{\"id\":\"6237519e-ad7f-4fd7-989b-f60133cd0c91\",\"subtype\":\"Figure\",\"type\":\"Plot\"}},\"id\":\"5a91ae52-db7b-4f8b-8d6a-8a2913791188\",\"type\":\"PanTool\"},{\"attributes\":{\"data_source\":{\"id\":\"5fb1b4cd-b5bc-47b8-9120-aaac573fe878\",\"type\":\"ColumnDataSource\"},\"glyph\":{\"id\":\"b00b5fa0-b07b-4b7f-9c86-d1a37a46490b\",\"type\":\"Line\"},\"hover_glyph\":null,\"nonselection_glyph\":{\"id\":\"b095f920-3f1c-4571-9420-ee20d25e8668\",\"type\":\"Line\"},\"selection_glyph\":null},\"id\":\"97c06dbe-aa54-4bbd-9aa5-2f1a9ee60185\",\"type\":\"GlyphRenderer\"},{\"attributes\":{},\"id\":\"3e01244d-56bc-468d-8f70-7cddd4ff69da\",\"type\":\"BasicTickFormatter\"},{\"attributes\":{\"plot\":{\"id\":\"6237519e-ad7f-4fd7-989b-f60133cd0c91\",\"subtype\":\"Figure\",\"type\":\"Plot\"}},\"id\":\"d5100603-fbfb-4793-993f-956ebeed6087\",\"type\":\"HelpTool\"},{\"attributes\":{\"below\":[{\"id\":\"115f11cb-6920-4f2a-ad95-c8eaa6fd41e0\",\"type\":\"LinearAxis\"}],\"left\":[{\"id\":\"cda9c19e-279b-4f73-9b63-beafb8f9a49f\",\"type\":\"LinearAxis\"}],\"plot_height\":500,\"plot_width\":500,\"renderers\":[{\"id\":\"115f11cb-6920-4f2a-ad95-c8eaa6fd41e0\",\"type\":\"LinearAxis\"},{\"id\":\"2a019637-a21a-4222-baaf-d0a796ac9d89\",\"type\":\"Grid\"},{\"id\":\"cda9c19e-279b-4f73-9b63-beafb8f9a49f\",\"type\":\"LinearAxis\"},{\"id\":\"b0f1e3b9-654a-4a24-826a-f7280b4f13fb\",\"type\":\"Grid\"},{\"id\":\"7b29eda4-3ccc-4c0d-8d58-0be47c67413d\",\"type\":\"BoxAnnotation\"},{\"id\":\"97c06dbe-aa54-4bbd-9aa5-2f1a9ee60185\",\"type\":\"GlyphRenderer\"}],\"title\":{\"id\":\"9a7d115a-bca4-4fd9-9a00-15d095ff7873\",\"type\":\"Title\"},\"tool_events\":{\"id\":\"7ac9d23f-13be-4277-878a-60321ac0a804\",\"type\":\"ToolEvents\"},\"toolbar\":{\"id\":\"dbd18245-b4e9-43f1-a9cb-831197668360\",\"type\":\"Toolbar\"},\"x_range\":{\"id\":\"a9da096f-43bb-4d54-a4b2-b09d832b7773\",\"type\":\"DataRange1d\"},\"y_range\":{\"id\":\"4ea8c68e-814e-4259-8e58-30961cf5a4c9\",\"type\":\"DataRange1d\"}},\"id\":\"6237519e-ad7f-4fd7-989b-f60133cd0c91\",\"subtype\":\"Figure\",\"type\":\"Plot\"},{\"attributes\":{\"active_drag\":\"auto\",\"active_scroll\":\"auto\",\"active_tap\":\"auto\",\"tools\":[{\"id\":\"5a91ae52-db7b-4f8b-8d6a-8a2913791188\",\"type\":\"PanTool\"},{\"id\":\"2119dd0b-019a-4c1d-8337-6bc7f359c014\",\"type\":\"WheelZoomTool\"},{\"id\":\"f7756f39-0c40-427c-ad89-76da950c7a45\",\"type\":\"BoxZoomTool\"},{\"id\":\"fb84a161-8738-47ec-b72a-697c1a40ce36\",\"type\":\"SaveTool\"},{\"id\":\"dc0f9a3a-dffa-47a6-aadb-76ae6d644202\",\"type\":\"ResetTool\"},{\"id\":\"d5100603-fbfb-4793-993f-956ebeed6087\",\"type\":\"HelpTool\"}]},\"id\":\"dbd18245-b4e9-43f1-a9cb-831197668360\",\"type\":\"Toolbar\"},{\"attributes\":{},\"id\":\"125e828e-f44d-4321-9387-43a404478446\",\"type\":\"BasicTicker\"},{\"attributes\":{\"callback\":null},\"id\":\"a9da096f-43bb-4d54-a4b2-b09d832b7773\",\"type\":\"DataRange1d\"},{\"attributes\":{\"plot\":{\"id\":\"6237519e-ad7f-4fd7-989b-f60133cd0c91\",\"subtype\":\"Figure\",\"type\":\"Plot\"}},\"id\":\"2119dd0b-019a-4c1d-8337-6bc7f359c014\",\"type\":\"WheelZoomTool\"},{\"attributes\":{\"bottom_units\":\"screen\",\"fill_alpha\":{\"value\":0.5},\"fill_color\":{\"value\":\"lightgrey\"},\"left_units\":\"screen\",\"level\":\"overlay\",\"line_alpha\":{\"value\":1.0},\"line_color\":{\"value\":\"black\"},\"line_dash\":[4,4],\"line_width\":{\"value\":2},\"plot\":null,\"render_mode\":\"css\",\"right_units\":\"screen\",\"top_units\":\"screen\"},\"id\":\"7b29eda4-3ccc-4c0d-8d58-0be47c67413d\",\"type\":\"BoxAnnotation\"},{\"attributes\":{\"overlay\":{\"id\":\"7b29eda4-3ccc-4c0d-8d58-0be47c67413d\",\"type\":\"BoxAnnotation\"},\"plot\":{\"id\":\"6237519e-ad7f-4fd7-989b-f60133cd0c91\",\"subtype\":\"Figure\",\"type\":\"Plot\"}},\"id\":\"f7756f39-0c40-427c-ad89-76da950c7a45\",\"type\":\"BoxZoomTool\"},{\"attributes\":{},\"id\":\"9796a07b-9c3e-4863-9739-145301b372d9\",\"type\":\"BasicTickFormatter\"},{\"attributes\":{\"line_alpha\":{\"value\":0.1},\"line_color\":{\"value\":\"#1f77b4\"},\"line_width\":{\"value\":0.5},\"x\":{\"field\":\"x\"},\"y\":{\"field\":\"y\"}},\"id\":\"b095f920-3f1c-4571-9420-ee20d25e8668\",\"type\":\"Line\"},{\"attributes\":{\"line_color\":{\"value\":\"blue\"},\"line_width\":{\"value\":0.5},\"x\":{\"field\":\"x\"},\"y\":{\"field\":\"y\"}},\"id\":\"b00b5fa0-b07b-4b7f-9c86-d1a37a46490b\",\"type\":\"Line\"},{\"attributes\":{\"callback\":null,\"column_names\":[\"y\",\"x\"],\"data\":{\"x\":[0,1,2,3,4,5,6,7,8,9,10,11,12,13,14,15,16,17,18,19,20,21,22,23,24,25,26,27,28,29,30,31,32,33,34,35,36,37,38,39,40,41,42,43,44,45,46,47,48,49,50,51,52,53,54,55,56,57,58,59,60,61,62,63,64,65,66,67,68,69,70,71,72,73,74,75,76,77,78,79,80,81,82,83,84,85,86,87,88,89,90,91,92,93,94,95,96,97,98,99,100,101,102,103,104,105,106,107,108,109,110,111,112,113,114,115,116,117,118,119,120,121,122,123,124,125,126,127,128,129,130,131,132,133,134,135,136,137,138,139,140,141,142,143,144,145,146,147,148,149,150,151,152,153,154,155,156,157,158,159,160,161,162,163,164,165,166,167,168,169,170,171,172,173,174,175,176,177,178,179,180,181,182,183,184,185,186,187,188,189,190,191,192,193,194,195,196,197,198,199],\"y\":[[0.10189999639987946],[0.11349999904632568],[0.1145000010728836],[0.11550000309944153],[0.10320000350475311],[0.14239999651908875],[0.14920000731945038],[0.2020999938249588],[0.3100000023841858],[0.29809999465942383],[0.3100999891757965],[0.23880000412464142],[0.35109999775886536],[0.32679998874664307],[0.32710000872612],[0.38909998536109924],[0.3828999996185303],[0.365200012922287],[0.38449999690055847],[0.34380000829696655],[0.3555000126361847],[0.36559998989105225],[0.35910001397132874],[0.38580000400543213],[0.3734000027179718],[0.3919999897480011],[0.37860000133514404],[0.3917999863624573],[0.3822999894618988],[0.3788999915122986],[0.39010000228881836],[0.3898000121116638],[0.3804999887943268],[0.3806999921798706],[0.39399999380111694],[0.39419999718666077],[0.39419999718666077],[0.38359999656677246],[0.3912999927997589],[0.3846000134944916],[0.39649999141693115],[0.3862000107765198],[0.3968000113964081],[0.3928999900817871],[0.39070001244544983],[0.39879998564720154],[0.38960000872612],[0.3919999897480011],[0.39329999685287476],[0.3833000063896179],[0.38749998807907104],[0.396699994802475],[0.3993000090122223],[0.3912000060081482],[0.39559999108314514],[0.3921999931335449],[0.4002000093460083],[0.3921000063419342],[0.3887999951839447],[0.38940000534057617],[0.3946000039577484],[0.39500001072883606],[0.39590001106262207],[0.3930000066757202],[0.3995000123977661],[0.38580000400543213],[0.398499995470047],[0.39969998598098755],[0.39590001106262207],[0.3961000144481659],[0.3968999981880188],[0.3991999924182892],[0.3944000005722046],[0.3952000141143799],[0.3937999904155731],[0.39910000562667847],[0.3991999924182892],[0.3986000120639801],[0.39980000257492065],[0.398499995470047],[0.3831999897956848],[0.384799987077713],[0.39739999175071716],[0.39969998598098755],[0.3970000147819519],[0.3993000090122223],[0.4000000059604645],[0.3986999988555908],[0.39800000190734863],[0.3749000132083893],[0.40130001306533813],[0.3961000144481659],[0.3984000086784363],[0.4000000059604645],[0.39969998598098755],[0.40049999952316284],[0.400299996137619],[0.3986000120639801],[0.40130001306533813],[0.39800000190734863],[0.3962000012397766],[0.4009000062942505],[0.3968999981880188],[0.3790999948978424],[0.3873000144958496],[0.44449999928474426],[0.4555000066757202],[0.39719998836517334],[0.4512999951839447],[0.482699990272522],[0.45809999108314514],[0.4948999881744385],[0.4893999993801117],[0.4902999997138977],[0.48730000853538513],[0.5005000233650208],[0.5098000168800354],[0.4855000078678131],[0.48179998993873596],[0.49709999561309814],[0.5394999980926514],[0.5385000109672546],[0.5496000051498413],[0.492000013589859],[0.5145000219345093],[0.5062999725341797],[0.5447999835014343],[0.5555999875068665],[0.5097000002861023],[0.5335000157356262],[0.5418000221252441],[0.5343999862670898],[0.5526999831199646],[0.5486999750137329],[0.550000011920929],[0.5554999709129333],[0.548799991607666],[0.5350000262260437],[0.5568000078201294],[0.5594000220298767],[0.5501000285148621],[0.5460000038146973],[0.5885000228881836],[0.5956000089645386],[0.6248999834060669],[0.5853999853134155],[0.6248000264167786],[0.6754999756813049],[0.63919997215271],[0.6373999714851379],[0.6173999905586243],[0.703000009059906],[0.705299973487854],[0.6972000002861023],[0.6909000277519226],[0.691100001335144],[0.7071999907493591],[0.680400013923645],[0.631600022315979],[0.7239999771118164],[0.6776999831199646],[0.695900022983551],[0.6976000070571899],[0.6413999795913696],[0.6883000135421753],[0.72079998254776],[0.7078999876976013],[0.7124999761581421],[0.6877999901771545],[0.6692000031471252],[0.7161999940872192],[0.7049000263214111],[0.7222999930381775],[0.7192000150680542],[0.7117999792098999],[0.7264000177383423],[0.7240999937057495],[0.7135999798774719],[0.7315000295639038],[0.7074000239372253],[0.7069000005722046],[0.7156000137329102],[0.7110000252723694],[0.6976000070571899],[0.7250999808311462],[0.7318000197410583],[0.7174000144004822],[0.7342000007629395],[0.7156000137329102],[0.7297000288963318],[0.7250999808311462],[0.7336999773979187],[0.7222999930381775],[0.7257000207901001],[0.7283999919891357],[0.7214999794960022],[0.7110999822616577],[0.7290999889373779],[0.7052000164985657],[0.7386000156402588]]}},\"id\":\"5fb1b4cd-b5bc-47b8-9120-aaac573fe878\",\"type\":\"ColumnDataSource\"},{\"attributes\":{\"plot\":{\"id\":\"6237519e-ad7f-4fd7-989b-f60133cd0c91\",\"subtype\":\"Figure\",\"type\":\"Plot\"}},\"id\":\"dc0f9a3a-dffa-47a6-aadb-76ae6d644202\",\"type\":\"ResetTool\"},{\"attributes\":{\"formatter\":{\"id\":\"3e01244d-56bc-468d-8f70-7cddd4ff69da\",\"type\":\"BasicTickFormatter\"},\"plot\":{\"id\":\"6237519e-ad7f-4fd7-989b-f60133cd0c91\",\"subtype\":\"Figure\",\"type\":\"Plot\"},\"ticker\":{\"id\":\"125e828e-f44d-4321-9387-43a404478446\",\"type\":\"BasicTicker\"}},\"id\":\"cda9c19e-279b-4f73-9b63-beafb8f9a49f\",\"type\":\"LinearAxis\"},{\"attributes\":{\"formatter\":{\"id\":\"9796a07b-9c3e-4863-9739-145301b372d9\",\"type\":\"BasicTickFormatter\"},\"plot\":{\"id\":\"6237519e-ad7f-4fd7-989b-f60133cd0c91\",\"subtype\":\"Figure\",\"type\":\"Plot\"},\"ticker\":{\"id\":\"601276f1-5021-4d10-b775-a73ee7926198\",\"type\":\"BasicTicker\"}},\"id\":\"115f11cb-6920-4f2a-ad95-c8eaa6fd41e0\",\"type\":\"LinearAxis\"},{\"attributes\":{\"plot\":{\"id\":\"6237519e-ad7f-4fd7-989b-f60133cd0c91\",\"subtype\":\"Figure\",\"type\":\"Plot\"},\"ticker\":{\"id\":\"601276f1-5021-4d10-b775-a73ee7926198\",\"type\":\"BasicTicker\"}},\"id\":\"2a019637-a21a-4222-baaf-d0a796ac9d89\",\"type\":\"Grid\"},{\"attributes\":{\"plot\":{\"id\":\"6237519e-ad7f-4fd7-989b-f60133cd0c91\",\"subtype\":\"Figure\",\"type\":\"Plot\"}},\"id\":\"fb84a161-8738-47ec-b72a-697c1a40ce36\",\"type\":\"SaveTool\"},{\"attributes\":{\"dimension\":1,\"plot\":{\"id\":\"6237519e-ad7f-4fd7-989b-f60133cd0c91\",\"subtype\":\"Figure\",\"type\":\"Plot\"},\"ticker\":{\"id\":\"125e828e-f44d-4321-9387-43a404478446\",\"type\":\"BasicTicker\"}},\"id\":\"b0f1e3b9-654a-4a24-826a-f7280b4f13fb\",\"type\":\"Grid\"},{\"attributes\":{},\"id\":\"601276f1-5021-4d10-b775-a73ee7926198\",\"type\":\"BasicTicker\"},{\"attributes\":{\"callback\":null},\"id\":\"4ea8c68e-814e-4259-8e58-30961cf5a4c9\",\"type\":\"DataRange1d\"},{\"attributes\":{\"plot\":null,\"text\":null},\"id\":\"9a7d115a-bca4-4fd9-9a00-15d095ff7873\",\"type\":\"Title\"}],\"root_ids\":[\"6237519e-ad7f-4fd7-989b-f60133cd0c91\"]},\"title\":\"Bokeh Application\",\"version\":\"0.12.3\"}};\n",
       "            var render_items = [{\"docid\":\"bf2cb25d-bc3b-4326-a3f0-bc5805e32f5a\",\"elementid\":\"3675623e-cf8f-494d-b8a1-9e6339da0356\",\"modelid\":\"6237519e-ad7f-4fd7-989b-f60133cd0c91\"}];\n",
       "            \n",
       "            Bokeh.embed.embed_items(docs_json, render_items);\n",
       "        });\n",
       "      },\n",
       "      function(Bokeh) {\n",
       "      }\n",
       "    ];\n",
       "  \n",
       "    function run_inline_js() {\n",
       "      \n",
       "      if ((window.Bokeh !== undefined) || (force === \"1\")) {\n",
       "        for (var i = 0; i < inline_js.length; i++) {\n",
       "          inline_js[i](window.Bokeh);\n",
       "        }if (force === \"1\") {\n",
       "          display_loaded();\n",
       "        }} else if (Date.now() < window._bokeh_timeout) {\n",
       "        setTimeout(run_inline_js, 100);\n",
       "      } else if (!window._bokeh_failed_load) {\n",
       "        console.log(\"Bokeh: BokehJS failed to load within specified timeout.\");\n",
       "        window._bokeh_failed_load = true;\n",
       "      } else if (!force) {\n",
       "        var cell = $(\"#3675623e-cf8f-494d-b8a1-9e6339da0356\").parents('.cell').data().cell;\n",
       "        cell.output_area.append_execute_result(NB_LOAD_WARNING)\n",
       "      }\n",
       "  \n",
       "    }\n",
       "  \n",
       "    if (window._bokeh_is_loading === 0) {\n",
       "      console.log(\"Bokeh: BokehJS loaded, going straight to plotting\");\n",
       "      run_inline_js();\n",
       "    } else {\n",
       "      load_libs(js_urls, function() {\n",
       "        console.log(\"Bokeh: BokehJS plotting callback run at\", now());\n",
       "        run_inline_js();\n",
       "      });\n",
       "    }\n",
       "  }(this));\n",
       "</script>"
      ]
     },
     "metadata": {},
     "output_type": "display_data"
    }
   ],
   "source": [
    "acc_g = figure(width=500, height=500)\n",
    "\n",
    "acc_g.line(range(len(accs)), accs, line_width=0.5, color=\"blue\")\n",
    "\n",
    "show(acc_g)"
   ]
  }
 ],
 "metadata": {
  "kernelspec": {
   "display_name": "Python 2",
   "language": "python",
   "name": "python2"
  },
  "language_info": {
   "codemirror_mode": {
    "name": "ipython",
    "version": 2
   },
   "file_extension": ".py",
   "mimetype": "text/x-python",
   "name": "python",
   "nbconvert_exporter": "python",
   "pygments_lexer": "ipython2",
   "version": "2.7.12"
  }
 },
 "nbformat": 4,
 "nbformat_minor": 0
}
